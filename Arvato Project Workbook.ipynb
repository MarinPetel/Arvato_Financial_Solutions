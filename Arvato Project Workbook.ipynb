{
 "cells": [
  {
   "cell_type": "markdown",
   "metadata": {},
   "source": [
    "# Capstone Project: Create a Customer Segmentation Report for Arvato Financial Services\n",
    "\n",
    "In this project, you will analyze demographics data for customers of a mail-order sales company in Germany, comparing it against demographics information for the general population. You'll use unsupervised learning techniques to perform customer segmentation, identifying the parts of the population that best describe the core customer base of the company. Then, you'll apply what you've learned on a third dataset with demographics information for targets of a marketing campaign for the company, and use a model to predict which individuals are most likely to convert into becoming customers for the company. The data that you will use has been provided by our partners at Bertelsmann Arvato Analytics, and represents a real-life data science task.\n",
    "\n",
    "If you completed the first term of this program, you will be familiar with the first part of this project, from the unsupervised learning project. The versions of those two datasets used in this project will include many more features and has not been pre-cleaned. You are also free to choose whatever approach you'd like to analyzing the data rather than follow pre-determined steps. In your work on this project, make sure that you carefully document your steps and decisions, since your main deliverable for this project will be a blog post reporting your findings."
   ]
  },
  {
   "cell_type": "code",
   "execution_count": 1,
   "metadata": {},
   "outputs": [],
   "source": [
    "# import libraries here; add more as necessary\n",
    "import pickle\n",
    "import numpy as np\n",
    "import pandas as pd\n",
    "import matplotlib.pyplot as plt\n",
    "import seaborn as sns\n",
    "\n",
    "%matplotlib inline"
   ]
  },
  {
   "cell_type": "code",
   "execution_count": 2,
   "metadata": {},
   "outputs": [],
   "source": [
    "pd.set_option('max_colwidth', None)"
   ]
  },
  {
   "cell_type": "markdown",
   "metadata": {},
   "source": [
    "## Part 0: Get to Know the Data\n",
    "\n",
    "There are four data files associated with this project:\n",
    "\n",
    "- `Udacity_AZDIAS_052018.csv`: Demographics data for the general population of Germany; 891 211 persons (rows) x 366 features (columns).\n",
    "- `Udacity_CUSTOMERS_052018.csv`: Demographics data for customers of a mail-order company; 191 652 persons (rows) x 369 features (columns).\n",
    "- `Udacity_MAILOUT_052018_TRAIN.csv`: Demographics data for individuals who were targets of a marketing campaign; 42 982 persons (rows) x 367 (columns).\n",
    "- `Udacity_MAILOUT_052018_TEST.csv`: Demographics data for individuals who were targets of a marketing campaign; 42 833 persons (rows) x 366 (columns).\n",
    "\n",
    "Each row of the demographics files represents a single person, but also includes information outside of individuals, including information about their household, building, and neighborhood. Use the information from the first two files to figure out how customers (\"CUSTOMERS\") are similar to or differ from the general population at large (\"AZDIAS\"), then use your analysis to make predictions on the other two files (\"MAILOUT\"), predicting which recipients are most likely to become a customer for the mail-order company.\n",
    "\n",
    "The \"CUSTOMERS\" file contains three extra columns ('CUSTOMER_GROUP', 'ONLINE_PURCHASE', and 'PRODUCT_GROUP'), which provide broad information about the customers depicted in the file. The original \"MAILOUT\" file included one additional column, \"RESPONSE\", which indicated whether or not each recipient became a customer of the company. For the \"TRAIN\" subset, this column has been retained, but in the \"TEST\" subset it has been removed; it is against that withheld column that your final predictions will be assessed in the Kaggle competition.\n",
    "\n",
    "Otherwise, all of the remaining columns are the same between the three data files. For more information about the columns depicted in the files, you can refer to two Excel spreadsheets provided in the workspace. [One of them](./DIAS Information Levels - Attributes 2017.xlsx) is a top-level list of attributes and descriptions, organized by informational category. [The other](./DIAS Attributes - Values 2017.xlsx) is a detailed mapping of data values for each feature in alphabetical order.\n",
    "\n",
    "In the below cell, we've provided some initial code to load in the first two datasets. Note for all of the `.csv` data files in this project that they're semicolon (`;`) delimited, so an additional argument in the [`read_csv()`](https://pandas.pydata.org/pandas-docs/stable/generated/pandas.read_csv.html) call has been included to read in the data properly. Also, considering the size of the datasets, it may take some time for them to load completely.\n",
    "\n",
    "You'll notice when the data is loaded in that a warning message will immediately pop up. Before you really start digging into the modeling and analysis, you're going to need to perform some cleaning. Take some time to browse the structure of the data and look over the informational spreadsheets to understand the data values. Make some decisions on which features to keep, which features to drop, and if any revisions need to be made on data formats. It'll be a good idea to create a function with pre-processing steps, since you'll need to clean all of the datasets before you work with them."
   ]
  },
  {
   "cell_type": "code",
   "execution_count": 3,
   "metadata": {
    "scrolled": true
   },
   "outputs": [
    {
     "name": "stderr",
     "output_type": "stream",
     "text": [
      "C:\\Users\\mrnpe\\Anaconda3\\lib\\site-packages\\IPython\\core\\interactiveshell.py:3165: DtypeWarning: Columns (19,20) have mixed types.Specify dtype option on import or set low_memory=False.\n",
      "  has_raised = await self.run_ast_nodes(code_ast.body, cell_name,\n"
     ]
    }
   ],
   "source": [
    "# load in the data\n",
    "azdias = pd.read_csv('AZDIAS.csv')"
   ]
  },
  {
   "cell_type": "code",
   "execution_count": 4,
   "metadata": {},
   "outputs": [],
   "source": [
    "customers = pd.read_csv('CUSTOMERS.csv')"
   ]
  },
  {
   "cell_type": "code",
   "execution_count": 5,
   "metadata": {},
   "outputs": [],
   "source": [
    "mailout_train = pd.read_csv('MAILOUT_TRAIN.csv')"
   ]
  },
  {
   "cell_type": "code",
   "execution_count": 6,
   "metadata": {},
   "outputs": [],
   "source": [
    "mailout_test = pd.read_csv('MAILOUT_test.csv')"
   ]
  },
  {
   "cell_type": "code",
   "execution_count": 7,
   "metadata": {
    "scrolled": true
   },
   "outputs": [
    {
     "name": "stdout",
     "output_type": "stream",
     "text": [
      "<class 'pandas.core.frame.DataFrame'>\n",
      "RangeIndex: 891221 entries, 0 to 891220\n",
      "Columns: 367 entries, Unnamed: 0 to ALTERSKATEGORIE_GROB\n",
      "dtypes: float64(267), int64(94), object(6)\n",
      "memory usage: 2.4+ GB\n"
     ]
    }
   ],
   "source": [
    "azdias.info()"
   ]
  },
  {
   "cell_type": "code",
   "execution_count": 8,
   "metadata": {},
   "outputs": [
    {
     "data": {
      "text/html": [
       "<div>\n",
       "<style scoped>\n",
       "    .dataframe tbody tr th:only-of-type {\n",
       "        vertical-align: middle;\n",
       "    }\n",
       "\n",
       "    .dataframe tbody tr th {\n",
       "        vertical-align: top;\n",
       "    }\n",
       "\n",
       "    .dataframe thead th {\n",
       "        text-align: right;\n",
       "    }\n",
       "</style>\n",
       "<table border=\"1\" class=\"dataframe\">\n",
       "  <thead>\n",
       "    <tr style=\"text-align: right;\">\n",
       "      <th></th>\n",
       "      <th>Unnamed: 0</th>\n",
       "      <th>LNR</th>\n",
       "      <th>AGER_TYP</th>\n",
       "      <th>AKT_DAT_KL</th>\n",
       "      <th>ALTER_HH</th>\n",
       "      <th>ALTER_KIND1</th>\n",
       "      <th>ALTER_KIND2</th>\n",
       "      <th>ALTER_KIND3</th>\n",
       "      <th>ALTER_KIND4</th>\n",
       "      <th>ALTERSKATEGORIE_FEIN</th>\n",
       "      <th>...</th>\n",
       "      <th>VHN</th>\n",
       "      <th>VK_DHT4A</th>\n",
       "      <th>VK_DISTANZ</th>\n",
       "      <th>VK_ZG11</th>\n",
       "      <th>W_KEIT_KIND_HH</th>\n",
       "      <th>WOHNDAUER_2008</th>\n",
       "      <th>WOHNLAGE</th>\n",
       "      <th>ZABEOTYP</th>\n",
       "      <th>ANREDE_KZ</th>\n",
       "      <th>ALTERSKATEGORIE_GROB</th>\n",
       "    </tr>\n",
       "  </thead>\n",
       "  <tbody>\n",
       "    <tr>\n",
       "      <th>0</th>\n",
       "      <td>0</td>\n",
       "      <td>910215</td>\n",
       "      <td>-1</td>\n",
       "      <td>NaN</td>\n",
       "      <td>NaN</td>\n",
       "      <td>NaN</td>\n",
       "      <td>NaN</td>\n",
       "      <td>NaN</td>\n",
       "      <td>NaN</td>\n",
       "      <td>NaN</td>\n",
       "      <td>...</td>\n",
       "      <td>NaN</td>\n",
       "      <td>NaN</td>\n",
       "      <td>NaN</td>\n",
       "      <td>NaN</td>\n",
       "      <td>NaN</td>\n",
       "      <td>NaN</td>\n",
       "      <td>NaN</td>\n",
       "      <td>3</td>\n",
       "      <td>1</td>\n",
       "      <td>2</td>\n",
       "    </tr>\n",
       "    <tr>\n",
       "      <th>1</th>\n",
       "      <td>1</td>\n",
       "      <td>910220</td>\n",
       "      <td>-1</td>\n",
       "      <td>9.0</td>\n",
       "      <td>0.0</td>\n",
       "      <td>NaN</td>\n",
       "      <td>NaN</td>\n",
       "      <td>NaN</td>\n",
       "      <td>NaN</td>\n",
       "      <td>21.0</td>\n",
       "      <td>...</td>\n",
       "      <td>4.0</td>\n",
       "      <td>8.0</td>\n",
       "      <td>11.0</td>\n",
       "      <td>10.0</td>\n",
       "      <td>3.0</td>\n",
       "      <td>9.0</td>\n",
       "      <td>4.0</td>\n",
       "      <td>5</td>\n",
       "      <td>2</td>\n",
       "      <td>1</td>\n",
       "    </tr>\n",
       "    <tr>\n",
       "      <th>2</th>\n",
       "      <td>2</td>\n",
       "      <td>910225</td>\n",
       "      <td>-1</td>\n",
       "      <td>9.0</td>\n",
       "      <td>17.0</td>\n",
       "      <td>NaN</td>\n",
       "      <td>NaN</td>\n",
       "      <td>NaN</td>\n",
       "      <td>NaN</td>\n",
       "      <td>17.0</td>\n",
       "      <td>...</td>\n",
       "      <td>2.0</td>\n",
       "      <td>9.0</td>\n",
       "      <td>9.0</td>\n",
       "      <td>6.0</td>\n",
       "      <td>3.0</td>\n",
       "      <td>9.0</td>\n",
       "      <td>2.0</td>\n",
       "      <td>5</td>\n",
       "      <td>2</td>\n",
       "      <td>3</td>\n",
       "    </tr>\n",
       "    <tr>\n",
       "      <th>3</th>\n",
       "      <td>3</td>\n",
       "      <td>910226</td>\n",
       "      <td>2</td>\n",
       "      <td>1.0</td>\n",
       "      <td>13.0</td>\n",
       "      <td>NaN</td>\n",
       "      <td>NaN</td>\n",
       "      <td>NaN</td>\n",
       "      <td>NaN</td>\n",
       "      <td>13.0</td>\n",
       "      <td>...</td>\n",
       "      <td>0.0</td>\n",
       "      <td>7.0</td>\n",
       "      <td>10.0</td>\n",
       "      <td>11.0</td>\n",
       "      <td>NaN</td>\n",
       "      <td>9.0</td>\n",
       "      <td>7.0</td>\n",
       "      <td>3</td>\n",
       "      <td>2</td>\n",
       "      <td>4</td>\n",
       "    </tr>\n",
       "    <tr>\n",
       "      <th>4</th>\n",
       "      <td>4</td>\n",
       "      <td>910241</td>\n",
       "      <td>-1</td>\n",
       "      <td>1.0</td>\n",
       "      <td>20.0</td>\n",
       "      <td>NaN</td>\n",
       "      <td>NaN</td>\n",
       "      <td>NaN</td>\n",
       "      <td>NaN</td>\n",
       "      <td>14.0</td>\n",
       "      <td>...</td>\n",
       "      <td>2.0</td>\n",
       "      <td>3.0</td>\n",
       "      <td>5.0</td>\n",
       "      <td>4.0</td>\n",
       "      <td>2.0</td>\n",
       "      <td>9.0</td>\n",
       "      <td>3.0</td>\n",
       "      <td>4</td>\n",
       "      <td>1</td>\n",
       "      <td>3</td>\n",
       "    </tr>\n",
       "  </tbody>\n",
       "</table>\n",
       "<p>5 rows × 367 columns</p>\n",
       "</div>"
      ],
      "text/plain": [
       "   Unnamed: 0     LNR  AGER_TYP  AKT_DAT_KL  ALTER_HH  ALTER_KIND1  \\\n",
       "0           0  910215        -1         NaN       NaN          NaN   \n",
       "1           1  910220        -1         9.0       0.0          NaN   \n",
       "2           2  910225        -1         9.0      17.0          NaN   \n",
       "3           3  910226         2         1.0      13.0          NaN   \n",
       "4           4  910241        -1         1.0      20.0          NaN   \n",
       "\n",
       "   ALTER_KIND2  ALTER_KIND3  ALTER_KIND4  ALTERSKATEGORIE_FEIN  ...  VHN  \\\n",
       "0          NaN          NaN          NaN                   NaN  ...  NaN   \n",
       "1          NaN          NaN          NaN                  21.0  ...  4.0   \n",
       "2          NaN          NaN          NaN                  17.0  ...  2.0   \n",
       "3          NaN          NaN          NaN                  13.0  ...  0.0   \n",
       "4          NaN          NaN          NaN                  14.0  ...  2.0   \n",
       "\n",
       "   VK_DHT4A  VK_DISTANZ  VK_ZG11  W_KEIT_KIND_HH  WOHNDAUER_2008  WOHNLAGE  \\\n",
       "0       NaN         NaN      NaN             NaN             NaN       NaN   \n",
       "1       8.0        11.0     10.0             3.0             9.0       4.0   \n",
       "2       9.0         9.0      6.0             3.0             9.0       2.0   \n",
       "3       7.0        10.0     11.0             NaN             9.0       7.0   \n",
       "4       3.0         5.0      4.0             2.0             9.0       3.0   \n",
       "\n",
       "   ZABEOTYP ANREDE_KZ ALTERSKATEGORIE_GROB  \n",
       "0         3         1                    2  \n",
       "1         5         2                    1  \n",
       "2         5         2                    3  \n",
       "3         3         2                    4  \n",
       "4         4         1                    3  \n",
       "\n",
       "[5 rows x 367 columns]"
      ]
     },
     "execution_count": 8,
     "metadata": {},
     "output_type": "execute_result"
    }
   ],
   "source": [
    "azdias.head()"
   ]
  },
  {
   "cell_type": "code",
   "execution_count": 9,
   "metadata": {
    "scrolled": true
   },
   "outputs": [
    {
     "name": "stdout",
     "output_type": "stream",
     "text": [
      "<class 'pandas.core.frame.DataFrame'>\n",
      "RangeIndex: 191652 entries, 0 to 191651\n",
      "Columns: 370 entries, Unnamed: 0 to ALTERSKATEGORIE_GROB\n",
      "dtypes: float64(267), int64(95), object(8)\n",
      "memory usage: 541.0+ MB\n"
     ]
    }
   ],
   "source": [
    "customers.info()"
   ]
  },
  {
   "cell_type": "code",
   "execution_count": 10,
   "metadata": {},
   "outputs": [
    {
     "data": {
      "text/html": [
       "<div>\n",
       "<style scoped>\n",
       "    .dataframe tbody tr th:only-of-type {\n",
       "        vertical-align: middle;\n",
       "    }\n",
       "\n",
       "    .dataframe tbody tr th {\n",
       "        vertical-align: top;\n",
       "    }\n",
       "\n",
       "    .dataframe thead th {\n",
       "        text-align: right;\n",
       "    }\n",
       "</style>\n",
       "<table border=\"1\" class=\"dataframe\">\n",
       "  <thead>\n",
       "    <tr style=\"text-align: right;\">\n",
       "      <th></th>\n",
       "      <th>Unnamed: 0</th>\n",
       "      <th>LNR</th>\n",
       "      <th>AGER_TYP</th>\n",
       "      <th>AKT_DAT_KL</th>\n",
       "      <th>ALTER_HH</th>\n",
       "      <th>ALTER_KIND1</th>\n",
       "      <th>ALTER_KIND2</th>\n",
       "      <th>ALTER_KIND3</th>\n",
       "      <th>ALTER_KIND4</th>\n",
       "      <th>ALTERSKATEGORIE_FEIN</th>\n",
       "      <th>...</th>\n",
       "      <th>VK_ZG11</th>\n",
       "      <th>W_KEIT_KIND_HH</th>\n",
       "      <th>WOHNDAUER_2008</th>\n",
       "      <th>WOHNLAGE</th>\n",
       "      <th>ZABEOTYP</th>\n",
       "      <th>PRODUCT_GROUP</th>\n",
       "      <th>CUSTOMER_GROUP</th>\n",
       "      <th>ONLINE_PURCHASE</th>\n",
       "      <th>ANREDE_KZ</th>\n",
       "      <th>ALTERSKATEGORIE_GROB</th>\n",
       "    </tr>\n",
       "  </thead>\n",
       "  <tbody>\n",
       "    <tr>\n",
       "      <th>0</th>\n",
       "      <td>0</td>\n",
       "      <td>9626</td>\n",
       "      <td>2</td>\n",
       "      <td>1.0</td>\n",
       "      <td>10.0</td>\n",
       "      <td>NaN</td>\n",
       "      <td>NaN</td>\n",
       "      <td>NaN</td>\n",
       "      <td>NaN</td>\n",
       "      <td>10.0</td>\n",
       "      <td>...</td>\n",
       "      <td>2.0</td>\n",
       "      <td>6.0</td>\n",
       "      <td>9.0</td>\n",
       "      <td>7.0</td>\n",
       "      <td>3</td>\n",
       "      <td>COSMETIC_AND_FOOD</td>\n",
       "      <td>MULTI_BUYER</td>\n",
       "      <td>0</td>\n",
       "      <td>1</td>\n",
       "      <td>4</td>\n",
       "    </tr>\n",
       "    <tr>\n",
       "      <th>1</th>\n",
       "      <td>1</td>\n",
       "      <td>9628</td>\n",
       "      <td>-1</td>\n",
       "      <td>9.0</td>\n",
       "      <td>11.0</td>\n",
       "      <td>NaN</td>\n",
       "      <td>NaN</td>\n",
       "      <td>NaN</td>\n",
       "      <td>NaN</td>\n",
       "      <td>NaN</td>\n",
       "      <td>...</td>\n",
       "      <td>3.0</td>\n",
       "      <td>0.0</td>\n",
       "      <td>9.0</td>\n",
       "      <td>NaN</td>\n",
       "      <td>3</td>\n",
       "      <td>FOOD</td>\n",
       "      <td>SINGLE_BUYER</td>\n",
       "      <td>0</td>\n",
       "      <td>1</td>\n",
       "      <td>4</td>\n",
       "    </tr>\n",
       "    <tr>\n",
       "      <th>2</th>\n",
       "      <td>2</td>\n",
       "      <td>143872</td>\n",
       "      <td>-1</td>\n",
       "      <td>1.0</td>\n",
       "      <td>6.0</td>\n",
       "      <td>NaN</td>\n",
       "      <td>NaN</td>\n",
       "      <td>NaN</td>\n",
       "      <td>NaN</td>\n",
       "      <td>0.0</td>\n",
       "      <td>...</td>\n",
       "      <td>11.0</td>\n",
       "      <td>6.0</td>\n",
       "      <td>9.0</td>\n",
       "      <td>2.0</td>\n",
       "      <td>3</td>\n",
       "      <td>COSMETIC_AND_FOOD</td>\n",
       "      <td>MULTI_BUYER</td>\n",
       "      <td>0</td>\n",
       "      <td>2</td>\n",
       "      <td>4</td>\n",
       "    </tr>\n",
       "    <tr>\n",
       "      <th>3</th>\n",
       "      <td>3</td>\n",
       "      <td>143873</td>\n",
       "      <td>1</td>\n",
       "      <td>1.0</td>\n",
       "      <td>8.0</td>\n",
       "      <td>NaN</td>\n",
       "      <td>NaN</td>\n",
       "      <td>NaN</td>\n",
       "      <td>NaN</td>\n",
       "      <td>8.0</td>\n",
       "      <td>...</td>\n",
       "      <td>2.0</td>\n",
       "      <td>NaN</td>\n",
       "      <td>9.0</td>\n",
       "      <td>7.0</td>\n",
       "      <td>1</td>\n",
       "      <td>COSMETIC</td>\n",
       "      <td>MULTI_BUYER</td>\n",
       "      <td>0</td>\n",
       "      <td>1</td>\n",
       "      <td>4</td>\n",
       "    </tr>\n",
       "    <tr>\n",
       "      <th>4</th>\n",
       "      <td>4</td>\n",
       "      <td>143874</td>\n",
       "      <td>-1</td>\n",
       "      <td>1.0</td>\n",
       "      <td>20.0</td>\n",
       "      <td>NaN</td>\n",
       "      <td>NaN</td>\n",
       "      <td>NaN</td>\n",
       "      <td>NaN</td>\n",
       "      <td>14.0</td>\n",
       "      <td>...</td>\n",
       "      <td>4.0</td>\n",
       "      <td>2.0</td>\n",
       "      <td>9.0</td>\n",
       "      <td>3.0</td>\n",
       "      <td>1</td>\n",
       "      <td>FOOD</td>\n",
       "      <td>MULTI_BUYER</td>\n",
       "      <td>0</td>\n",
       "      <td>1</td>\n",
       "      <td>3</td>\n",
       "    </tr>\n",
       "  </tbody>\n",
       "</table>\n",
       "<p>5 rows × 370 columns</p>\n",
       "</div>"
      ],
      "text/plain": [
       "   Unnamed: 0     LNR  AGER_TYP  AKT_DAT_KL  ALTER_HH  ALTER_KIND1  \\\n",
       "0           0    9626         2         1.0      10.0          NaN   \n",
       "1           1    9628        -1         9.0      11.0          NaN   \n",
       "2           2  143872        -1         1.0       6.0          NaN   \n",
       "3           3  143873         1         1.0       8.0          NaN   \n",
       "4           4  143874        -1         1.0      20.0          NaN   \n",
       "\n",
       "   ALTER_KIND2  ALTER_KIND3  ALTER_KIND4  ALTERSKATEGORIE_FEIN  ...  VK_ZG11  \\\n",
       "0          NaN          NaN          NaN                  10.0  ...      2.0   \n",
       "1          NaN          NaN          NaN                   NaN  ...      3.0   \n",
       "2          NaN          NaN          NaN                   0.0  ...     11.0   \n",
       "3          NaN          NaN          NaN                   8.0  ...      2.0   \n",
       "4          NaN          NaN          NaN                  14.0  ...      4.0   \n",
       "\n",
       "   W_KEIT_KIND_HH  WOHNDAUER_2008  WOHNLAGE  ZABEOTYP      PRODUCT_GROUP  \\\n",
       "0             6.0             9.0       7.0         3  COSMETIC_AND_FOOD   \n",
       "1             0.0             9.0       NaN         3               FOOD   \n",
       "2             6.0             9.0       2.0         3  COSMETIC_AND_FOOD   \n",
       "3             NaN             9.0       7.0         1           COSMETIC   \n",
       "4             2.0             9.0       3.0         1               FOOD   \n",
       "\n",
       "   CUSTOMER_GROUP  ONLINE_PURCHASE ANREDE_KZ ALTERSKATEGORIE_GROB  \n",
       "0     MULTI_BUYER                0         1                    4  \n",
       "1    SINGLE_BUYER                0         1                    4  \n",
       "2     MULTI_BUYER                0         2                    4  \n",
       "3     MULTI_BUYER                0         1                    4  \n",
       "4     MULTI_BUYER                0         1                    3  \n",
       "\n",
       "[5 rows x 370 columns]"
      ]
     },
     "execution_count": 10,
     "metadata": {},
     "output_type": "execute_result"
    }
   ],
   "source": [
    "customers.head()"
   ]
  },
  {
   "cell_type": "code",
   "execution_count": 11,
   "metadata": {
    "scrolled": true
   },
   "outputs": [
    {
     "name": "stdout",
     "output_type": "stream",
     "text": [
      "<class 'pandas.core.frame.DataFrame'>\n",
      "RangeIndex: 42962 entries, 0 to 42961\n",
      "Columns: 368 entries, Unnamed: 0 to ALTERSKATEGORIE_GROB\n",
      "dtypes: float64(267), int64(95), object(6)\n",
      "memory usage: 120.6+ MB\n"
     ]
    }
   ],
   "source": [
    "mailout_train.info()"
   ]
  },
  {
   "cell_type": "code",
   "execution_count": 12,
   "metadata": {
    "scrolled": true
   },
   "outputs": [
    {
     "data": {
      "text/html": [
       "<div>\n",
       "<style scoped>\n",
       "    .dataframe tbody tr th:only-of-type {\n",
       "        vertical-align: middle;\n",
       "    }\n",
       "\n",
       "    .dataframe tbody tr th {\n",
       "        vertical-align: top;\n",
       "    }\n",
       "\n",
       "    .dataframe thead th {\n",
       "        text-align: right;\n",
       "    }\n",
       "</style>\n",
       "<table border=\"1\" class=\"dataframe\">\n",
       "  <thead>\n",
       "    <tr style=\"text-align: right;\">\n",
       "      <th></th>\n",
       "      <th>Unnamed: 0</th>\n",
       "      <th>LNR</th>\n",
       "      <th>AGER_TYP</th>\n",
       "      <th>AKT_DAT_KL</th>\n",
       "      <th>ALTER_HH</th>\n",
       "      <th>ALTER_KIND1</th>\n",
       "      <th>ALTER_KIND2</th>\n",
       "      <th>ALTER_KIND3</th>\n",
       "      <th>ALTER_KIND4</th>\n",
       "      <th>ALTERSKATEGORIE_FEIN</th>\n",
       "      <th>...</th>\n",
       "      <th>VK_DHT4A</th>\n",
       "      <th>VK_DISTANZ</th>\n",
       "      <th>VK_ZG11</th>\n",
       "      <th>W_KEIT_KIND_HH</th>\n",
       "      <th>WOHNDAUER_2008</th>\n",
       "      <th>WOHNLAGE</th>\n",
       "      <th>ZABEOTYP</th>\n",
       "      <th>RESPONSE</th>\n",
       "      <th>ANREDE_KZ</th>\n",
       "      <th>ALTERSKATEGORIE_GROB</th>\n",
       "    </tr>\n",
       "  </thead>\n",
       "  <tbody>\n",
       "    <tr>\n",
       "      <th>0</th>\n",
       "      <td>0</td>\n",
       "      <td>1763</td>\n",
       "      <td>2</td>\n",
       "      <td>1.0</td>\n",
       "      <td>8.0</td>\n",
       "      <td>NaN</td>\n",
       "      <td>NaN</td>\n",
       "      <td>NaN</td>\n",
       "      <td>NaN</td>\n",
       "      <td>8.0</td>\n",
       "      <td>...</td>\n",
       "      <td>5.0</td>\n",
       "      <td>2.0</td>\n",
       "      <td>1.0</td>\n",
       "      <td>6.0</td>\n",
       "      <td>9.0</td>\n",
       "      <td>3.0</td>\n",
       "      <td>3</td>\n",
       "      <td>0</td>\n",
       "      <td>2</td>\n",
       "      <td>4</td>\n",
       "    </tr>\n",
       "    <tr>\n",
       "      <th>1</th>\n",
       "      <td>1</td>\n",
       "      <td>1771</td>\n",
       "      <td>1</td>\n",
       "      <td>4.0</td>\n",
       "      <td>13.0</td>\n",
       "      <td>NaN</td>\n",
       "      <td>NaN</td>\n",
       "      <td>NaN</td>\n",
       "      <td>NaN</td>\n",
       "      <td>13.0</td>\n",
       "      <td>...</td>\n",
       "      <td>1.0</td>\n",
       "      <td>2.0</td>\n",
       "      <td>1.0</td>\n",
       "      <td>4.0</td>\n",
       "      <td>9.0</td>\n",
       "      <td>7.0</td>\n",
       "      <td>1</td>\n",
       "      <td>0</td>\n",
       "      <td>2</td>\n",
       "      <td>3</td>\n",
       "    </tr>\n",
       "    <tr>\n",
       "      <th>2</th>\n",
       "      <td>2</td>\n",
       "      <td>1776</td>\n",
       "      <td>1</td>\n",
       "      <td>1.0</td>\n",
       "      <td>9.0</td>\n",
       "      <td>NaN</td>\n",
       "      <td>NaN</td>\n",
       "      <td>NaN</td>\n",
       "      <td>NaN</td>\n",
       "      <td>7.0</td>\n",
       "      <td>...</td>\n",
       "      <td>6.0</td>\n",
       "      <td>4.0</td>\n",
       "      <td>2.0</td>\n",
       "      <td>NaN</td>\n",
       "      <td>9.0</td>\n",
       "      <td>2.0</td>\n",
       "      <td>3</td>\n",
       "      <td>0</td>\n",
       "      <td>1</td>\n",
       "      <td>4</td>\n",
       "    </tr>\n",
       "    <tr>\n",
       "      <th>3</th>\n",
       "      <td>3</td>\n",
       "      <td>1460</td>\n",
       "      <td>2</td>\n",
       "      <td>1.0</td>\n",
       "      <td>6.0</td>\n",
       "      <td>NaN</td>\n",
       "      <td>NaN</td>\n",
       "      <td>NaN</td>\n",
       "      <td>NaN</td>\n",
       "      <td>6.0</td>\n",
       "      <td>...</td>\n",
       "      <td>8.0</td>\n",
       "      <td>11.0</td>\n",
       "      <td>11.0</td>\n",
       "      <td>6.0</td>\n",
       "      <td>9.0</td>\n",
       "      <td>1.0</td>\n",
       "      <td>3</td>\n",
       "      <td>0</td>\n",
       "      <td>2</td>\n",
       "      <td>4</td>\n",
       "    </tr>\n",
       "    <tr>\n",
       "      <th>4</th>\n",
       "      <td>4</td>\n",
       "      <td>1783</td>\n",
       "      <td>2</td>\n",
       "      <td>1.0</td>\n",
       "      <td>9.0</td>\n",
       "      <td>NaN</td>\n",
       "      <td>NaN</td>\n",
       "      <td>NaN</td>\n",
       "      <td>NaN</td>\n",
       "      <td>9.0</td>\n",
       "      <td>...</td>\n",
       "      <td>2.0</td>\n",
       "      <td>2.0</td>\n",
       "      <td>1.0</td>\n",
       "      <td>6.0</td>\n",
       "      <td>9.0</td>\n",
       "      <td>3.0</td>\n",
       "      <td>3</td>\n",
       "      <td>0</td>\n",
       "      <td>1</td>\n",
       "      <td>3</td>\n",
       "    </tr>\n",
       "  </tbody>\n",
       "</table>\n",
       "<p>5 rows × 368 columns</p>\n",
       "</div>"
      ],
      "text/plain": [
       "   Unnamed: 0   LNR  AGER_TYP  AKT_DAT_KL  ALTER_HH  ALTER_KIND1  ALTER_KIND2  \\\n",
       "0           0  1763         2         1.0       8.0          NaN          NaN   \n",
       "1           1  1771         1         4.0      13.0          NaN          NaN   \n",
       "2           2  1776         1         1.0       9.0          NaN          NaN   \n",
       "3           3  1460         2         1.0       6.0          NaN          NaN   \n",
       "4           4  1783         2         1.0       9.0          NaN          NaN   \n",
       "\n",
       "   ALTER_KIND3  ALTER_KIND4  ALTERSKATEGORIE_FEIN  ...  VK_DHT4A  VK_DISTANZ  \\\n",
       "0          NaN          NaN                   8.0  ...       5.0         2.0   \n",
       "1          NaN          NaN                  13.0  ...       1.0         2.0   \n",
       "2          NaN          NaN                   7.0  ...       6.0         4.0   \n",
       "3          NaN          NaN                   6.0  ...       8.0        11.0   \n",
       "4          NaN          NaN                   9.0  ...       2.0         2.0   \n",
       "\n",
       "   VK_ZG11  W_KEIT_KIND_HH  WOHNDAUER_2008  WOHNLAGE  ZABEOTYP  RESPONSE  \\\n",
       "0      1.0             6.0             9.0       3.0         3         0   \n",
       "1      1.0             4.0             9.0       7.0         1         0   \n",
       "2      2.0             NaN             9.0       2.0         3         0   \n",
       "3     11.0             6.0             9.0       1.0         3         0   \n",
       "4      1.0             6.0             9.0       3.0         3         0   \n",
       "\n",
       "  ANREDE_KZ ALTERSKATEGORIE_GROB  \n",
       "0         2                    4  \n",
       "1         2                    3  \n",
       "2         1                    4  \n",
       "3         2                    4  \n",
       "4         1                    3  \n",
       "\n",
       "[5 rows x 368 columns]"
      ]
     },
     "execution_count": 12,
     "metadata": {},
     "output_type": "execute_result"
    }
   ],
   "source": [
    "mailout_train.head()"
   ]
  },
  {
   "cell_type": "code",
   "execution_count": 13,
   "metadata": {},
   "outputs": [
    {
     "name": "stdout",
     "output_type": "stream",
     "text": [
      "<class 'pandas.core.frame.DataFrame'>\n",
      "RangeIndex: 42833 entries, 0 to 42832\n",
      "Columns: 367 entries, Unnamed: 0 to ALTERSKATEGORIE_GROB\n",
      "dtypes: float64(267), int64(94), object(6)\n",
      "memory usage: 119.9+ MB\n"
     ]
    }
   ],
   "source": [
    "mailout_test.info()"
   ]
  },
  {
   "cell_type": "code",
   "execution_count": 14,
   "metadata": {},
   "outputs": [
    {
     "data": {
      "text/html": [
       "<div>\n",
       "<style scoped>\n",
       "    .dataframe tbody tr th:only-of-type {\n",
       "        vertical-align: middle;\n",
       "    }\n",
       "\n",
       "    .dataframe tbody tr th {\n",
       "        vertical-align: top;\n",
       "    }\n",
       "\n",
       "    .dataframe thead th {\n",
       "        text-align: right;\n",
       "    }\n",
       "</style>\n",
       "<table border=\"1\" class=\"dataframe\">\n",
       "  <thead>\n",
       "    <tr style=\"text-align: right;\">\n",
       "      <th></th>\n",
       "      <th>Unnamed: 0</th>\n",
       "      <th>LNR</th>\n",
       "      <th>AGER_TYP</th>\n",
       "      <th>AKT_DAT_KL</th>\n",
       "      <th>ALTER_HH</th>\n",
       "      <th>ALTER_KIND1</th>\n",
       "      <th>ALTER_KIND2</th>\n",
       "      <th>ALTER_KIND3</th>\n",
       "      <th>ALTER_KIND4</th>\n",
       "      <th>ALTERSKATEGORIE_FEIN</th>\n",
       "      <th>...</th>\n",
       "      <th>VHN</th>\n",
       "      <th>VK_DHT4A</th>\n",
       "      <th>VK_DISTANZ</th>\n",
       "      <th>VK_ZG11</th>\n",
       "      <th>W_KEIT_KIND_HH</th>\n",
       "      <th>WOHNDAUER_2008</th>\n",
       "      <th>WOHNLAGE</th>\n",
       "      <th>ZABEOTYP</th>\n",
       "      <th>ANREDE_KZ</th>\n",
       "      <th>ALTERSKATEGORIE_GROB</th>\n",
       "    </tr>\n",
       "  </thead>\n",
       "  <tbody>\n",
       "    <tr>\n",
       "      <th>0</th>\n",
       "      <td>0</td>\n",
       "      <td>1754</td>\n",
       "      <td>2</td>\n",
       "      <td>1.0</td>\n",
       "      <td>7.0</td>\n",
       "      <td>NaN</td>\n",
       "      <td>NaN</td>\n",
       "      <td>NaN</td>\n",
       "      <td>NaN</td>\n",
       "      <td>6.0</td>\n",
       "      <td>...</td>\n",
       "      <td>4.0</td>\n",
       "      <td>5.0</td>\n",
       "      <td>6.0</td>\n",
       "      <td>3.0</td>\n",
       "      <td>6.0</td>\n",
       "      <td>9.0</td>\n",
       "      <td>3.0</td>\n",
       "      <td>3</td>\n",
       "      <td>1</td>\n",
       "      <td>4</td>\n",
       "    </tr>\n",
       "    <tr>\n",
       "      <th>1</th>\n",
       "      <td>1</td>\n",
       "      <td>1770</td>\n",
       "      <td>-1</td>\n",
       "      <td>1.0</td>\n",
       "      <td>0.0</td>\n",
       "      <td>NaN</td>\n",
       "      <td>NaN</td>\n",
       "      <td>NaN</td>\n",
       "      <td>NaN</td>\n",
       "      <td>0.0</td>\n",
       "      <td>...</td>\n",
       "      <td>1.0</td>\n",
       "      <td>5.0</td>\n",
       "      <td>2.0</td>\n",
       "      <td>1.0</td>\n",
       "      <td>6.0</td>\n",
       "      <td>9.0</td>\n",
       "      <td>5.0</td>\n",
       "      <td>3</td>\n",
       "      <td>1</td>\n",
       "      <td>4</td>\n",
       "    </tr>\n",
       "    <tr>\n",
       "      <th>2</th>\n",
       "      <td>2</td>\n",
       "      <td>1465</td>\n",
       "      <td>2</td>\n",
       "      <td>9.0</td>\n",
       "      <td>16.0</td>\n",
       "      <td>NaN</td>\n",
       "      <td>NaN</td>\n",
       "      <td>NaN</td>\n",
       "      <td>NaN</td>\n",
       "      <td>11.0</td>\n",
       "      <td>...</td>\n",
       "      <td>3.0</td>\n",
       "      <td>9.0</td>\n",
       "      <td>6.0</td>\n",
       "      <td>3.0</td>\n",
       "      <td>2.0</td>\n",
       "      <td>9.0</td>\n",
       "      <td>4.0</td>\n",
       "      <td>3</td>\n",
       "      <td>2</td>\n",
       "      <td>4</td>\n",
       "    </tr>\n",
       "    <tr>\n",
       "      <th>3</th>\n",
       "      <td>3</td>\n",
       "      <td>1470</td>\n",
       "      <td>-1</td>\n",
       "      <td>7.0</td>\n",
       "      <td>0.0</td>\n",
       "      <td>NaN</td>\n",
       "      <td>NaN</td>\n",
       "      <td>NaN</td>\n",
       "      <td>NaN</td>\n",
       "      <td>0.0</td>\n",
       "      <td>...</td>\n",
       "      <td>2.0</td>\n",
       "      <td>6.0</td>\n",
       "      <td>6.0</td>\n",
       "      <td>3.0</td>\n",
       "      <td>NaN</td>\n",
       "      <td>9.0</td>\n",
       "      <td>2.0</td>\n",
       "      <td>3</td>\n",
       "      <td>2</td>\n",
       "      <td>4</td>\n",
       "    </tr>\n",
       "    <tr>\n",
       "      <th>4</th>\n",
       "      <td>4</td>\n",
       "      <td>1478</td>\n",
       "      <td>1</td>\n",
       "      <td>1.0</td>\n",
       "      <td>21.0</td>\n",
       "      <td>NaN</td>\n",
       "      <td>NaN</td>\n",
       "      <td>NaN</td>\n",
       "      <td>NaN</td>\n",
       "      <td>13.0</td>\n",
       "      <td>...</td>\n",
       "      <td>1.0</td>\n",
       "      <td>2.0</td>\n",
       "      <td>4.0</td>\n",
       "      <td>3.0</td>\n",
       "      <td>3.0</td>\n",
       "      <td>9.0</td>\n",
       "      <td>7.0</td>\n",
       "      <td>4</td>\n",
       "      <td>2</td>\n",
       "      <td>4</td>\n",
       "    </tr>\n",
       "  </tbody>\n",
       "</table>\n",
       "<p>5 rows × 367 columns</p>\n",
       "</div>"
      ],
      "text/plain": [
       "   Unnamed: 0   LNR  AGER_TYP  AKT_DAT_KL  ALTER_HH  ALTER_KIND1  ALTER_KIND2  \\\n",
       "0           0  1754         2         1.0       7.0          NaN          NaN   \n",
       "1           1  1770        -1         1.0       0.0          NaN          NaN   \n",
       "2           2  1465         2         9.0      16.0          NaN          NaN   \n",
       "3           3  1470        -1         7.0       0.0          NaN          NaN   \n",
       "4           4  1478         1         1.0      21.0          NaN          NaN   \n",
       "\n",
       "   ALTER_KIND3  ALTER_KIND4  ALTERSKATEGORIE_FEIN  ...  VHN  VK_DHT4A  \\\n",
       "0          NaN          NaN                   6.0  ...  4.0       5.0   \n",
       "1          NaN          NaN                   0.0  ...  1.0       5.0   \n",
       "2          NaN          NaN                  11.0  ...  3.0       9.0   \n",
       "3          NaN          NaN                   0.0  ...  2.0       6.0   \n",
       "4          NaN          NaN                  13.0  ...  1.0       2.0   \n",
       "\n",
       "   VK_DISTANZ  VK_ZG11  W_KEIT_KIND_HH  WOHNDAUER_2008  WOHNLAGE  ZABEOTYP  \\\n",
       "0         6.0      3.0             6.0             9.0       3.0         3   \n",
       "1         2.0      1.0             6.0             9.0       5.0         3   \n",
       "2         6.0      3.0             2.0             9.0       4.0         3   \n",
       "3         6.0      3.0             NaN             9.0       2.0         3   \n",
       "4         4.0      3.0             3.0             9.0       7.0         4   \n",
       "\n",
       "  ANREDE_KZ ALTERSKATEGORIE_GROB  \n",
       "0         1                    4  \n",
       "1         1                    4  \n",
       "2         2                    4  \n",
       "3         2                    4  \n",
       "4         2                    4  \n",
       "\n",
       "[5 rows x 367 columns]"
      ]
     },
     "execution_count": 14,
     "metadata": {},
     "output_type": "execute_result"
    }
   ],
   "source": [
    "mailout_test.head()"
   ]
  },
  {
   "cell_type": "code",
   "execution_count": 15,
   "metadata": {},
   "outputs": [],
   "source": [
    "# Let's drop unnamed: 0\n",
    "azdias.drop('Unnamed: 0', axis=1, inplace=True)\n",
    "customers.drop('Unnamed: 0', axis=1, inplace=True)\n",
    "mailout_train.drop('Unnamed: 0', axis=1, inplace=True)\n",
    "mailout_test.drop('Unnamed: 0', axis=1, inplace=True)"
   ]
  },
  {
   "cell_type": "markdown",
   "metadata": {},
   "source": [
    "## Part 1: Customer Segmentation Report"
   ]
  },
  {
   "cell_type": "markdown",
   "metadata": {},
   "source": [
    "### A. Data Cleaning"
   ]
  },
  {
   "cell_type": "markdown",
   "metadata": {},
   "source": [
    "#### a. Load data range values"
   ]
  },
  {
   "cell_type": "code",
   "execution_count": 16,
   "metadata": {},
   "outputs": [],
   "source": [
    "# We will read the dictionnary of values wich is in an xls file and check that our dataframe has an expected range\n",
    "# of values for each features\n",
    "\n",
    "attributes = pd.read_excel(\n",
    "    'DIAS Attributes - Values 2017.xlsx', skiprows=[0], usecols='B:E')\n",
    "attributes.fillna(method='ffill', inplace=True)"
   ]
  },
  {
   "cell_type": "code",
   "execution_count": 17,
   "metadata": {},
   "outputs": [],
   "source": [
    "# Some values are string with 2 values separated by ','. Let's reformat.\n",
    "\n",
    "to_append = {'Attribute': [], 'Description': [], 'Value': [], 'Meaning': []}\n",
    "attributes['Value split'] = attributes['Value'].apply(\n",
    "    lambda x: x.split(',') if type(x) == str else x)\n",
    "\n",
    "for i in range(attributes.shape[0]):\n",
    "    if (type(attributes.iloc[i, 4]) == list) and len(attributes.iloc[i, 4]) > 1:\n",
    "        attributes.iloc[i, 2] = int(attributes.iloc[i, 4][0].strip())\n",
    "        to_append['Attribute'].append(attributes.iloc[i, 0])\n",
    "        to_append['Description'].append(attributes.iloc[i, 1])\n",
    "        to_append['Value'].append(int(attributes.iloc[i, 4][1].strip()))\n",
    "        to_append['Meaning'].append(attributes.iloc[i, 3])\n",
    "        attributes.iloc[i, 4] = attributes.iloc[i, 2]\n",
    "\n",
    "attributes.drop('Value split', axis=1, inplace=True)\n",
    "attributes = pd.concat([attributes, pd.DataFrame(to_append)])"
   ]
  },
  {
   "cell_type": "code",
   "execution_count": 18,
   "metadata": {},
   "outputs": [],
   "source": [
    "# lets create a dictionnary with range of values for each feature\n",
    "dic_value = {}\n",
    "for attribute in attributes['Attribute'].unique():\n",
    "    dic_value[attribute] = attributes[attributes['Attribute']\n",
    "                                      == attribute]['Value'].to_list()"
   ]
  },
  {
   "cell_type": "markdown",
   "metadata": {},
   "source": [
    "#### b. Mixed Dtypes"
   ]
  },
  {
   "cell_type": "code",
   "execution_count": 19,
   "metadata": {},
   "outputs": [
    {
     "name": "stdout",
     "output_type": "stream",
     "text": [
      "Azdias\n",
      "Index(['CAMEO_DEUG_2015', 'CAMEO_INTL_2015'], dtype='object')\n"
     ]
    }
   ],
   "source": [
    "# let's check the columns with mixed dtypes in azdias\n",
    "print('Azdias')\n",
    "print(azdias.iloc[:, 18:20].columns)"
   ]
  },
  {
   "cell_type": "code",
   "execution_count": 20,
   "metadata": {},
   "outputs": [
    {
     "name": "stdout",
     "output_type": "stream",
     "text": [
      "CAMEO_DEUG_2015\n",
      "[nan 8.0 4.0 2.0 6.0 1.0 9.0 5.0 7.0 3.0 '4' '3' '7' '2' '8' '9' '6' '5'\n",
      " '1' 'X']\n",
      "\n",
      "CAMEO_INTL_2015\n",
      "[nan 51.0 24.0 12.0 43.0 54.0 22.0 14.0 13.0 15.0 33.0 41.0 34.0 55.0 25.0\n",
      " 23.0 31.0 52.0 35.0 45.0 44.0 32.0 '22' '24' '41' '12' '54' '51' '44'\n",
      " '35' '23' '25' '14' '34' '52' '55' '31' '32' '15' '13' '43' '33' '45'\n",
      " 'XX']\n"
     ]
    }
   ],
   "source": [
    "# Looking at the documentation these are the \"CAMEO classification 2015 - Uppergroup\" -values from -1 to 9 integers-\n",
    "# and I guess as i can't find the exact field \"CAMEO classification 2015 - international typology\" -values are integers.\n",
    "\n",
    "print('CAMEO_DEUG_2015')\n",
    "print(azdias.iloc[:, 18].unique())\n",
    "print('')\n",
    "print('CAMEO_INTL_2015')\n",
    "print(azdias.iloc[:, 19].unique())"
   ]
  },
  {
   "cell_type": "code",
   "execution_count": 21,
   "metadata": {},
   "outputs": [],
   "source": [
    "# So the issue is because of 'X' and 'XX'. Let's check in the dictionnary if we can have 'X' or 'XX' values"
   ]
  },
  {
   "cell_type": "code",
   "execution_count": 22,
   "metadata": {},
   "outputs": [],
   "source": [
    "for key in dic_value.keys():\n",
    "    if ('X' in dic_value[key]) or ('XX' in dic_value[key]):\n",
    "        print(f'There can be X or XX values for {key}')"
   ]
  },
  {
   "cell_type": "code",
   "execution_count": 23,
   "metadata": {},
   "outputs": [],
   "source": [
    "# There can not be X or XX values. We replace all X or XX by np.nan\n",
    "\n",
    "azdias.replace(to_replace='X', value=np.nan, inplace=True)\n",
    "azdias.replace(to_replace='XX', value=np.nan, inplace=True)\n",
    "customers.replace(to_replace='X', value=np.nan, inplace=True)\n",
    "customers.replace(to_replace='XX', value=np.nan, inplace=True)\n",
    "mailout_train.replace(to_replace='X', value=np.nan, inplace=True)\n",
    "mailout_train.replace(to_replace='XX', value=np.nan, inplace=True)\n",
    "mailout_test.replace(to_replace='X', value=np.nan, inplace=True)\n",
    "mailout_test.replace(to_replace='XX', value=np.nan, inplace=True)"
   ]
  },
  {
   "cell_type": "code",
   "execution_count": 24,
   "metadata": {},
   "outputs": [],
   "source": [
    "# We are also specify the type of azdias for these 2 columns as floats so there is '1' is the same as 1.0 for example\n",
    "\n",
    "azdias[['CAMEO_DEUG_2015', 'CAMEO_INTL_2015']] = azdias[[\n",
    "    'CAMEO_DEUG_2015', 'CAMEO_INTL_2015']].astype(float)"
   ]
  },
  {
   "cell_type": "markdown",
   "metadata": {},
   "source": [
    "#### c. Values check"
   ]
  },
  {
   "cell_type": "code",
   "execution_count": 25,
   "metadata": {},
   "outputs": [],
   "source": [
    "# Lets create a function to check what if the columns in the df are in the dictionnary or not.\n",
    "# If they are lets check that the range of values is acceptable\n",
    "\n",
    "def value_range_check(df, dic=dic_value):\n",
    "\n",
    "    # First check columns\n",
    "    not_found = []\n",
    "    for col in df.columns:\n",
    "        if col not in dic.keys():\n",
    "            not_found.append(col)\n",
    "\n",
    "    # For columns found, check the range of values for the non numericals one\n",
    "    range_issue = {}\n",
    "    numeric_range = {}\n",
    "    for col in np.setdiff1d(df.columns, not_found):\n",
    "        for val in df[col].unique():\n",
    "\n",
    "            # We specify the first condition to not take into account nan values and the second to exclude numerical ones\n",
    "            if (val == val) and (val not in dic_value[col]) and (dic_value[col][0] != '…'):\n",
    "                if col not in range_issue.keys():\n",
    "                    range_issue[col] = [val]\n",
    "                else:\n",
    "                    range_issue[col].append(val)\n",
    "\n",
    "    # For numericals one, retrieve the min-max\n",
    "            elif (val == val) and (dic_value[col][0] == '…'):\n",
    "                numeric_range[col] = (df[col].min(), df[col].max())\n",
    "                break  # we get out of the value check for this column\n",
    "\n",
    "    return not_found, range_issue, numeric_range"
   ]
  },
  {
   "cell_type": "code",
   "execution_count": 26,
   "metadata": {},
   "outputs": [],
   "source": [
    "# first let's check that the columns not found are all the same accross the dataframes\n",
    "not_found_azdias, range_issue_azdias, numeric_range_azdias = value_range_check(\n",
    "    azdias)\n",
    "not_found_customers, range_issue_customers, numeric_range_customers = value_range_check(\n",
    "    customers)\n",
    "not_found_mailout_train, range_issue_mailout_train, numeric_range_mailout_train = value_range_check(\n",
    "    mailout_train)\n",
    "not_found_mailout_test, range_issue_mailout_test, numeric_range_mailout_test = value_range_check(\n",
    "    mailout_test)"
   ]
  },
  {
   "cell_type": "code",
   "execution_count": 27,
   "metadata": {},
   "outputs": [
    {
     "data": {
      "text/plain": [
       "array(['CUSTOMER_GROUP', 'ONLINE_PURCHASE', 'PRODUCT_GROUP'], dtype='<U26')"
      ]
     },
     "execution_count": 27,
     "metadata": {},
     "output_type": "execute_result"
    }
   ],
   "source": [
    "np.setdiff1d(not_found_customers, not_found_azdias)"
   ]
  },
  {
   "cell_type": "code",
   "execution_count": 28,
   "metadata": {},
   "outputs": [],
   "source": [
    "# This is expected as explained in the introduction. Besides these 3 columns, all the columns not found between\n",
    "# azdias and customers are the smame"
   ]
  },
  {
   "cell_type": "code",
   "execution_count": 29,
   "metadata": {
    "scrolled": true
   },
   "outputs": [
    {
     "data": {
      "text/plain": [
       "array(['CUSTOMER_GROUP', 'ONLINE_PURCHASE', 'PRODUCT_GROUP'], dtype='<U26')"
      ]
     },
     "execution_count": 29,
     "metadata": {},
     "output_type": "execute_result"
    }
   ],
   "source": [
    "np.setdiff1d(not_found_customers, not_found_mailout_train)"
   ]
  },
  {
   "cell_type": "code",
   "execution_count": 30,
   "metadata": {},
   "outputs": [
    {
     "data": {
      "text/plain": [
       "array(['RESPONSE'], dtype='<U26')"
      ]
     },
     "execution_count": 30,
     "metadata": {},
     "output_type": "execute_result"
    }
   ],
   "source": [
    "np.setdiff1d(not_found_mailout_train, not_found_mailout_test)"
   ]
  },
  {
   "cell_type": "code",
   "execution_count": 31,
   "metadata": {},
   "outputs": [],
   "source": [
    "# The above is expected. the test set does not have the filed response. It is scored on Kaggle platform."
   ]
  },
  {
   "cell_type": "code",
   "execution_count": 32,
   "metadata": {},
   "outputs": [
    {
     "data": {
      "text/plain": [
       "array(['RESPONSE'], dtype='<U26')"
      ]
     },
     "execution_count": 32,
     "metadata": {},
     "output_type": "execute_result"
    }
   ],
   "source": [
    "# ok same here. Let's just check that mailout_train should have one more which is the RESPONSE\n",
    "np.setdiff1d(not_found_mailout_train, not_found_azdias)"
   ]
  },
  {
   "cell_type": "code",
   "execution_count": 33,
   "metadata": {},
   "outputs": [
    {
     "data": {
      "text/plain": [
       "94"
      ]
     },
     "execution_count": 33,
     "metadata": {},
     "output_type": "execute_result"
    }
   ],
   "source": [
    "# what are the not found features ?\n",
    "len(not_found_azdias)"
   ]
  },
  {
   "cell_type": "code",
   "execution_count": 34,
   "metadata": {},
   "outputs": [
    {
     "data": {
      "text/plain": [
       "['LNR',\n",
       " 'AKT_DAT_KL',\n",
       " 'ALTER_KIND1',\n",
       " 'ALTER_KIND2',\n",
       " 'ALTER_KIND3',\n",
       " 'ALTER_KIND4',\n",
       " 'ALTERSKATEGORIE_FEIN',\n",
       " 'ANZ_KINDER',\n",
       " 'ANZ_STATISTISCHE_HAUSHALTE',\n",
       " 'ARBEIT',\n",
       " 'CAMEO_INTL_2015',\n",
       " 'CJT_KATALOGNUTZER',\n",
       " 'CJT_TYP_1',\n",
       " 'CJT_TYP_2',\n",
       " 'CJT_TYP_3',\n",
       " 'CJT_TYP_4',\n",
       " 'CJT_TYP_5',\n",
       " 'CJT_TYP_6',\n",
       " 'D19_BANKEN_DIREKT',\n",
       " 'D19_BANKEN_GROSS',\n",
       " 'D19_BANKEN_LOKAL',\n",
       " 'D19_BANKEN_REST',\n",
       " 'D19_BEKLEIDUNG_GEH',\n",
       " 'D19_BEKLEIDUNG_REST',\n",
       " 'D19_BILDUNG',\n",
       " 'D19_BIO_OEKO',\n",
       " 'D19_BUCH_CD',\n",
       " 'D19_DIGIT_SERV',\n",
       " 'D19_DROGERIEARTIKEL',\n",
       " 'D19_ENERGIE',\n",
       " 'D19_FREIZEIT',\n",
       " 'D19_GARTEN',\n",
       " 'D19_HANDWERK',\n",
       " 'D19_HAUS_DEKO',\n",
       " 'D19_KINDERARTIKEL',\n",
       " 'D19_KONSUMTYP_MAX',\n",
       " 'D19_KOSMETIK',\n",
       " 'D19_LEBENSMITTEL',\n",
       " 'D19_LETZTER_KAUF_BRANCHE',\n",
       " 'D19_LOTTO',\n",
       " 'D19_NAHRUNGSERGAENZUNG',\n",
       " 'D19_RATGEBER',\n",
       " 'D19_REISEN',\n",
       " 'D19_SAMMELARTIKEL',\n",
       " 'D19_SCHUHE',\n",
       " 'D19_SONSTIGE',\n",
       " 'D19_SOZIALES',\n",
       " 'D19_TECHNIK',\n",
       " 'D19_TELKO_MOBILE',\n",
       " 'D19_TELKO_ONLINE_QUOTE_12',\n",
       " 'D19_TELKO_REST',\n",
       " 'D19_TIERARTIKEL',\n",
       " 'D19_VERSAND_REST',\n",
       " 'D19_VERSI_DATUM',\n",
       " 'D19_VERSI_OFFLINE_DATUM',\n",
       " 'D19_VERSI_ONLINE_DATUM',\n",
       " 'D19_VERSI_ONLINE_QUOTE_12',\n",
       " 'D19_VERSICHERUNGEN',\n",
       " 'D19_VOLLSORTIMENT',\n",
       " 'D19_WEIN_FEINKOST',\n",
       " 'DSL_FLAG',\n",
       " 'EINGEFUEGT_AM',\n",
       " 'EINGEZOGENAM_HH_JAHR',\n",
       " 'EXTSEL992',\n",
       " 'FIRMENDICHTE',\n",
       " 'GEMEINDETYP',\n",
       " 'HH_DELTA_FLAG',\n",
       " 'KBA13_ANTG1',\n",
       " 'KBA13_ANTG2',\n",
       " 'KBA13_ANTG3',\n",
       " 'KBA13_ANTG4',\n",
       " 'KBA13_BAUMAX',\n",
       " 'KBA13_CCM_1401_2500',\n",
       " 'KBA13_GBZ',\n",
       " 'KBA13_HHZ',\n",
       " 'KBA13_KMH_210',\n",
       " 'KK_KUNDENTYP',\n",
       " 'KOMBIALTER',\n",
       " 'KONSUMZELLE',\n",
       " 'MOBI_RASTER',\n",
       " 'RT_KEIN_ANREIZ',\n",
       " 'RT_SCHNAEPPCHEN',\n",
       " 'RT_UEBERGROESSE',\n",
       " 'SOHO_KZ',\n",
       " 'STRUKTURTYP',\n",
       " 'UMFELD_ALT',\n",
       " 'UMFELD_JUNG',\n",
       " 'UNGLEICHENN_FLAG',\n",
       " 'VERDICHTUNGSRAUM',\n",
       " 'VHA',\n",
       " 'VHN',\n",
       " 'VK_DHT4A',\n",
       " 'VK_DISTANZ',\n",
       " 'VK_ZG11']"
      ]
     },
     "execution_count": 34,
     "metadata": {},
     "output_type": "execute_result"
    }
   ],
   "source": [
    "not_found_azdias"
   ]
  },
  {
   "cell_type": "code",
   "execution_count": 35,
   "metadata": {},
   "outputs": [],
   "source": [
    "# 93 features are not present in attributes file -we know LNR is an id-. Looking at the names these are likely categorical features"
   ]
  },
  {
   "cell_type": "code",
   "execution_count": 36,
   "metadata": {},
   "outputs": [],
   "source": [
    "# Ok that was expected. Let's check the range of issues"
   ]
  },
  {
   "cell_type": "code",
   "execution_count": 37,
   "metadata": {
    "scrolled": true
   },
   "outputs": [
    {
     "data": {
      "text/plain": [
       "{'KBA05_MODTEMP': [6.0],\n",
       " 'LP_FAMILIE_FEIN': [0.0],\n",
       " 'LP_FAMILIE_GROB': [0.0],\n",
       " 'LP_LEBENSPHASE_FEIN': [0.0],\n",
       " 'LP_LEBENSPHASE_GROB': [0.0],\n",
       " 'ORTSGR_KLS9': [0.0]}"
      ]
     },
     "execution_count": 37,
     "metadata": {},
     "output_type": "execute_result"
    }
   ],
   "source": [
    "range_issue_azdias"
   ]
  },
  {
   "cell_type": "code",
   "execution_count": 38,
   "metadata": {},
   "outputs": [
    {
     "data": {
      "text/plain": [
       "{'CAMEO_DEUG_2015': ['6', '3', '8', '9', '2', '4', '1', '7', '5'],\n",
       " 'KBA05_MODTEMP': [6.0],\n",
       " 'LP_FAMILIE_FEIN': [0.0],\n",
       " 'LP_FAMILIE_GROB': [0.0],\n",
       " 'LP_LEBENSPHASE_FEIN': [0.0],\n",
       " 'LP_LEBENSPHASE_GROB': [0.0]}"
      ]
     },
     "execution_count": 38,
     "metadata": {},
     "output_type": "execute_result"
    }
   ],
   "source": [
    "range_issue_customers"
   ]
  },
  {
   "cell_type": "code",
   "execution_count": 39,
   "metadata": {
    "scrolled": false
   },
   "outputs": [
    {
     "data": {
      "text/plain": [
       "{'CAMEO_DEUG_2015': ['4', '6', '2', '9', '8', '7', '3', '1', '5'],\n",
       " 'KBA05_MODTEMP': [6.0],\n",
       " 'LP_FAMILIE_FEIN': [0.0],\n",
       " 'LP_FAMILIE_GROB': [0.0],\n",
       " 'LP_LEBENSPHASE_FEIN': [0.0],\n",
       " 'LP_LEBENSPHASE_GROB': [0.0],\n",
       " 'ORTSGR_KLS9': [0.0]}"
      ]
     },
     "execution_count": 39,
     "metadata": {},
     "output_type": "execute_result"
    }
   ],
   "source": [
    "range_issue_mailout_train"
   ]
  },
  {
   "cell_type": "code",
   "execution_count": 40,
   "metadata": {},
   "outputs": [
    {
     "data": {
      "text/plain": [
       "{'CAMEO_DEUG_2015': ['2', '5', '7', '9', '4', '6', '1', '3', '8'],\n",
       " 'KBA05_MODTEMP': [6.0],\n",
       " 'LP_FAMILIE_FEIN': [0.0],\n",
       " 'LP_FAMILIE_GROB': [0.0],\n",
       " 'LP_LEBENSPHASE_FEIN': [0.0],\n",
       " 'LP_LEBENSPHASE_GROB': [0.0],\n",
       " 'ORTSGR_KLS9': [0.0]}"
      ]
     },
     "execution_count": 40,
     "metadata": {},
     "output_type": "execute_result"
    }
   ],
   "source": [
    "range_issue_mailout_test"
   ]
  },
  {
   "cell_type": "code",
   "execution_count": 41,
   "metadata": {},
   "outputs": [],
   "source": [
    "# These are all the same except CAMEO_DEUG_2015 because of some values seen as string for customers mailout_train and mailout_test.\n",
    "# let's fix this\n",
    "\n",
    "customers['CAMEO_DEUG_2015'] = customers['CAMEO_DEUG_2015'].astype(float)\n",
    "mailout_train['CAMEO_DEUG_2015'] = mailout_train['CAMEO_DEUG_2015'].astype(\n",
    "    float)\n",
    "mailout_test['CAMEO_DEUG_2015'] = mailout_test['CAMEO_DEUG_2015'].astype(\n",
    "    float)"
   ]
  },
  {
   "cell_type": "code",
   "execution_count": 42,
   "metadata": {},
   "outputs": [
    {
     "data": {
      "text/plain": [
       "{'KBA05_MODTEMP': [6.0],\n",
       " 'LP_FAMILIE_FEIN': [0.0],\n",
       " 'LP_FAMILIE_GROB': [0.0],\n",
       " 'LP_LEBENSPHASE_FEIN': [0.0],\n",
       " 'LP_LEBENSPHASE_GROB': [0.0]}"
      ]
     },
     "execution_count": 42,
     "metadata": {},
     "output_type": "execute_result"
    }
   ],
   "source": [
    "range_issue_customers = value_range_check(customers)[1]\n",
    "range_issue_customers"
   ]
  },
  {
   "cell_type": "code",
   "execution_count": 43,
   "metadata": {
    "scrolled": true
   },
   "outputs": [
    {
     "data": {
      "text/plain": [
       "{'KBA05_MODTEMP': [6.0],\n",
       " 'LP_FAMILIE_FEIN': [0.0],\n",
       " 'LP_FAMILIE_GROB': [0.0],\n",
       " 'LP_LEBENSPHASE_FEIN': [0.0],\n",
       " 'LP_LEBENSPHASE_GROB': [0.0],\n",
       " 'ORTSGR_KLS9': [0.0]}"
      ]
     },
     "execution_count": 43,
     "metadata": {},
     "output_type": "execute_result"
    }
   ],
   "source": [
    "range_issue_mailout_train = value_range_check(mailout_train)[1]\n",
    "range_issue_mailout_train"
   ]
  },
  {
   "cell_type": "code",
   "execution_count": 44,
   "metadata": {},
   "outputs": [
    {
     "data": {
      "text/plain": [
       "{'KBA05_MODTEMP': [6.0],\n",
       " 'LP_FAMILIE_FEIN': [0.0],\n",
       " 'LP_FAMILIE_GROB': [0.0],\n",
       " 'LP_LEBENSPHASE_FEIN': [0.0],\n",
       " 'LP_LEBENSPHASE_GROB': [0.0],\n",
       " 'ORTSGR_KLS9': [0.0]}"
      ]
     },
     "execution_count": 44,
     "metadata": {},
     "output_type": "execute_result"
    }
   ],
   "source": [
    "range_issue_mailout_test = value_range_check(mailout_test)[1]\n",
    "range_issue_mailout_test"
   ]
  },
  {
   "cell_type": "code",
   "execution_count": 45,
   "metadata": {},
   "outputs": [],
   "source": [
    "# Ok. Now we have the same exact range issues\n",
    "\n",
    "# 'KBA05_MODTEMP': supposed to be up to 5 or 9\n",
    "# 'LP_FAMILIE_FEIN':  supposed to be between 1 and 11\n",
    "# 'LP_FAMILIE_GROB': supposed to be between 1 and 11\n",
    "# 'LP_LEBENSPHASE_FEIN': supposed to be between 1 and 40\n",
    "# 'LP_LEBENSPHASE_GROB': supposed to be between 1 and 12\n",
    "# 'ORTSGR_KLS9': supposed to be -1 or between 1 and 9"
   ]
  },
  {
   "cell_type": "code",
   "execution_count": 46,
   "metadata": {},
   "outputs": [],
   "source": [
    "# We will replace all these values by np.nan\n",
    "\n",
    "azdias['KBA05_MODTEMP'].replace(to_replace=6.0, value=np.nan, inplace=True)\n",
    "azdias['LP_FAMILIE_FEIN'].replace(to_replace=0.0, value=np.nan, inplace=True)\n",
    "azdias['LP_FAMILIE_GROB'].replace(to_replace=0.0, value=np.nan, inplace=True)\n",
    "azdias['LP_LEBENSPHASE_FEIN'].replace(\n",
    "    to_replace=0.0, value=np.nan, inplace=True)\n",
    "azdias['LP_LEBENSPHASE_GROB'].replace(\n",
    "    to_replace=0.0, value=np.nan, inplace=True)\n",
    "azdias['ORTSGR_KLS9'].replace(to_replace=0.0, value=np.nan, inplace=True)"
   ]
  },
  {
   "cell_type": "code",
   "execution_count": 47,
   "metadata": {},
   "outputs": [],
   "source": [
    "customers['KBA05_MODTEMP'].replace(to_replace=6.0, value=np.nan, inplace=True)\n",
    "customers['LP_FAMILIE_FEIN'].replace(\n",
    "    to_replace=0.0, value=np.nan, inplace=True)\n",
    "customers['LP_FAMILIE_GROB'].replace(\n",
    "    to_replace=0.0, value=np.nan, inplace=True)\n",
    "customers['LP_LEBENSPHASE_FEIN'].replace(\n",
    "    to_replace=0.0, value=np.nan, inplace=True)\n",
    "customers['LP_LEBENSPHASE_GROB'].replace(\n",
    "    to_replace=0.0, value=np.nan, inplace=True)\n",
    "customers['ORTSGR_KLS9'].replace(to_replace=0.0, value=np.nan, inplace=True)"
   ]
  },
  {
   "cell_type": "code",
   "execution_count": 48,
   "metadata": {},
   "outputs": [],
   "source": [
    "mailout_train['KBA05_MODTEMP'].replace(\n",
    "    to_replace=6.0, value=np.nan, inplace=True)\n",
    "mailout_train['LP_FAMILIE_FEIN'].replace(\n",
    "    to_replace=0.0, value=np.nan, inplace=True)\n",
    "mailout_train['LP_FAMILIE_GROB'].replace(\n",
    "    to_replace=0.0, value=np.nan, inplace=True)\n",
    "mailout_train['LP_LEBENSPHASE_FEIN'].replace(\n",
    "    to_replace=0.0, value=np.nan, inplace=True)\n",
    "mailout_train['LP_LEBENSPHASE_GROB'].replace(\n",
    "    to_replace=0.0, value=np.nan, inplace=True)\n",
    "mailout_train['ORTSGR_KLS9'].replace(\n",
    "    to_replace=0.0, value=np.nan, inplace=True)"
   ]
  },
  {
   "cell_type": "code",
   "execution_count": 49,
   "metadata": {},
   "outputs": [],
   "source": [
    "mailout_test['KBA05_MODTEMP'].replace(\n",
    "    to_replace=6.0, value=np.nan, inplace=True)\n",
    "mailout_test['LP_FAMILIE_FEIN'].replace(\n",
    "    to_replace=0.0, value=np.nan, inplace=True)\n",
    "mailout_test['LP_FAMILIE_GROB'].replace(\n",
    "    to_replace=0.0, value=np.nan, inplace=True)\n",
    "mailout_test['LP_LEBENSPHASE_FEIN'].replace(\n",
    "    to_replace=0.0, value=np.nan, inplace=True)\n",
    "mailout_test['LP_LEBENSPHASE_GROB'].replace(\n",
    "    to_replace=0.0, value=np.nan, inplace=True)\n",
    "mailout_test['ORTSGR_KLS9'].replace(\n",
    "    to_replace=0.0, value=np.nan, inplace=True)"
   ]
  },
  {
   "cell_type": "code",
   "execution_count": 50,
   "metadata": {},
   "outputs": [],
   "source": [
    "# check\n",
    "range_issue_azdias = value_range_check(azdias)[1]\n",
    "range_issue_customers = value_range_check(customers)[1]\n",
    "range_issue_mailout_train = value_range_check(mailout_train)[1]\n",
    "range_issue_mailout_test = value_range_check(mailout_test)[1]"
   ]
  },
  {
   "cell_type": "code",
   "execution_count": 51,
   "metadata": {},
   "outputs": [
    {
     "name": "stdout",
     "output_type": "stream",
     "text": [
      "{}\n",
      "{}\n",
      "{}\n",
      "{}\n"
     ]
    }
   ],
   "source": [
    "print(range_issue_azdias)\n",
    "print(range_issue_customers)\n",
    "print(range_issue_mailout_train)\n",
    "print(range_issue_mailout_test)"
   ]
  },
  {
   "cell_type": "code",
   "execution_count": 52,
   "metadata": {},
   "outputs": [],
   "source": [
    "# let's now check range for numeric values\n",
    "# The supposed range are:\n",
    "# 'ANZ_HAUSHALTE_AKTIV': numeric value (typically coded from 1-10)\n",
    "# 'ANZ_HH_TITEL': numeric value (typically coded from 1-10)\n",
    "# 'ANZ_PERSONEN':numeric value (typically coded from 1-3)\n",
    "# 'ANZ_TITEL': numeric value (typically coded from 1-10)\n",
    "# 'GEBURTSJAHR': numeric value\n",
    "# 'KBA13_ANZAHL_PKW': numeric value\n",
    "# 'MIN_GEBAEUDEJAHR': numeric value"
   ]
  },
  {
   "cell_type": "code",
   "execution_count": 53,
   "metadata": {},
   "outputs": [
    {
     "data": {
      "text/plain": [
       "{'ANZ_HAUSHALTE_AKTIV': (0.0, 595.0),\n",
       " 'ANZ_HH_TITEL': (0.0, 23.0),\n",
       " 'ANZ_PERSONEN': (0.0, 45.0),\n",
       " 'ANZ_TITEL': (0.0, 6.0),\n",
       " 'GEBURTSJAHR': (0, 2017),\n",
       " 'KBA13_ANZAHL_PKW': (0.0, 2300.0),\n",
       " 'MIN_GEBAEUDEJAHR': (1985.0, 2016.0)}"
      ]
     },
     "execution_count": 53,
     "metadata": {},
     "output_type": "execute_result"
    }
   ],
   "source": [
    "numeric_range_azdias"
   ]
  },
  {
   "cell_type": "code",
   "execution_count": 54,
   "metadata": {},
   "outputs": [
    {
     "data": {
      "text/plain": [
       "{'ANZ_HAUSHALTE_AKTIV': (0.0, 523.0),\n",
       " 'ANZ_HH_TITEL': (0.0, 23.0),\n",
       " 'ANZ_PERSONEN': (0.0, 21.0),\n",
       " 'ANZ_TITEL': (0.0, 5.0),\n",
       " 'GEBURTSJAHR': (0, 2017),\n",
       " 'KBA13_ANZAHL_PKW': (5.0, 2300.0),\n",
       " 'MIN_GEBAEUDEJAHR': (1985.0, 2016.0)}"
      ]
     },
     "execution_count": 54,
     "metadata": {},
     "output_type": "execute_result"
    }
   ],
   "source": [
    "numeric_range_customers"
   ]
  },
  {
   "cell_type": "code",
   "execution_count": 55,
   "metadata": {
    "scrolled": true
   },
   "outputs": [
    {
     "data": {
      "text/plain": [
       "{'ANZ_HAUSHALTE_AKTIV': (0.0, 438.0),\n",
       " 'ANZ_HH_TITEL': (0.0, 20.0),\n",
       " 'ANZ_PERSONEN': (0.0, 24.0),\n",
       " 'ANZ_TITEL': (0.0, 2.0),\n",
       " 'GEBURTSJAHR': (0, 2017),\n",
       " 'KBA13_ANZAHL_PKW': (0.0, 2300.0),\n",
       " 'MIN_GEBAEUDEJAHR': (1985.0, 2015.0)}"
      ]
     },
     "execution_count": 55,
     "metadata": {},
     "output_type": "execute_result"
    }
   ],
   "source": [
    "numeric_range_mailout_train"
   ]
  },
  {
   "cell_type": "code",
   "execution_count": 56,
   "metadata": {},
   "outputs": [
    {
     "data": {
      "text/plain": [
       "{'ANZ_HAUSHALTE_AKTIV': (0.0, 379.0),\n",
       " 'ANZ_HH_TITEL': (0.0, 20.0),\n",
       " 'ANZ_PERSONEN': (0.0, 14.0),\n",
       " 'ANZ_TITEL': (0.0, 3.0),\n",
       " 'GEBURTSJAHR': (0, 2017),\n",
       " 'KBA13_ANZAHL_PKW': (0.0, 2300.0),\n",
       " 'MIN_GEBAEUDEJAHR': (1985.0, 2015.0)}"
      ]
     },
     "execution_count": 56,
     "metadata": {},
     "output_type": "execute_result"
    }
   ],
   "source": [
    "numeric_range_mailout_test"
   ]
  },
  {
   "cell_type": "code",
   "execution_count": 57,
   "metadata": {},
   "outputs": [],
   "source": [
    "# The first 4 seem strange as they don't start at 1 and go way beyond 10 or 3. Geburtsjahr can not start at 0.\n",
    "# We will replace the 0 in the first 4 ones by nan as well as 0 in geburtsjahr"
   ]
  },
  {
   "cell_type": "code",
   "execution_count": 58,
   "metadata": {},
   "outputs": [],
   "source": [
    "azdias[['ANZ_HAUSHALTE_AKTIV', 'ANZ_HH_TITEL', 'ANZ_PERSONEN', 'ANZ_TITEL', 'GEBURTSJAHR']] = azdias[[\n",
    "    'ANZ_HAUSHALTE_AKTIV', 'ANZ_HH_TITEL', 'ANZ_PERSONEN', 'ANZ_TITEL', 'GEBURTSJAHR']].replace(to_replace=0, value=np.nan)\n",
    "customers[['ANZ_HAUSHALTE_AKTIV', 'ANZ_HH_TITEL', 'ANZ_PERSONEN', 'ANZ_TITEL', 'GEBURTSJAHR']] = customers[[\n",
    "    'ANZ_HAUSHALTE_AKTIV', 'ANZ_HH_TITEL', 'ANZ_PERSONEN', 'ANZ_TITEL', 'GEBURTSJAHR']].replace(to_replace=0, value=np.nan)\n",
    "mailout_train[['ANZ_HAUSHALTE_AKTIV', 'ANZ_HH_TITEL', 'ANZ_PERSONEN', 'ANZ_TITEL', 'GEBURTSJAHR']] = mailout_train[[\n",
    "    'ANZ_HAUSHALTE_AKTIV', 'ANZ_HH_TITEL', 'ANZ_PERSONEN', 'ANZ_TITEL', 'GEBURTSJAHR']].replace(to_replace=0, value=np.nan)\n",
    "mailout_test[['ANZ_HAUSHALTE_AKTIV', 'ANZ_HH_TITEL', 'ANZ_PERSONEN', 'ANZ_TITEL', 'GEBURTSJAHR']] = mailout_test[[\n",
    "    'ANZ_HAUSHALTE_AKTIV', 'ANZ_HH_TITEL', 'ANZ_PERSONEN', 'ANZ_TITEL', 'GEBURTSJAHR']].replace(to_replace=0, value=np.nan)"
   ]
  },
  {
   "cell_type": "markdown",
   "metadata": {},
   "source": [
    "#### d. Missing data"
   ]
  },
  {
   "cell_type": "code",
   "execution_count": 59,
   "metadata": {},
   "outputs": [],
   "source": [
    "# Let's find all value in the dic_value indicating that the value is unknown\n",
    "\n",
    "unknown = attributes[attributes['Meaning'] == 'unknown']"
   ]
  },
  {
   "cell_type": "code",
   "execution_count": 60,
   "metadata": {},
   "outputs": [],
   "source": [
    "# let's replace by np.nan for these values\n",
    "\n",
    "for feat in unknown['Attribute'].unique():\n",
    "    for val in unknown[unknown['Attribute'] == feat]['Value']:\n",
    "\n",
    "        try:  # need to take into account that some fields in unknown might not be in the df\n",
    "            rows_torepl_az = azdias[azdias[feat] == val].index\n",
    "            azdias.loc[rows_torepl_az, feat] = np.nan\n",
    "        except:\n",
    "            pass\n",
    "\n",
    "        try:  # need to take into account that some fields in unknown might not be in the df\n",
    "            rows_torepl_cust = customers[customers[feat] == val].index\n",
    "            customers.loc[rows_torepl_cust, feat] = np.nan\n",
    "        except:\n",
    "            pass\n",
    "\n",
    "        try:  # need to take into account that some fields in unknown might not be in the df\n",
    "            rows_torepl_train = mailout_train[mailout_train[feat] == val].index\n",
    "            mailout_train.loc[rows_torepl_train, feat] = np.nan\n",
    "        except:\n",
    "            pass\n",
    "\n",
    "        try:  # need to take into account that some fields in unknown might not be in the df\n",
    "            rows_torepl_test = mailout_test[mailout_test[feat] == val].index\n",
    "            mailout_test.loc[rows_torepl_test, feat] = np.nan\n",
    "        except:\n",
    "            pass"
   ]
  },
  {
   "cell_type": "code",
   "execution_count": 61,
   "metadata": {},
   "outputs": [
    {
     "data": {
      "text/plain": [
       "count    366.000000\n",
       "mean       0.120200\n",
       "std        0.151557\n",
       "min        0.000000\n",
       "25%        0.005446\n",
       "50%        0.118714\n",
       "75%        0.130736\n",
       "max        0.998648\n",
       "dtype: float64"
      ]
     },
     "execution_count": 61,
     "metadata": {},
     "output_type": "execute_result"
    }
   ],
   "source": [
    "# What proportion of missing data do we know have ?\n",
    "\n",
    "(azdias.isnull().sum()/azdias.shape[0]).describe()"
   ]
  },
  {
   "cell_type": "code",
   "execution_count": 62,
   "metadata": {},
   "outputs": [
    {
     "data": {
      "text/plain": [
       "count    891221.000000\n",
       "mean          0.120200\n",
       "std           0.208894\n",
       "min           0.002732\n",
       "25%           0.024590\n",
       "50%           0.030055\n",
       "75%           0.060109\n",
       "max           0.724044\n",
       "dtype: float64"
      ]
     },
     "execution_count": 62,
     "metadata": {},
     "output_type": "execute_result"
    }
   ],
   "source": [
    "(azdias.isnull().sum(axis=1)/azdias.shape[1]).describe()"
   ]
  },
  {
   "cell_type": "code",
   "execution_count": 63,
   "metadata": {},
   "outputs": [],
   "source": [
    "# For Azdias half of the features have more than 12% missing values and 25% of the rows more than 6% missing values"
   ]
  },
  {
   "cell_type": "code",
   "execution_count": 64,
   "metadata": {},
   "outputs": [
    {
     "data": {
      "text/plain": [
       "count    369.000000\n",
       "mean       0.212617\n",
       "std        0.166391\n",
       "min        0.000000\n",
       "25%        0.016765\n",
       "50%        0.267574\n",
       "75%        0.267574\n",
       "max        0.998769\n",
       "dtype: float64"
      ]
     },
     "execution_count": 64,
     "metadata": {},
     "output_type": "execute_result"
    }
   ],
   "source": [
    "(customers.isnull().sum()/customers.shape[0]).describe()"
   ]
  },
  {
   "cell_type": "code",
   "execution_count": 65,
   "metadata": {},
   "outputs": [
    {
     "data": {
      "text/plain": [
       "count    191652.000000\n",
       "mean          0.212617\n",
       "std           0.298227\n",
       "min           0.002710\n",
       "25%           0.021680\n",
       "50%           0.027100\n",
       "75%           0.617886\n",
       "max           0.718157\n",
       "dtype: float64"
      ]
     },
     "execution_count": 65,
     "metadata": {},
     "output_type": "execute_result"
    }
   ],
   "source": [
    "(customers.isnull().sum(axis=1)/customers.shape[1]).describe()"
   ]
  },
  {
   "cell_type": "code",
   "execution_count": 66,
   "metadata": {},
   "outputs": [],
   "source": [
    "# even worst for customers. Half of features have more than 27% and 25% of rows more than 62%."
   ]
  },
  {
   "cell_type": "code",
   "execution_count": 67,
   "metadata": {},
   "outputs": [
    {
     "data": {
      "text/plain": [
       "count    367.000000\n",
       "mean       0.035136\n",
       "std        0.033365\n",
       "min        0.000000\n",
       "25%        0.003157\n",
       "50%        0.041544\n",
       "75%        0.042541\n",
       "max        0.223953\n",
       "dtype: float64"
      ]
     },
     "execution_count": 67,
     "metadata": {},
     "output_type": "execute_result"
    }
   ],
   "source": [
    "(mailout_train.isnull().sum()/customers.shape[0]).describe()"
   ]
  },
  {
   "cell_type": "code",
   "execution_count": 68,
   "metadata": {
    "scrolled": true
   },
   "outputs": [
    {
     "data": {
      "text/plain": [
       "count    42962.000000\n",
       "mean         0.155893\n",
       "std          0.261058\n",
       "min          0.008130\n",
       "25%          0.021680\n",
       "50%          0.024390\n",
       "75%          0.048780\n",
       "max          0.715447\n",
       "dtype: float64"
      ]
     },
     "execution_count": 68,
     "metadata": {},
     "output_type": "execute_result"
    }
   ],
   "source": [
    "(mailout_train.isnull().sum(axis=1)/customers.shape[1]).describe()"
   ]
  },
  {
   "cell_type": "code",
   "execution_count": 69,
   "metadata": {},
   "outputs": [],
   "source": [
    "# Little bit better for mailout_train but still 25% of columns and rows with more than 5% missing"
   ]
  },
  {
   "cell_type": "code",
   "execution_count": 70,
   "metadata": {},
   "outputs": [
    {
     "data": {
      "text/plain": [
       "count    366.000000\n",
       "mean       0.034776\n",
       "std        0.033173\n",
       "min        0.000000\n",
       "25%        0.003016\n",
       "50%        0.040913\n",
       "75%        0.041972\n",
       "max        0.223290\n",
       "dtype: float64"
      ]
     },
     "execution_count": 70,
     "metadata": {},
     "output_type": "execute_result"
    }
   ],
   "source": [
    "(mailout_test.isnull().sum()/customers.shape[0]).describe()"
   ]
  },
  {
   "cell_type": "code",
   "execution_count": 71,
   "metadata": {
    "scrolled": true
   },
   "outputs": [
    {
     "data": {
      "text/plain": [
       "count    42833.000000\n",
       "mean         0.154337\n",
       "std          0.259711\n",
       "min          0.008130\n",
       "25%          0.021680\n",
       "50%          0.024390\n",
       "75%          0.048780\n",
       "max          0.718157\n",
       "dtype: float64"
      ]
     },
     "execution_count": 71,
     "metadata": {},
     "output_type": "execute_result"
    }
   ],
   "source": [
    "(mailout_test.isnull().sum(axis=1)/customers.shape[1]).describe()"
   ]
  },
  {
   "cell_type": "code",
   "execution_count": 72,
   "metadata": {},
   "outputs": [],
   "source": [
    "# Quite similar to mailout_train"
   ]
  },
  {
   "cell_type": "markdown",
   "metadata": {},
   "source": [
    "#### e. Categorical and Numerical features"
   ]
  },
  {
   "cell_type": "code",
   "execution_count": 73,
   "metadata": {},
   "outputs": [
    {
     "data": {
      "text/html": [
       "<div>\n",
       "<style scoped>\n",
       "    .dataframe tbody tr th:only-of-type {\n",
       "        vertical-align: middle;\n",
       "    }\n",
       "\n",
       "    .dataframe tbody tr th {\n",
       "        vertical-align: top;\n",
       "    }\n",
       "\n",
       "    .dataframe thead th {\n",
       "        text-align: right;\n",
       "    }\n",
       "</style>\n",
       "<table border=\"1\" class=\"dataframe\">\n",
       "  <thead>\n",
       "    <tr style=\"text-align: right;\">\n",
       "      <th></th>\n",
       "      <th>Attribute</th>\n",
       "      <th>Description</th>\n",
       "      <th>Value</th>\n",
       "      <th>Meaning</th>\n",
       "    </tr>\n",
       "  </thead>\n",
       "  <tbody>\n",
       "    <tr>\n",
       "      <th>36</th>\n",
       "      <td>ANZ_HAUSHALTE_AKTIV</td>\n",
       "      <td>number of households in the building</td>\n",
       "      <td>…</td>\n",
       "      <td>numeric value (typically coded from 1-10)</td>\n",
       "    </tr>\n",
       "    <tr>\n",
       "      <th>37</th>\n",
       "      <td>ANZ_HH_TITEL</td>\n",
       "      <td>number of academic title holder in building</td>\n",
       "      <td>…</td>\n",
       "      <td>numeric value (typically coded from 1-10)</td>\n",
       "    </tr>\n",
       "    <tr>\n",
       "      <th>38</th>\n",
       "      <td>ANZ_PERSONEN</td>\n",
       "      <td>number of adult persons in the household</td>\n",
       "      <td>…</td>\n",
       "      <td>numeric value (typically coded from 1-3)</td>\n",
       "    </tr>\n",
       "    <tr>\n",
       "      <th>39</th>\n",
       "      <td>ANZ_TITEL</td>\n",
       "      <td>number of professional title holder in household</td>\n",
       "      <td>…</td>\n",
       "      <td>numeric value (typically coded from 1-10)</td>\n",
       "    </tr>\n",
       "    <tr>\n",
       "      <th>711</th>\n",
       "      <td>GEBURTSJAHR</td>\n",
       "      <td>year of birth</td>\n",
       "      <td>…</td>\n",
       "      <td>numeric value</td>\n",
       "    </tr>\n",
       "    <tr>\n",
       "      <th>1167</th>\n",
       "      <td>KBA13_ANZAHL_PKW</td>\n",
       "      <td>number of cars in the PLZ8</td>\n",
       "      <td>…</td>\n",
       "      <td>numeric value</td>\n",
       "    </tr>\n",
       "    <tr>\n",
       "      <th>1986</th>\n",
       "      <td>MIN_GEBAEUDEJAHR</td>\n",
       "      <td>year the building was first mentioned in our database</td>\n",
       "      <td>…</td>\n",
       "      <td>numeric value</td>\n",
       "    </tr>\n",
       "  </tbody>\n",
       "</table>\n",
       "</div>"
      ],
      "text/plain": [
       "                Attribute  \\\n",
       "36    ANZ_HAUSHALTE_AKTIV   \n",
       "37           ANZ_HH_TITEL   \n",
       "38           ANZ_PERSONEN   \n",
       "39              ANZ_TITEL   \n",
       "711           GEBURTSJAHR   \n",
       "1167     KBA13_ANZAHL_PKW   \n",
       "1986     MIN_GEBAEUDEJAHR   \n",
       "\n",
       "                                                Description Value  \\\n",
       "36                     number of households in the building     …   \n",
       "37              number of academic title holder in building     …   \n",
       "38                 number of adult persons in the household     …   \n",
       "39        number of professional title holder in household      …   \n",
       "711                                           year of birth     …   \n",
       "1167                             number of cars in the PLZ8     …   \n",
       "1986  year the building was first mentioned in our database     …   \n",
       "\n",
       "                                        Meaning  \n",
       "36    numeric value (typically coded from 1-10)  \n",
       "37    numeric value (typically coded from 1-10)  \n",
       "38     numeric value (typically coded from 1-3)  \n",
       "39    numeric value (typically coded from 1-10)  \n",
       "711                               numeric value  \n",
       "1167                              numeric value  \n",
       "1986                              numeric value  "
      ]
     },
     "execution_count": 73,
     "metadata": {},
     "output_type": "execute_result"
    }
   ],
   "source": [
    "# What are the categorical variables ?\n",
    "\n",
    "# first let's find the variables which are not categorical\n",
    "attributes[attributes['Value'] == '…']"
   ]
  },
  {
   "cell_type": "code",
   "execution_count": 74,
   "metadata": {
    "scrolled": true
   },
   "outputs": [
    {
     "data": {
      "text/plain": [
       "36      ANZ_HAUSHALTE_AKTIV\n",
       "37             ANZ_HH_TITEL\n",
       "38             ANZ_PERSONEN\n",
       "39                ANZ_TITEL\n",
       "711             GEBURTSJAHR\n",
       "1167       KBA13_ANZAHL_PKW\n",
       "1986       MIN_GEBAEUDEJAHR\n",
       "Name: Attribute, dtype: object"
      ]
     },
     "execution_count": 74,
     "metadata": {},
     "output_type": "execute_result"
    }
   ],
   "source": [
    "# Looking at the description it makes sense\n",
    "num_feat = attributes[attributes['Value'] == '…']['Attribute']\n",
    "num_feat"
   ]
  },
  {
   "cell_type": "code",
   "execution_count": 75,
   "metadata": {},
   "outputs": [],
   "source": [
    "# We can assume that all the others are categorical"
   ]
  },
  {
   "cell_type": "markdown",
   "metadata": {},
   "source": [
    "### B. Clustering"
   ]
  },
  {
   "cell_type": "markdown",
   "metadata": {},
   "source": [
    "The datasets azdias and customers have a lot of missing values. The features are largely categorical and when we look at the attribute file, a relatively large number of features are not ordered.\n",
    "\n",
    "In order to avoid loss of information by deleting lot of rows, columns and in order to avoid using a high number of inputting strategies for the missing values which would remain, we will use the KPrototype algorithm to perform the clustering."
   ]
  },
  {
   "cell_type": "code",
   "execution_count": 76,
   "metadata": {},
   "outputs": [],
   "source": [
    "# Given mix of largely categorical data and the few numerical ones, we will use kprototype to cluster the general population\n",
    "\n",
    "from kmodes.kprototypes import KPrototypes"
   ]
  },
  {
   "cell_type": "code",
   "execution_count": 77,
   "metadata": {},
   "outputs": [],
   "source": [
    "# For the categorical variables, let's replace nan values by 'unknown' and specify these features as string\n",
    "azdias.loc[:, ~azdias.columns.isin(num_feat)] = azdias.loc[:, ~azdias.columns.isin(\n",
    "    num_feat)].replace(to_replace=np.nan, value='unknown')\n",
    "customers.loc[:, ~customers.columns.isin(num_feat)] = customers.loc[:, ~customers.columns.isin(\n",
    "    num_feat)].replace(to_replace=np.nan, value='unknown')\n",
    "mailout_train.loc[:, ~mailout_train.columns.isin(num_feat)] = mailout_train.loc[:, ~mailout_train.columns.isin(\n",
    "    num_feat)].replace(to_replace=np.nan, value='unknown')\n",
    "mailout_test.loc[:, ~mailout_test.columns.isin(num_feat)] = mailout_test.loc[:, ~mailout_test.columns.isin(\n",
    "    num_feat)].replace(to_replace=np.nan, value='unknown')"
   ]
  },
  {
   "cell_type": "code",
   "execution_count": 78,
   "metadata": {},
   "outputs": [],
   "source": [
    "azdias.loc[:, ~azdias.columns.isin(\n",
    "    num_feat)] = azdias.loc[:, ~azdias.columns.isin(num_feat)].astype(str)\n",
    "customers.loc[:, ~customers.columns.isin(\n",
    "    num_feat)] = customers.loc[:, ~customers.columns.isin(num_feat)].astype(str)\n",
    "mailout_train.loc[:, ~mailout_train.columns.isin(\n",
    "    num_feat)] = mailout_train.loc[:, ~mailout_train.columns.isin(num_feat)].astype(str)\n",
    "mailout_test.loc[:, ~mailout_test.columns.isin(\n",
    "    num_feat)] = mailout_test.loc[:, ~mailout_test.columns.isin(num_feat)].astype(str)"
   ]
  },
  {
   "cell_type": "code",
   "execution_count": 79,
   "metadata": {},
   "outputs": [],
   "source": [
    "# We can not have missing numerical values to run the KPrototype. We will input these missing values with the median"
   ]
  },
  {
   "cell_type": "code",
   "execution_count": 80,
   "metadata": {},
   "outputs": [
    {
     "name": "stdout",
     "output_type": "stream",
     "text": [
      "azdias missing data 0\n",
      "customers missing data 0\n"
     ]
    }
   ],
   "source": [
    "from sklearn.impute import SimpleImputer\n",
    "imputer_num = SimpleImputer(strategy='median')\n",
    "\n",
    "azdias_num = azdias[num_feat]\n",
    "customers_num = customers[num_feat]\n",
    "\n",
    "azdias_num = pd.DataFrame(\n",
    "    data=imputer_num.fit_transform(azdias_num), columns=num_feat)\n",
    "customers_num = pd.DataFrame(\n",
    "    data=imputer_num.fit_transform(customers_num), columns=num_feat)\n",
    "\n",
    "azdias.drop(num_feat, axis=1, inplace=True)\n",
    "customers.drop(num_feat, axis=1, inplace=True)\n",
    "\n",
    "azdias = pd.merge(left=azdias, right=azdias_num,\n",
    "                  left_index=True, right_index=True)\n",
    "customers = pd.merge(left=customers, right=customers_num,\n",
    "                     left_index=True, right_index=True)\n",
    "\n",
    "print(f'azdias missing data {azdias.isnull().sum().sum()}')\n",
    "print(f'customers missing data {customers.isnull().sum().sum()}')"
   ]
  },
  {
   "cell_type": "code",
   "execution_count": 81,
   "metadata": {
    "scrolled": true
   },
   "outputs": [],
   "source": [
    "# Let's get the location of the categorical features after dropping the id LNR\n",
    "cat_feat = []\n",
    "az_col = azdias.drop('LNR', axis=1).columns\n",
    "for feat in azdias.drop('LNR', axis=1).select_dtypes('object').columns:\n",
    "    cat_feat.append(az_col.get_loc(feat))"
   ]
  },
  {
   "cell_type": "markdown",
   "metadata": {},
   "source": [
    "The below code runs the algorithm with 2 to 10 clusters and save the various models as pickle files.\n",
    "On my computer it took 48 hours to run.\n",
    "The code is therefore marked as a comment to enable to run the whole notebook, without excessive time."
   ]
  },
  {
   "cell_type": "code",
   "execution_count": 82,
   "metadata": {
    "scrolled": false
   },
   "outputs": [],
   "source": [
    "# # we try with up to 10 clusters and we save the models\n",
    "# k = [2, 3, 4, 5, 6, 7, 8, 9, 10]\n",
    "# for i in k:\n",
    "#     kproto = KPrototypes(n_clusters=i, init='Cao', verbose=3, n_init=1)\n",
    "#     clusters = kproto.fit(azdias.drop('LNR', axis=1), categorical=cat_feat)\n",
    "#     pickle.dump(clusters, open('akproto'+str(i)+'.pkl', 'wb', -1))"
   ]
  },
  {
   "cell_type": "code",
   "execution_count": 83,
   "metadata": {},
   "outputs": [],
   "source": [
    "# we now vizualize the sum of intravariance clusters vs number of clusters\n",
    "k = [2, 3, 4, 5, 6, 7, 8, 9, 10]\n",
    "dic_kproto = {}\n",
    "cost = []\n",
    "for i in k:\n",
    "    name = 'akproto'+str(i)\n",
    "    dic_kproto[name] = pickle.load(open(name+'.pkl', 'rb'))\n",
    "    cost.append(dic_kproto[name].cost_)"
   ]
  },
  {
   "cell_type": "code",
   "execution_count": 84,
   "metadata": {},
   "outputs": [
    {
     "data": {
      "image/png": "[encoded data removed]",
      "text/plain": [
       "<Figure size 432x288 with 1 Axes>"
      ]
     },
     "metadata": {
      "needs_background": "light"
     },
     "output_type": "display_data"
    }
   ],
   "source": [
    "plt.plot(k, cost)\n",
    "plt.title('Sum of intravariance clusters vs number of clusters')\n",
    "plt.show()"
   ]
  },
  {
   "cell_type": "code",
   "execution_count": 85,
   "metadata": {},
   "outputs": [],
   "source": [
    "# With the elbow method we chose 7 clusters as it seems to decrease almost linearly after"
   ]
  },
  {
   "cell_type": "code",
   "execution_count": 86,
   "metadata": {},
   "outputs": [],
   "source": [
    "# Create the clusters column in azdias\n",
    "\n",
    "azdias['Clusters'] = dic_kproto['akproto7'].labels_"
   ]
  },
  {
   "cell_type": "code",
   "execution_count": 87,
   "metadata": {},
   "outputs": [
    {
     "data": {
      "image/png": "[encoded data removed]",
      "text/plain": [
       "<Figure size 432x288 with 1 Axes>"
      ]
     },
     "metadata": {
      "needs_background": "light"
     },
     "output_type": "display_data"
    }
   ],
   "source": [
    "# Let's now apply the model to the customers, and lets vizualize the relative distribution amongst clusters for general population and customers\n",
    "\n",
    "customers_predict = customers.drop(\n",
    "    ['CUSTOMER_GROUP', 'ONLINE_PURCHASE', 'PRODUCT_GROUP', 'LNR'], axis=1)\n",
    "customers['Clusters'] = dic_kproto['akproto7'].predict(\n",
    "    customers_predict, categorical=cat_feat)\n",
    "clusters = pd.DataFrame(data={'azdias': azdias['Clusters'].value_counts(\n",
    "    normalize=True), 'customers': customers['Clusters'].value_counts(normalize=True)})\n",
    "clusters.plot.bar()\n",
    "plt.title('Relative distribution amongst clusters %')\n",
    "plt.show()"
   ]
  },
  {
   "cell_type": "code",
   "execution_count": 88,
   "metadata": {},
   "outputs": [],
   "source": [
    "# We will create a function to understand the clusters\n",
    "\n",
    "def cluster_explain(cluster, thresh):\n",
    "    \"\"\"\n",
    "    Input: \n",
    "    cluster, int. Corresponds to the cluster we want to understand can be between 0 and 6\n",
    "    thresh, float. Corresponds to the cut-off we want to retrieve the cluster categorical features. for example,\n",
    "    if 0.25 is given, only the cluster categorical features which are present in 25% or less of the population will\n",
    "    be retrieved\n",
    "\n",
    "    Output:\n",
    "    a dataframe giving the cluster categorical features and their meaning and comparing with the rest of clusters\n",
    "    a dataframe giving the cluster numerical features vs. distribution of the general population\n",
    "\n",
    "    \"\"\"\n",
    "\n",
    "    # Retrieve cluster information\n",
    "    clust = dic_kproto['akproto7'].cluster_centroids_[cluster]\n",
    "\n",
    "    # Separate numerical and categorical features\n",
    "    clust_num = clust[:7]\n",
    "    clust_cat = clust[7:]\n",
    "\n",
    "    # Analyze the categorical features\n",
    "    azdias_freq = azdias.drop('LNR', axis=1)\n",
    "\n",
    "    # Check what are the frequence for each categorical feature and convert to a np array\n",
    "    freq = []\n",
    "    for i in range(len(clust_cat)):\n",
    "        freq.append(azdias_freq[azdias_freq.columns[i]].value_counts(\n",
    "            normalize=True)[clust_cat[i]])\n",
    "    freq = np.array(freq)\n",
    "\n",
    "    # lets find in the categorical features the one who are less or equal to treshold.\n",
    "    # We exclude the features for which value is unknown. We also exclude features for which we have no definition available.\n",
    "    dic_clust_cat = {}\n",
    "    for i in np.where(clust_cat != 'unknown')[0]:\n",
    "        if freq[i] <= thresh:\n",
    "            if azdias_freq.columns[i] in attributes['Attribute'].unique():\n",
    "                dic_clust_cat[azdias_freq.columns[i]] = [clust_cat[i], freq[i]]\n",
    "\n",
    "    # Let's analyze the content of the above dictionnary.\n",
    "    for feat in dic_clust_cat.keys():\n",
    "        dic_clust_cat[feat].append(\n",
    "            attributes[attributes['Attribute'] == feat]['Description'].unique())\n",
    "        # need to account if the value is unknown or not\n",
    "        if dic_clust_cat[feat][0] == 'unknown':\n",
    "            dic_clust_cat[feat].append('unknown')\n",
    "        else:\n",
    "            # need to take into account wether the value in the dictionnary is an int or a string\n",
    "            try:\n",
    "                dic_clust_cat[feat].append(attributes[(attributes['Attribute'] == feat) & (\n",
    "                    attributes['Value'] == int(float(dic_clust_cat[feat][0])))]['Meaning'].values)\n",
    "            except:\n",
    "                dic_clust_cat[feat].append(attributes[(attributes['Attribute'] == feat) & (\n",
    "                    attributes['Value'] == dic_clust_cat[feat][0])]['Meaning'].values)\n",
    "\n",
    "    # Construct the df\n",
    "    clust_cat_df = pd.DataFrame(dic_clust_cat).T\n",
    "    clust_cat_df.columns = ['Value', 'Frequency', 'Description', 'Meaning']\n",
    "    clust_cat_df.sort_values(by='Frequency', inplace=True)\n",
    "\n",
    "    # Let's now look at numerical features\n",
    "    clust_num_df = azdias[num_feat].describe().iloc[3:, ::]\n",
    "    clust_num = pd.DataFrame(clust_num).T\n",
    "    clust_num.columns = azdias[num_feat].columns\n",
    "    clust_num.index = [f'cluster {cluster}']\n",
    "    clust_num_df = clust_num_df.append(clust_num)\n",
    "\n",
    "    return clust_cat_df, clust_num_df"
   ]
  },
  {
   "cell_type": "code",
   "execution_count": 89,
   "metadata": {
    "scrolled": true
   },
   "outputs": [],
   "source": [
    "# Let's look at cluster 4 which is over-represented for customers at 27% vs 12% for general population\n",
    "\n",
    "clust_cat_df_4, clust_num_df_4 = cluster_explain(4, 0.25)"
   ]
  },
  {
   "cell_type": "code",
   "execution_count": 90,
   "metadata": {},
   "outputs": [
    {
     "data": {
      "text/html": [
       "<div>\n",
       "<style scoped>\n",
       "    .dataframe tbody tr th:only-of-type {\n",
       "        vertical-align: middle;\n",
       "    }\n",
       "\n",
       "    .dataframe tbody tr th {\n",
       "        vertical-align: top;\n",
       "    }\n",
       "\n",
       "    .dataframe thead th {\n",
       "        text-align: right;\n",
       "    }\n",
       "</style>\n",
       "<table border=\"1\" class=\"dataframe\">\n",
       "  <thead>\n",
       "    <tr style=\"text-align: right;\">\n",
       "      <th></th>\n",
       "      <th>ANZ_HAUSHALTE_AKTIV</th>\n",
       "      <th>ANZ_HH_TITEL</th>\n",
       "      <th>ANZ_PERSONEN</th>\n",
       "      <th>ANZ_TITEL</th>\n",
       "      <th>GEBURTSJAHR</th>\n",
       "      <th>KBA13_ANZAHL_PKW</th>\n",
       "      <th>MIN_GEBAEUDEJAHR</th>\n",
       "    </tr>\n",
       "  </thead>\n",
       "  <tbody>\n",
       "    <tr>\n",
       "      <th>min</th>\n",
       "      <td>1.0</td>\n",
       "      <td>1.0</td>\n",
       "      <td>1.0</td>\n",
       "      <td>1.0</td>\n",
       "      <td>1900.0</td>\n",
       "      <td>0.0</td>\n",
       "      <td>1985.0</td>\n",
       "    </tr>\n",
       "    <tr>\n",
       "      <th>25%</th>\n",
       "      <td>2.0</td>\n",
       "      <td>1.0</td>\n",
       "      <td>1.0</td>\n",
       "      <td>1.0</td>\n",
       "      <td>1965.0</td>\n",
       "      <td>406.0</td>\n",
       "      <td>1992.0</td>\n",
       "    </tr>\n",
       "    <tr>\n",
       "      <th>50%</th>\n",
       "      <td>4.0</td>\n",
       "      <td>1.0</td>\n",
       "      <td>1.0</td>\n",
       "      <td>1.0</td>\n",
       "      <td>1968.0</td>\n",
       "      <td>549.0</td>\n",
       "      <td>1992.0</td>\n",
       "    </tr>\n",
       "    <tr>\n",
       "      <th>75%</th>\n",
       "      <td>9.0</td>\n",
       "      <td>1.0</td>\n",
       "      <td>2.0</td>\n",
       "      <td>1.0</td>\n",
       "      <td>1970.0</td>\n",
       "      <td>738.0</td>\n",
       "      <td>1992.0</td>\n",
       "    </tr>\n",
       "    <tr>\n",
       "      <th>max</th>\n",
       "      <td>595.0</td>\n",
       "      <td>23.0</td>\n",
       "      <td>45.0</td>\n",
       "      <td>6.0</td>\n",
       "      <td>2017.0</td>\n",
       "      <td>2300.0</td>\n",
       "      <td>2016.0</td>\n",
       "    </tr>\n",
       "    <tr>\n",
       "      <th>cluster 4</th>\n",
       "      <td>4.514265732943967</td>\n",
       "      <td>1.0042622362091616</td>\n",
       "      <td>1.1931426195269013</td>\n",
       "      <td>1.0001795620575922</td>\n",
       "      <td>1968.0357895532686</td>\n",
       "      <td>549.0129284681466</td>\n",
       "      <td>1993.072647028248</td>\n",
       "    </tr>\n",
       "  </tbody>\n",
       "</table>\n",
       "</div>"
      ],
      "text/plain": [
       "          ANZ_HAUSHALTE_AKTIV        ANZ_HH_TITEL        ANZ_PERSONEN  \\\n",
       "min                       1.0                 1.0                 1.0   \n",
       "25%                       2.0                 1.0                 1.0   \n",
       "50%                       4.0                 1.0                 1.0   \n",
       "75%                       9.0                 1.0                 2.0   \n",
       "max                     595.0                23.0                45.0   \n",
       "cluster 4   4.514265732943967  1.0042622362091616  1.1931426195269013   \n",
       "\n",
       "                    ANZ_TITEL         GEBURTSJAHR   KBA13_ANZAHL_PKW  \\\n",
       "min                       1.0              1900.0                0.0   \n",
       "25%                       1.0              1965.0              406.0   \n",
       "50%                       1.0              1968.0              549.0   \n",
       "75%                       1.0              1970.0              738.0   \n",
       "max                       6.0              2017.0             2300.0   \n",
       "cluster 4  1.0001795620575922  1968.0357895532686  549.0129284681466   \n",
       "\n",
       "            MIN_GEBAEUDEJAHR  \n",
       "min                   1985.0  \n",
       "25%                   1992.0  \n",
       "50%                   1992.0  \n",
       "75%                   1992.0  \n",
       "max                   2016.0  \n",
       "cluster 4  1993.072647028248  "
      ]
     },
     "execution_count": 90,
     "metadata": {},
     "output_type": "execute_result"
    }
   ],
   "source": [
    "clust_num_df_4"
   ]
  },
  {
   "cell_type": "code",
   "execution_count": 91,
   "metadata": {},
   "outputs": [],
   "source": [
    "# On the numerical attributes nothing stands out. All features very close to the median.\n",
    "# - Live mostly in 4 households building\n",
    "# - One academic title holder in household\n",
    "# - One adult person in household\n",
    "# - One professional title holder in household\n",
    "# - born in 1968 so in their 50's\n",
    "# - Live in geographical area with a number of cars at the median"
   ]
  },
  {
   "cell_type": "code",
   "execution_count": 92,
   "metadata": {},
   "outputs": [
    {
     "data": {
      "text/html": [
       "<div>\n",
       "<style scoped>\n",
       "    .dataframe tbody tr th:only-of-type {\n",
       "        vertical-align: middle;\n",
       "    }\n",
       "\n",
       "    .dataframe tbody tr th {\n",
       "        vertical-align: top;\n",
       "    }\n",
       "\n",
       "    .dataframe thead th {\n",
       "        text-align: right;\n",
       "    }\n",
       "</style>\n",
       "<table border=\"1\" class=\"dataframe\">\n",
       "  <thead>\n",
       "    <tr style=\"text-align: right;\">\n",
       "      <th></th>\n",
       "      <th>Value</th>\n",
       "      <th>Frequency</th>\n",
       "      <th>Description</th>\n",
       "      <th>Meaning</th>\n",
       "    </tr>\n",
       "  </thead>\n",
       "  <tbody>\n",
       "    <tr>\n",
       "      <th>LP_STATUS_FEIN</th>\n",
       "      <td>5.0</td>\n",
       "      <td>0.083585</td>\n",
       "      <td>[social status fine]</td>\n",
       "      <td>[minimalistic high-income earners]</td>\n",
       "    </tr>\n",
       "    <tr>\n",
       "      <th>GFK_URLAUBERTYP</th>\n",
       "      <td>5.0</td>\n",
       "      <td>0.134788</td>\n",
       "      <td>[vacation habits]</td>\n",
       "      <td>[Nature fans]</td>\n",
       "    </tr>\n",
       "    <tr>\n",
       "      <th>SEMIO_VERT</th>\n",
       "      <td>1.0</td>\n",
       "      <td>0.135137</td>\n",
       "      <td>[affinity indicating in what way the person is dreamily]</td>\n",
       "      <td>[highest affinity]</td>\n",
       "    </tr>\n",
       "    <tr>\n",
       "      <th>FINANZTYP</th>\n",
       "      <td>4.0</td>\n",
       "      <td>0.146569</td>\n",
       "      <td>[best descirbing financial type for the person]</td>\n",
       "      <td>[be prepared]</td>\n",
       "    </tr>\n",
       "    <tr>\n",
       "      <th>HH_EINKOMMEN_SCORE</th>\n",
       "      <td>2.0</td>\n",
       "      <td>0.158005</td>\n",
       "      <td>[estimated household net income ]</td>\n",
       "      <td>[very high income]</td>\n",
       "    </tr>\n",
       "    <tr>\n",
       "      <th>CJT_GESAMTTYP</th>\n",
       "      <td>6.0</td>\n",
       "      <td>0.172701</td>\n",
       "      <td>[customer journey typology]</td>\n",
       "      <td>[Advertising-Enthusiast with restricted Cross-Channel-Behaviour ]</td>\n",
       "    </tr>\n",
       "    <tr>\n",
       "      <th>SEMIO_LUST</th>\n",
       "      <td>5.0</td>\n",
       "      <td>0.190794</td>\n",
       "      <td>[affinity indicating in what way the person is sensual minded]</td>\n",
       "      <td>[low affinity]</td>\n",
       "    </tr>\n",
       "    <tr>\n",
       "      <th>SEMIO_MAT</th>\n",
       "      <td>5.0</td>\n",
       "      <td>0.192171</td>\n",
       "      <td>[affinity indicating in what way the person is material minded]</td>\n",
       "      <td>[low affinity]</td>\n",
       "    </tr>\n",
       "    <tr>\n",
       "      <th>SEMIO_ERL</th>\n",
       "      <td>3.0</td>\n",
       "      <td>0.202895</td>\n",
       "      <td>[affinity indicating in what way the person is eventful orientated]</td>\n",
       "      <td>[high affinity]</td>\n",
       "    </tr>\n",
       "    <tr>\n",
       "      <th>SEMIO_DOM</th>\n",
       "      <td>6.0</td>\n",
       "      <td>0.205824</td>\n",
       "      <td>[affinity indicating in what way the person is dominant minded]</td>\n",
       "      <td>[very low affinity]</td>\n",
       "    </tr>\n",
       "    <tr>\n",
       "      <th>SEMIO_FAM</th>\n",
       "      <td>6.0</td>\n",
       "      <td>0.20952</td>\n",
       "      <td>[affinity indicating in what way the person is familiar minded]</td>\n",
       "      <td>[very low affinity]</td>\n",
       "    </tr>\n",
       "    <tr>\n",
       "      <th>ONLINE_AFFINITAET</th>\n",
       "      <td>2.0</td>\n",
       "      <td>0.221999</td>\n",
       "      <td>[online affinity]</td>\n",
       "      <td>[middle]</td>\n",
       "    </tr>\n",
       "    <tr>\n",
       "      <th>FINANZ_UNAUFFAELLIGER</th>\n",
       "      <td>5.0</td>\n",
       "      <td>0.225029</td>\n",
       "      <td>[financial typology: unremarkable]</td>\n",
       "      <td>[very low]</td>\n",
       "    </tr>\n",
       "    <tr>\n",
       "      <th>FINANZ_SPARER</th>\n",
       "      <td>4.0</td>\n",
       "      <td>0.225784</td>\n",
       "      <td>[financial typology: money saver]</td>\n",
       "      <td>[low]</td>\n",
       "    </tr>\n",
       "    <tr>\n",
       "      <th>SEMIO_PFLICHT</th>\n",
       "      <td>5.0</td>\n",
       "      <td>0.228726</td>\n",
       "      <td>[affinity indicating in what way the person is dutyfull traditional minded]</td>\n",
       "      <td>[low affinity]</td>\n",
       "    </tr>\n",
       "    <tr>\n",
       "      <th>SEMIO_KAEM</th>\n",
       "      <td>6.0</td>\n",
       "      <td>0.231145</td>\n",
       "      <td>[affinity indicating in what way the person is of a fightfull attitude]</td>\n",
       "      <td>[very low affinity]</td>\n",
       "    </tr>\n",
       "    <tr>\n",
       "      <th>SEMIO_KULT</th>\n",
       "      <td>3.0</td>\n",
       "      <td>0.234585</td>\n",
       "      <td>[affinity indicating in what way the person is cultural minded]</td>\n",
       "      <td>[high affinity]</td>\n",
       "    </tr>\n",
       "    <tr>\n",
       "      <th>SEMIO_REL</th>\n",
       "      <td>7.0</td>\n",
       "      <td>0.237177</td>\n",
       "      <td>[affinity indicating in what way the person is religious]</td>\n",
       "      <td>[lowest affinity]</td>\n",
       "    </tr>\n",
       "    <tr>\n",
       "      <th>SEMIO_KRIT</th>\n",
       "      <td>7.0</td>\n",
       "      <td>0.246681</td>\n",
       "      <td>[affinity indicating in what way the person is critical minded]</td>\n",
       "      <td>[lowest affinity]</td>\n",
       "    </tr>\n",
       "  </tbody>\n",
       "</table>\n",
       "</div>"
      ],
      "text/plain": [
       "                      Value Frequency  \\\n",
       "LP_STATUS_FEIN          5.0  0.083585   \n",
       "GFK_URLAUBERTYP         5.0  0.134788   \n",
       "SEMIO_VERT              1.0  0.135137   \n",
       "FINANZTYP               4.0  0.146569   \n",
       "HH_EINKOMMEN_SCORE      2.0  0.158005   \n",
       "CJT_GESAMTTYP           6.0  0.172701   \n",
       "SEMIO_LUST              5.0  0.190794   \n",
       "SEMIO_MAT               5.0  0.192171   \n",
       "SEMIO_ERL               3.0  0.202895   \n",
       "SEMIO_DOM               6.0  0.205824   \n",
       "SEMIO_FAM               6.0   0.20952   \n",
       "ONLINE_AFFINITAET       2.0  0.221999   \n",
       "FINANZ_UNAUFFAELLIGER   5.0  0.225029   \n",
       "FINANZ_SPARER           4.0  0.225784   \n",
       "SEMIO_PFLICHT           5.0  0.228726   \n",
       "SEMIO_KAEM              6.0  0.231145   \n",
       "SEMIO_KULT              3.0  0.234585   \n",
       "SEMIO_REL               7.0  0.237177   \n",
       "SEMIO_KRIT              7.0  0.246681   \n",
       "\n",
       "                                                                                       Description  \\\n",
       "LP_STATUS_FEIN                                                                [social status fine]   \n",
       "GFK_URLAUBERTYP                                                                  [vacation habits]   \n",
       "SEMIO_VERT                                [affinity indicating in what way the person is dreamily]   \n",
       "FINANZTYP                                          [best descirbing financial type for the person]   \n",
       "HH_EINKOMMEN_SCORE                                               [estimated household net income ]   \n",
       "CJT_GESAMTTYP                                                          [customer journey typology]   \n",
       "SEMIO_LUST                          [affinity indicating in what way the person is sensual minded]   \n",
       "SEMIO_MAT                          [affinity indicating in what way the person is material minded]   \n",
       "SEMIO_ERL                      [affinity indicating in what way the person is eventful orientated]   \n",
       "SEMIO_DOM                          [affinity indicating in what way the person is dominant minded]   \n",
       "SEMIO_FAM                          [affinity indicating in what way the person is familiar minded]   \n",
       "ONLINE_AFFINITAET                                                                [online affinity]   \n",
       "FINANZ_UNAUFFAELLIGER                                           [financial typology: unremarkable]   \n",
       "FINANZ_SPARER                                                    [financial typology: money saver]   \n",
       "SEMIO_PFLICHT          [affinity indicating in what way the person is dutyfull traditional minded]   \n",
       "SEMIO_KAEM                 [affinity indicating in what way the person is of a fightfull attitude]   \n",
       "SEMIO_KULT                         [affinity indicating in what way the person is cultural minded]   \n",
       "SEMIO_REL                                [affinity indicating in what way the person is religious]   \n",
       "SEMIO_KRIT                         [affinity indicating in what way the person is critical minded]   \n",
       "\n",
       "                                                                                 Meaning  \n",
       "LP_STATUS_FEIN                                        [minimalistic high-income earners]  \n",
       "GFK_URLAUBERTYP                                                            [Nature fans]  \n",
       "SEMIO_VERT                                                            [highest affinity]  \n",
       "FINANZTYP                                                                  [be prepared]  \n",
       "HH_EINKOMMEN_SCORE                                                    [very high income]  \n",
       "CJT_GESAMTTYP          [Advertising-Enthusiast with restricted Cross-Channel-Behaviour ]  \n",
       "SEMIO_LUST                                                                [low affinity]  \n",
       "SEMIO_MAT                                                                 [low affinity]  \n",
       "SEMIO_ERL                                                                [high affinity]  \n",
       "SEMIO_DOM                                                            [very low affinity]  \n",
       "SEMIO_FAM                                                            [very low affinity]  \n",
       "ONLINE_AFFINITAET                                                               [middle]  \n",
       "FINANZ_UNAUFFAELLIGER                                                         [very low]  \n",
       "FINANZ_SPARER                                                                      [low]  \n",
       "SEMIO_PFLICHT                                                             [low affinity]  \n",
       "SEMIO_KAEM                                                           [very low affinity]  \n",
       "SEMIO_KULT                                                               [high affinity]  \n",
       "SEMIO_REL                                                              [lowest affinity]  \n",
       "SEMIO_KRIT                                                             [lowest affinity]  "
      ]
     },
     "execution_count": 92,
     "metadata": {},
     "output_type": "execute_result"
    }
   ],
   "source": [
    "clust_cat_df_4"
   ]
  },
  {
   "cell_type": "code",
   "execution_count": 93,
   "metadata": {},
   "outputs": [],
   "source": [
    "# From the above, we can conclude that the cluster 4 which is over-represented with customers -circ. 25% of customers double of\n",
    "# general population-, is representative of:\n",
    "# - High income but not materialistic.\n",
    "# - Nature fan\n",
    "# - Dreamily person\n",
    "# - Social and cultural minded"
   ]
  },
  {
   "cell_type": "code",
   "execution_count": 94,
   "metadata": {},
   "outputs": [],
   "source": [
    "# Let's look at cluster 3 which is under-represented for customers at 13% vs 21% for general population\n",
    "\n",
    "clust_cat_df_3, clust_num_df_3 = cluster_explain(3, 0.25)"
   ]
  },
  {
   "cell_type": "code",
   "execution_count": 95,
   "metadata": {},
   "outputs": [
    {
     "data": {
      "text/html": [
       "<div>\n",
       "<style scoped>\n",
       "    .dataframe tbody tr th:only-of-type {\n",
       "        vertical-align: middle;\n",
       "    }\n",
       "\n",
       "    .dataframe tbody tr th {\n",
       "        vertical-align: top;\n",
       "    }\n",
       "\n",
       "    .dataframe thead th {\n",
       "        text-align: right;\n",
       "    }\n",
       "</style>\n",
       "<table border=\"1\" class=\"dataframe\">\n",
       "  <thead>\n",
       "    <tr style=\"text-align: right;\">\n",
       "      <th></th>\n",
       "      <th>ANZ_HAUSHALTE_AKTIV</th>\n",
       "      <th>ANZ_HH_TITEL</th>\n",
       "      <th>ANZ_PERSONEN</th>\n",
       "      <th>ANZ_TITEL</th>\n",
       "      <th>GEBURTSJAHR</th>\n",
       "      <th>KBA13_ANZAHL_PKW</th>\n",
       "      <th>MIN_GEBAEUDEJAHR</th>\n",
       "    </tr>\n",
       "  </thead>\n",
       "  <tbody>\n",
       "    <tr>\n",
       "      <th>min</th>\n",
       "      <td>1.0</td>\n",
       "      <td>1.0</td>\n",
       "      <td>1.0</td>\n",
       "      <td>1.0</td>\n",
       "      <td>1900.0</td>\n",
       "      <td>0.0</td>\n",
       "      <td>1985.0</td>\n",
       "    </tr>\n",
       "    <tr>\n",
       "      <th>25%</th>\n",
       "      <td>2.0</td>\n",
       "      <td>1.0</td>\n",
       "      <td>1.0</td>\n",
       "      <td>1.0</td>\n",
       "      <td>1965.0</td>\n",
       "      <td>406.0</td>\n",
       "      <td>1992.0</td>\n",
       "    </tr>\n",
       "    <tr>\n",
       "      <th>50%</th>\n",
       "      <td>4.0</td>\n",
       "      <td>1.0</td>\n",
       "      <td>1.0</td>\n",
       "      <td>1.0</td>\n",
       "      <td>1968.0</td>\n",
       "      <td>549.0</td>\n",
       "      <td>1992.0</td>\n",
       "    </tr>\n",
       "    <tr>\n",
       "      <th>75%</th>\n",
       "      <td>9.0</td>\n",
       "      <td>1.0</td>\n",
       "      <td>2.0</td>\n",
       "      <td>1.0</td>\n",
       "      <td>1970.0</td>\n",
       "      <td>738.0</td>\n",
       "      <td>1992.0</td>\n",
       "    </tr>\n",
       "    <tr>\n",
       "      <th>max</th>\n",
       "      <td>595.0</td>\n",
       "      <td>23.0</td>\n",
       "      <td>45.0</td>\n",
       "      <td>6.0</td>\n",
       "      <td>2017.0</td>\n",
       "      <td>2300.0</td>\n",
       "      <td>2016.0</td>\n",
       "    </tr>\n",
       "    <tr>\n",
       "      <th>cluster 3</th>\n",
       "      <td>10.25823529101283</td>\n",
       "      <td>1.0108730648847508</td>\n",
       "      <td>1.6888667205041723</td>\n",
       "      <td>1.0002744657155374</td>\n",
       "      <td>1967.6676220184843</td>\n",
       "      <td>268.43153927762734</td>\n",
       "      <td>1992.995619104925</td>\n",
       "    </tr>\n",
       "  </tbody>\n",
       "</table>\n",
       "</div>"
      ],
      "text/plain": [
       "          ANZ_HAUSHALTE_AKTIV        ANZ_HH_TITEL        ANZ_PERSONEN  \\\n",
       "min                       1.0                 1.0                 1.0   \n",
       "25%                       2.0                 1.0                 1.0   \n",
       "50%                       4.0                 1.0                 1.0   \n",
       "75%                       9.0                 1.0                 2.0   \n",
       "max                     595.0                23.0                45.0   \n",
       "cluster 3   10.25823529101283  1.0108730648847508  1.6888667205041723   \n",
       "\n",
       "                    ANZ_TITEL         GEBURTSJAHR    KBA13_ANZAHL_PKW  \\\n",
       "min                       1.0              1900.0                 0.0   \n",
       "25%                       1.0              1965.0               406.0   \n",
       "50%                       1.0              1968.0               549.0   \n",
       "75%                       1.0              1970.0               738.0   \n",
       "max                       6.0              2017.0              2300.0   \n",
       "cluster 3  1.0002744657155374  1967.6676220184843  268.43153927762734   \n",
       "\n",
       "            MIN_GEBAEUDEJAHR  \n",
       "min                   1985.0  \n",
       "25%                   1992.0  \n",
       "50%                   1992.0  \n",
       "75%                   1992.0  \n",
       "max                   2016.0  \n",
       "cluster 3  1992.995619104925  "
      ]
     },
     "execution_count": 95,
     "metadata": {},
     "output_type": "execute_result"
    }
   ],
   "source": [
    "clust_num_df_3"
   ]
  },
  {
   "cell_type": "code",
   "execution_count": 96,
   "metadata": {},
   "outputs": [],
   "source": [
    "# On the numerical attributes a couple of features are quite far away from the median.\n",
    "# - Live mostly in 10 households building, meaning large building. This above the 75% percentile/\n",
    "# - One academic title holder in household. close to median.\n",
    "# - One to two adult person in household. Tends to be more couple than cluster 4.\n",
    "# - One professional title holder in household\n",
    "# - born in 1968 so in their 50's\n",
    "# - Live in geographical area with a small number of cars below 25% percentile."
   ]
  },
  {
   "cell_type": "code",
   "execution_count": 97,
   "metadata": {},
   "outputs": [
    {
     "data": {
      "text/html": [
       "<div>\n",
       "<style scoped>\n",
       "    .dataframe tbody tr th:only-of-type {\n",
       "        vertical-align: middle;\n",
       "    }\n",
       "\n",
       "    .dataframe tbody tr th {\n",
       "        vertical-align: top;\n",
       "    }\n",
       "\n",
       "    .dataframe thead th {\n",
       "        text-align: right;\n",
       "    }\n",
       "</style>\n",
       "<table border=\"1\" class=\"dataframe\">\n",
       "  <thead>\n",
       "    <tr style=\"text-align: right;\">\n",
       "      <th></th>\n",
       "      <th>Value</th>\n",
       "      <th>Frequency</th>\n",
       "      <th>Description</th>\n",
       "      <th>Meaning</th>\n",
       "    </tr>\n",
       "  </thead>\n",
       "  <tbody>\n",
       "    <tr>\n",
       "      <th>CAMEO_DEU_2015</th>\n",
       "      <td>8A</td>\n",
       "      <td>0.058838</td>\n",
       "      <td>[CAMEO classification 2015 - detailled classification]</td>\n",
       "      <td>[Multi-culteral]</td>\n",
       "    </tr>\n",
       "    <tr>\n",
       "      <th>LP_LEBENSPHASE_FEIN</th>\n",
       "      <td>1.0</td>\n",
       "      <td>0.070316</td>\n",
       "      <td>[lifestage fine ]</td>\n",
       "      <td>[single low-income earners of younger age]</td>\n",
       "    </tr>\n",
       "    <tr>\n",
       "      <th>ORTSGR_KLS9</th>\n",
       "      <td>9.0</td>\n",
       "      <td>0.103093</td>\n",
       "      <td>[size of the community, '- classified number of inhabitants]</td>\n",
       "      <td>[&gt; 700.000  inhabitants]</td>\n",
       "    </tr>\n",
       "    <tr>\n",
       "      <th>KBA13_AUTOQUOTE</th>\n",
       "      <td>1.0</td>\n",
       "      <td>0.114454</td>\n",
       "      <td>[share of cars per household within the PLZ8]</td>\n",
       "      <td>[very low]</td>\n",
       "    </tr>\n",
       "    <tr>\n",
       "      <th>KBA13_CCM_2500</th>\n",
       "      <td>1.0</td>\n",
       "      <td>0.114977</td>\n",
       "      <td>[share of cars with 2000ccm to 2499ccm within the PLZ8]</td>\n",
       "      <td>[very low]</td>\n",
       "    </tr>\n",
       "    <tr>\n",
       "      <th>KBA13_KW_121</th>\n",
       "      <td>1.0</td>\n",
       "      <td>0.118608</td>\n",
       "      <td>[share of cars with an engine power more than 120 KW - PLZ8]</td>\n",
       "      <td>[very low]</td>\n",
       "    </tr>\n",
       "    <tr>\n",
       "      <th>INNENSTADT</th>\n",
       "      <td>2.0</td>\n",
       "      <td>0.122358</td>\n",
       "      <td>[distance to the city centre]</td>\n",
       "      <td>[distance to the city centre 3 km]</td>\n",
       "    </tr>\n",
       "    <tr>\n",
       "      <th>KBA13_BJ_2009</th>\n",
       "      <td>1.0</td>\n",
       "      <td>0.134545</td>\n",
       "      <td>[share of cars built in 2009 within the PLZ8]</td>\n",
       "      <td>[very low]</td>\n",
       "    </tr>\n",
       "    <tr>\n",
       "      <th>KBA13_CCM_2501</th>\n",
       "      <td>1.0</td>\n",
       "      <td>0.136663</td>\n",
       "      <td>[share of cars with more than 2500ccm within the PLZ8]</td>\n",
       "      <td>[very low]</td>\n",
       "    </tr>\n",
       "    <tr>\n",
       "      <th>CAMEO_DEUG_2015</th>\n",
       "      <td>8.0</td>\n",
       "      <td>0.15085</td>\n",
       "      <td>[CAMEO classification 2015 - Uppergroup]</td>\n",
       "      <td>[working class]</td>\n",
       "    </tr>\n",
       "    <tr>\n",
       "      <th>KBA05_GBZ</th>\n",
       "      <td>2.0</td>\n",
       "      <td>0.155436</td>\n",
       "      <td>[number of buildings in the microcell]</td>\n",
       "      <td>[3-4 buildings]</td>\n",
       "    </tr>\n",
       "    <tr>\n",
       "      <th>GFK_URLAUBERTYP</th>\n",
       "      <td>12.0</td>\n",
       "      <td>0.155455</td>\n",
       "      <td>[vacation habits]</td>\n",
       "      <td>[without vacation]</td>\n",
       "    </tr>\n",
       "    <tr>\n",
       "      <th>SEMIO_FAM</th>\n",
       "      <td>2.0</td>\n",
       "      <td>0.156596</td>\n",
       "      <td>[affinity indicating in what way the person is familiar minded]</td>\n",
       "      <td>[very high affinity]</td>\n",
       "    </tr>\n",
       "    <tr>\n",
       "      <th>KBA13_SEG_SPORTWAGEN</th>\n",
       "      <td>2.0</td>\n",
       "      <td>0.164864</td>\n",
       "      <td>[share of sportscars within the PLZ8]</td>\n",
       "      <td>[low]</td>\n",
       "    </tr>\n",
       "    <tr>\n",
       "      <th>KBA13_CCM_3000</th>\n",
       "      <td>1.0</td>\n",
       "      <td>0.16749</td>\n",
       "      <td>[share of cars with 2500ccm to 2999ccm within the PLZ8]</td>\n",
       "      <td>[very low]</td>\n",
       "    </tr>\n",
       "    <tr>\n",
       "      <th>BALLRAUM</th>\n",
       "      <td>1.0</td>\n",
       "      <td>0.170308</td>\n",
       "      <td>[distance to next urban centre ]</td>\n",
       "      <td>[till 10 km]</td>\n",
       "    </tr>\n",
       "    <tr>\n",
       "      <th>SEMIO_KRIT</th>\n",
       "      <td>5.0</td>\n",
       "      <td>0.175375</td>\n",
       "      <td>[affinity indicating in what way the person is critical minded]</td>\n",
       "      <td>[low affinity]</td>\n",
       "    </tr>\n",
       "    <tr>\n",
       "      <th>ONLINE_AFFINITAET</th>\n",
       "      <td>1.0</td>\n",
       "      <td>0.175601</td>\n",
       "      <td>[online affinity]</td>\n",
       "      <td>[low]</td>\n",
       "    </tr>\n",
       "    <tr>\n",
       "      <th>KBA13_SEG_OBERKLASSE</th>\n",
       "      <td>1.0</td>\n",
       "      <td>0.176928</td>\n",
       "      <td>[share of upper class cars (BMW 7er etc.) in the PLZ8]</td>\n",
       "      <td>[very low]</td>\n",
       "    </tr>\n",
       "    <tr>\n",
       "      <th>LP_LEBENSPHASE_GROB</th>\n",
       "      <td>2.0</td>\n",
       "      <td>0.177441</td>\n",
       "      <td>[lifestage rough]</td>\n",
       "      <td>[single low-income- and average earners of higher age ]</td>\n",
       "    </tr>\n",
       "    <tr>\n",
       "      <th>SEMIO_LUST</th>\n",
       "      <td>6.0</td>\n",
       "      <td>0.177985</td>\n",
       "      <td>[affinity indicating in what way the person is sensual minded]</td>\n",
       "      <td>[very low affinity]</td>\n",
       "    </tr>\n",
       "    <tr>\n",
       "      <th>SEMIO_PFLICHT</th>\n",
       "      <td>4.0</td>\n",
       "      <td>0.181904</td>\n",
       "      <td>[affinity indicating in what way the person is dutyfull traditional minded]</td>\n",
       "      <td>[average affinity]</td>\n",
       "    </tr>\n",
       "    <tr>\n",
       "      <th>SEMIO_MAT</th>\n",
       "      <td>4.0</td>\n",
       "      <td>0.18274</td>\n",
       "      <td>[affinity indicating in what way the person is material minded]</td>\n",
       "      <td>[average affinity]</td>\n",
       "    </tr>\n",
       "    <tr>\n",
       "      <th>MOBI_REGIO</th>\n",
       "      <td>1.0</td>\n",
       "      <td>0.184009</td>\n",
       "      <td>[moving patterns]</td>\n",
       "      <td>[very high mobility]</td>\n",
       "    </tr>\n",
       "    <tr>\n",
       "      <th>PLZ8_ANTG3</th>\n",
       "      <td>3.0</td>\n",
       "      <td>0.184062</td>\n",
       "      <td>[number of 6-10 family houses in the PLZ8]</td>\n",
       "      <td>[high share]</td>\n",
       "    </tr>\n",
       "    <tr>\n",
       "      <th>KBA13_SEG_WOHNMOBILE</th>\n",
       "      <td>2.0</td>\n",
       "      <td>0.185369</td>\n",
       "      <td>[share of roadmobiles within the PLZ8]</td>\n",
       "      <td>[low]</td>\n",
       "    </tr>\n",
       "    <tr>\n",
       "      <th>SEMIO_TRADV</th>\n",
       "      <td>4.0</td>\n",
       "      <td>0.195466</td>\n",
       "      <td>[affinity indicating in what way the person is traditional minded]</td>\n",
       "      <td>[average affinity]</td>\n",
       "    </tr>\n",
       "    <tr>\n",
       "      <th>SEMIO_KULT</th>\n",
       "      <td>5.0</td>\n",
       "      <td>0.197798</td>\n",
       "      <td>[affinity indicating in what way the person is cultural minded]</td>\n",
       "      <td>[low affinity]</td>\n",
       "    </tr>\n",
       "    <tr>\n",
       "      <th>SEMIO_DOM</th>\n",
       "      <td>5.0</td>\n",
       "      <td>0.199601</td>\n",
       "      <td>[affinity indicating in what way the person is dominant minded]</td>\n",
       "      <td>[low affinity]</td>\n",
       "    </tr>\n",
       "    <tr>\n",
       "      <th>SEMIO_KAEM</th>\n",
       "      <td>3.0</td>\n",
       "      <td>0.203042</td>\n",
       "      <td>[affinity indicating in what way the person is of a fightfull attitude]</td>\n",
       "      <td>[high affinity]</td>\n",
       "    </tr>\n",
       "    <tr>\n",
       "      <th>KBA05_SEG5</th>\n",
       "      <td>0.0</td>\n",
       "      <td>0.20513</td>\n",
       "      <td>[share of upper middle class cars and upper class cars (BMW5er, BMW7er etc.)]</td>\n",
       "      <td>[none]</td>\n",
       "    </tr>\n",
       "    <tr>\n",
       "      <th>KBA05_ZUL4</th>\n",
       "      <td>2.0</td>\n",
       "      <td>0.205479</td>\n",
       "      <td>[share of cars built from 2003 on]</td>\n",
       "      <td>[low]</td>\n",
       "    </tr>\n",
       "    <tr>\n",
       "      <th>FINANZ_HAUSBAUER</th>\n",
       "      <td>5.0</td>\n",
       "      <td>0.206366</td>\n",
       "      <td>[financial typology: main focus is the own house]</td>\n",
       "      <td>[very low]</td>\n",
       "    </tr>\n",
       "    <tr>\n",
       "      <th>PRAEGENDE_JUGENDJAHRE</th>\n",
       "      <td>14.0</td>\n",
       "      <td>0.211729</td>\n",
       "      <td>[dominating movement in the person's youth (avantgarde or mainstream)]</td>\n",
       "      <td>[90ies - digital media kids (Mainstream, O+W)]</td>\n",
       "    </tr>\n",
       "    <tr>\n",
       "      <th>PLZ8_ANTG1</th>\n",
       "      <td>1.0</td>\n",
       "      <td>0.212346</td>\n",
       "      <td>[number of 1-2 family houses in the PLZ8]</td>\n",
       "      <td>[low share]</td>\n",
       "    </tr>\n",
       "    <tr>\n",
       "      <th>PLZ8_ANTG2</th>\n",
       "      <td>4.0</td>\n",
       "      <td>0.214318</td>\n",
       "      <td>[number of 3-5 family houses in the PLZ8]</td>\n",
       "      <td>[very high share]</td>\n",
       "    </tr>\n",
       "    <tr>\n",
       "      <th>KONSUMNAEHE</th>\n",
       "      <td>1.0</td>\n",
       "      <td>0.217385</td>\n",
       "      <td>[distance from a building to PoS (Point of Sale)]</td>\n",
       "      <td>[building is located in a 125 x 125m-grid cell (RA1), which is a consumption cell]</td>\n",
       "    </tr>\n",
       "    <tr>\n",
       "      <th>REGIOTYP</th>\n",
       "      <td>6.0</td>\n",
       "      <td>0.219122</td>\n",
       "      <td>[neighbourhood ]</td>\n",
       "      <td>[traditional workers]</td>\n",
       "    </tr>\n",
       "    <tr>\n",
       "      <th>SEMIO_ERL</th>\n",
       "      <td>4.0</td>\n",
       "      <td>0.220154</td>\n",
       "      <td>[affinity indicating in what way the person is eventful orientated]</td>\n",
       "      <td>[average affinity]</td>\n",
       "    </tr>\n",
       "    <tr>\n",
       "      <th>EWDICHTE</th>\n",
       "      <td>6.0</td>\n",
       "      <td>0.225543</td>\n",
       "      <td>[density of inhabitants per square kilometer]</td>\n",
       "      <td>[more than 999 HH/²]</td>\n",
       "    </tr>\n",
       "    <tr>\n",
       "      <th>SEMIO_VERT</th>\n",
       "      <td>2.0</td>\n",
       "      <td>0.229273</td>\n",
       "      <td>[affinity indicating in what way the person is dreamily]</td>\n",
       "      <td>[very high affinity]</td>\n",
       "    </tr>\n",
       "    <tr>\n",
       "      <th>KBA05_KW3</th>\n",
       "      <td>0.0</td>\n",
       "      <td>0.232089</td>\n",
       "      <td>[share of cars with an engine power of more than 119 KW]</td>\n",
       "      <td>[none]</td>\n",
       "    </tr>\n",
       "    <tr>\n",
       "      <th>SEMIO_REL</th>\n",
       "      <td>4.0</td>\n",
       "      <td>0.232409</td>\n",
       "      <td>[affinity indicating in what way the person is religious]</td>\n",
       "      <td>[average affinity]</td>\n",
       "    </tr>\n",
       "    <tr>\n",
       "      <th>KBA05_MAXAH</th>\n",
       "      <td>3.0</td>\n",
       "      <td>0.234686</td>\n",
       "      <td>[most common age of car owners in the microcell]</td>\n",
       "      <td>[40 - 50 years]</td>\n",
       "    </tr>\n",
       "    <tr>\n",
       "      <th>FINANZ_ANLEGER</th>\n",
       "      <td>1.0</td>\n",
       "      <td>0.236543</td>\n",
       "      <td>[financial typology: investor]</td>\n",
       "      <td>[very high]</td>\n",
       "    </tr>\n",
       "    <tr>\n",
       "      <th>CJT_GESAMTTYP</th>\n",
       "      <td>4.0</td>\n",
       "      <td>0.236712</td>\n",
       "      <td>[customer journey typology]</td>\n",
       "      <td>[advertisinginterested Online-shopper]</td>\n",
       "    </tr>\n",
       "    <tr>\n",
       "      <th>LP_STATUS_FEIN</th>\n",
       "      <td>1.0</td>\n",
       "      <td>0.246039</td>\n",
       "      <td>[social status fine]</td>\n",
       "      <td>[typical low-income earners]</td>\n",
       "    </tr>\n",
       "    <tr>\n",
       "      <th>FINANZ_UNAUFFAELLIGER</th>\n",
       "      <td>1.0</td>\n",
       "      <td>0.247522</td>\n",
       "      <td>[financial typology: unremarkable]</td>\n",
       "      <td>[very high]</td>\n",
       "    </tr>\n",
       "    <tr>\n",
       "      <th>KBA05_MOD8</th>\n",
       "      <td>0.0</td>\n",
       "      <td>0.248972</td>\n",
       "      <td>[share of vans (in an AZ specific definition)]</td>\n",
       "      <td>[none]</td>\n",
       "    </tr>\n",
       "  </tbody>\n",
       "</table>\n",
       "</div>"
      ],
      "text/plain": [
       "                      Value Frequency  \\\n",
       "CAMEO_DEU_2015           8A  0.058838   \n",
       "LP_LEBENSPHASE_FEIN     1.0  0.070316   \n",
       "ORTSGR_KLS9             9.0  0.103093   \n",
       "KBA13_AUTOQUOTE         1.0  0.114454   \n",
       "KBA13_CCM_2500          1.0  0.114977   \n",
       "KBA13_KW_121            1.0  0.118608   \n",
       "INNENSTADT              2.0  0.122358   \n",
       "KBA13_BJ_2009           1.0  0.134545   \n",
       "KBA13_CCM_2501          1.0  0.136663   \n",
       "CAMEO_DEUG_2015         8.0   0.15085   \n",
       "KBA05_GBZ               2.0  0.155436   \n",
       "GFK_URLAUBERTYP        12.0  0.155455   \n",
       "SEMIO_FAM               2.0  0.156596   \n",
       "KBA13_SEG_SPORTWAGEN    2.0  0.164864   \n",
       "KBA13_CCM_3000          1.0   0.16749   \n",
       "BALLRAUM                1.0  0.170308   \n",
       "SEMIO_KRIT              5.0  0.175375   \n",
       "ONLINE_AFFINITAET       1.0  0.175601   \n",
       "KBA13_SEG_OBERKLASSE    1.0  0.176928   \n",
       "LP_LEBENSPHASE_GROB     2.0  0.177441   \n",
       "SEMIO_LUST              6.0  0.177985   \n",
       "SEMIO_PFLICHT           4.0  0.181904   \n",
       "SEMIO_MAT               4.0   0.18274   \n",
       "MOBI_REGIO              1.0  0.184009   \n",
       "PLZ8_ANTG3              3.0  0.184062   \n",
       "KBA13_SEG_WOHNMOBILE    2.0  0.185369   \n",
       "SEMIO_TRADV             4.0  0.195466   \n",
       "SEMIO_KULT              5.0  0.197798   \n",
       "SEMIO_DOM               5.0  0.199601   \n",
       "SEMIO_KAEM              3.0  0.203042   \n",
       "KBA05_SEG5              0.0   0.20513   \n",
       "KBA05_ZUL4              2.0  0.205479   \n",
       "FINANZ_HAUSBAUER        5.0  0.206366   \n",
       "PRAEGENDE_JUGENDJAHRE  14.0  0.211729   \n",
       "PLZ8_ANTG1              1.0  0.212346   \n",
       "PLZ8_ANTG2              4.0  0.214318   \n",
       "KONSUMNAEHE             1.0  0.217385   \n",
       "REGIOTYP                6.0  0.219122   \n",
       "SEMIO_ERL               4.0  0.220154   \n",
       "EWDICHTE                6.0  0.225543   \n",
       "SEMIO_VERT              2.0  0.229273   \n",
       "KBA05_KW3               0.0  0.232089   \n",
       "SEMIO_REL               4.0  0.232409   \n",
       "KBA05_MAXAH             3.0  0.234686   \n",
       "FINANZ_ANLEGER          1.0  0.236543   \n",
       "CJT_GESAMTTYP           4.0  0.236712   \n",
       "LP_STATUS_FEIN          1.0  0.246039   \n",
       "FINANZ_UNAUFFAELLIGER   1.0  0.247522   \n",
       "KBA05_MOD8              0.0  0.248972   \n",
       "\n",
       "                                                                                         Description  \\\n",
       "CAMEO_DEU_2015                                [CAMEO classification 2015 - detailled classification]   \n",
       "LP_LEBENSPHASE_FEIN                                                                [lifestage fine ]   \n",
       "ORTSGR_KLS9                             [size of the community, '- classified number of inhabitants]   \n",
       "KBA13_AUTOQUOTE                                        [share of cars per household within the PLZ8]   \n",
       "KBA13_CCM_2500                               [share of cars with 2000ccm to 2499ccm within the PLZ8]   \n",
       "KBA13_KW_121                            [share of cars with an engine power more than 120 KW - PLZ8]   \n",
       "INNENSTADT                                                             [distance to the city centre]   \n",
       "KBA13_BJ_2009                                          [share of cars built in 2009 within the PLZ8]   \n",
       "KBA13_CCM_2501                                [share of cars with more than 2500ccm within the PLZ8]   \n",
       "CAMEO_DEUG_2015                                             [CAMEO classification 2015 - Uppergroup]   \n",
       "KBA05_GBZ                                                     [number of buildings in the microcell]   \n",
       "GFK_URLAUBERTYP                                                                    [vacation habits]   \n",
       "SEMIO_FAM                            [affinity indicating in what way the person is familiar minded]   \n",
       "KBA13_SEG_SPORTWAGEN                                           [share of sportscars within the PLZ8]   \n",
       "KBA13_CCM_3000                               [share of cars with 2500ccm to 2999ccm within the PLZ8]   \n",
       "BALLRAUM                                                            [distance to next urban centre ]   \n",
       "SEMIO_KRIT                           [affinity indicating in what way the person is critical minded]   \n",
       "ONLINE_AFFINITAET                                                                  [online affinity]   \n",
       "KBA13_SEG_OBERKLASSE                          [share of upper class cars (BMW 7er etc.) in the PLZ8]   \n",
       "LP_LEBENSPHASE_GROB                                                                [lifestage rough]   \n",
       "SEMIO_LUST                            [affinity indicating in what way the person is sensual minded]   \n",
       "SEMIO_PFLICHT            [affinity indicating in what way the person is dutyfull traditional minded]   \n",
       "SEMIO_MAT                            [affinity indicating in what way the person is material minded]   \n",
       "MOBI_REGIO                                                                         [moving patterns]   \n",
       "PLZ8_ANTG3                                                [number of 6-10 family houses in the PLZ8]   \n",
       "KBA13_SEG_WOHNMOBILE                                          [share of roadmobiles within the PLZ8]   \n",
       "SEMIO_TRADV                       [affinity indicating in what way the person is traditional minded]   \n",
       "SEMIO_KULT                           [affinity indicating in what way the person is cultural minded]   \n",
       "SEMIO_DOM                            [affinity indicating in what way the person is dominant minded]   \n",
       "SEMIO_KAEM                   [affinity indicating in what way the person is of a fightfull attitude]   \n",
       "KBA05_SEG5             [share of upper middle class cars and upper class cars (BMW5er, BMW7er etc.)]   \n",
       "KBA05_ZUL4                                                        [share of cars built from 2003 on]   \n",
       "FINANZ_HAUSBAUER                                   [financial typology: main focus is the own house]   \n",
       "PRAEGENDE_JUGENDJAHRE         [dominating movement in the person's youth (avantgarde or mainstream)]   \n",
       "PLZ8_ANTG1                                                 [number of 1-2 family houses in the PLZ8]   \n",
       "PLZ8_ANTG2                                                 [number of 3-5 family houses in the PLZ8]   \n",
       "KONSUMNAEHE                                        [distance from a building to PoS (Point of Sale)]   \n",
       "REGIOTYP                                                                            [neighbourhood ]   \n",
       "SEMIO_ERL                        [affinity indicating in what way the person is eventful orientated]   \n",
       "EWDICHTE                                               [density of inhabitants per square kilometer]   \n",
       "SEMIO_VERT                                  [affinity indicating in what way the person is dreamily]   \n",
       "KBA05_KW3                                   [share of cars with an engine power of more than 119 KW]   \n",
       "SEMIO_REL                                  [affinity indicating in what way the person is religious]   \n",
       "KBA05_MAXAH                                         [most common age of car owners in the microcell]   \n",
       "FINANZ_ANLEGER                                                        [financial typology: investor]   \n",
       "CJT_GESAMTTYP                                                            [customer journey typology]   \n",
       "LP_STATUS_FEIN                                                                  [social status fine]   \n",
       "FINANZ_UNAUFFAELLIGER                                             [financial typology: unremarkable]   \n",
       "KBA05_MOD8                                            [share of vans (in an AZ specific definition)]   \n",
       "\n",
       "                                                                                                  Meaning  \n",
       "CAMEO_DEU_2015                                                                           [Multi-culteral]  \n",
       "LP_LEBENSPHASE_FEIN                                            [single low-income earners of younger age]  \n",
       "ORTSGR_KLS9                                                                      [> 700.000  inhabitants]  \n",
       "KBA13_AUTOQUOTE                                                                                [very low]  \n",
       "KBA13_CCM_2500                                                                                 [very low]  \n",
       "KBA13_KW_121                                                                                   [very low]  \n",
       "INNENSTADT                                                             [distance to the city centre 3 km]  \n",
       "KBA13_BJ_2009                                                                                  [very low]  \n",
       "KBA13_CCM_2501                                                                                 [very low]  \n",
       "CAMEO_DEUG_2015                                                                           [working class]  \n",
       "KBA05_GBZ                                                                                 [3-4 buildings]  \n",
       "GFK_URLAUBERTYP                                                                        [without vacation]  \n",
       "SEMIO_FAM                                                                            [very high affinity]  \n",
       "KBA13_SEG_SPORTWAGEN                                                                                [low]  \n",
       "KBA13_CCM_3000                                                                                 [very low]  \n",
       "BALLRAUM                                                                                     [till 10 km]  \n",
       "SEMIO_KRIT                                                                                 [low affinity]  \n",
       "ONLINE_AFFINITAET                                                                                   [low]  \n",
       "KBA13_SEG_OBERKLASSE                                                                           [very low]  \n",
       "LP_LEBENSPHASE_GROB                               [single low-income- and average earners of higher age ]  \n",
       "SEMIO_LUST                                                                            [very low affinity]  \n",
       "SEMIO_PFLICHT                                                                          [average affinity]  \n",
       "SEMIO_MAT                                                                              [average affinity]  \n",
       "MOBI_REGIO                                                                           [very high mobility]  \n",
       "PLZ8_ANTG3                                                                                   [high share]  \n",
       "KBA13_SEG_WOHNMOBILE                                                                                [low]  \n",
       "SEMIO_TRADV                                                                            [average affinity]  \n",
       "SEMIO_KULT                                                                                 [low affinity]  \n",
       "SEMIO_DOM                                                                                  [low affinity]  \n",
       "SEMIO_KAEM                                                                                [high affinity]  \n",
       "KBA05_SEG5                                                                                         [none]  \n",
       "KBA05_ZUL4                                                                                          [low]  \n",
       "FINANZ_HAUSBAUER                                                                               [very low]  \n",
       "PRAEGENDE_JUGENDJAHRE                                      [90ies - digital media kids (Mainstream, O+W)]  \n",
       "PLZ8_ANTG1                                                                                    [low share]  \n",
       "PLZ8_ANTG2                                                                              [very high share]  \n",
       "KONSUMNAEHE            [building is located in a 125 x 125m-grid cell (RA1), which is a consumption cell]  \n",
       "REGIOTYP                                                                            [traditional workers]  \n",
       "SEMIO_ERL                                                                              [average affinity]  \n",
       "EWDICHTE                                                                             [more than 999 HH/²]  \n",
       "SEMIO_VERT                                                                           [very high affinity]  \n",
       "KBA05_KW3                                                                                          [none]  \n",
       "SEMIO_REL                                                                              [average affinity]  \n",
       "KBA05_MAXAH                                                                               [40 - 50 years]  \n",
       "FINANZ_ANLEGER                                                                                [very high]  \n",
       "CJT_GESAMTTYP                                                      [advertisinginterested Online-shopper]  \n",
       "LP_STATUS_FEIN                                                               [typical low-income earners]  \n",
       "FINANZ_UNAUFFAELLIGER                                                                         [very high]  \n",
       "KBA05_MOD8                                                                                         [none]  "
      ]
     },
     "execution_count": 97,
     "metadata": {},
     "output_type": "execute_result"
    }
   ],
   "source": [
    "clust_cat_df_3"
   ]
  },
  {
   "cell_type": "code",
   "execution_count": 98,
   "metadata": {},
   "outputs": [],
   "source": [
    "# From the above, we can conclude that the cluster 3 which is under-represented with customers -circ. 13% of customers\n",
    "# vs 21% general population-, is representative of:\n",
    "# - Low income earner without vacation habit\n",
    "# - Working class\n",
    "# - Live in area with low number of cars, especially for more expensive ones\n",
    "# - Live in area with high share of multifamily buildings, high density of population and large size community."
   ]
  },
  {
   "cell_type": "markdown",
   "metadata": {},
   "source": [
    "## Part 2: Supervised Learning Model\n",
    "\n",
    "Now that you've found which parts of the population are more likely to be customers of the mail-order company, it's time to build a prediction model. Each of the rows in the \"MAILOUT\" data files represents an individual that was targeted for a mailout campaign. Ideally, we should be able to use the demographic information from each individual to decide whether or not it will be worth it to include that person in the campaign.\n",
    "\n",
    "The \"MAILOUT\" data has been split into two approximately equal parts, each with almost 43 000 data rows. In this part, you can verify your model with the \"TRAIN\" partition, which includes a column, \"RESPONSE\", that states whether or not a person became a customer of the company following the campaign. In the next part, you'll need to create predictions on the \"TEST\" partition, where the \"RESPONSE\" column has been withheld."
   ]
  },
  {
   "cell_type": "markdown",
   "metadata": {},
   "source": [
    "### a. First catboost implementation"
   ]
  },
  {
   "cell_type": "code",
   "execution_count": 99,
   "metadata": {},
   "outputs": [
    {
     "data": {
      "image/png": "[encoded data removed]",
      "text/plain": [
       "<Figure size 432x288 with 1 Axes>"
      ]
     },
     "metadata": {
      "needs_background": "light"
     },
     "output_type": "display_data"
    }
   ],
   "source": [
    "# The mailout train dataset is very imbalanced\n",
    "\n",
    "sns.countplot(data=mailout_train, x='RESPONSE')\n",
    "plt.title('Mailout Train Dataset')\n",
    "plt.show()"
   ]
  },
  {
   "cell_type": "code",
   "execution_count": 100,
   "metadata": {},
   "outputs": [],
   "source": [
    "# The metric which we will use to select the best model will be the AUC"
   ]
  },
  {
   "cell_type": "code",
   "execution_count": 101,
   "metadata": {},
   "outputs": [],
   "source": [
    "# Given the number of categorical features we will use the catboost algorithm, which does not require preprocessing for\n",
    "# categorical variables."
   ]
  },
  {
   "cell_type": "code",
   "execution_count": 102,
   "metadata": {},
   "outputs": [],
   "source": [
    "# We launch a first catboost modelization with default parameters at the exception of:\n",
    "# - logging_level='Silent': we don't want the output of the by default 1000 iterations\n",
    "# - early_stopping_round=200 : if there is no improvement of the AUC on the validation set after 200 iterations, there is no\n",
    "# further iterations. This prevents overfitting and also reduce computation time.\n",
    "# - eval_metric='AUC': this enables to select the best model for the AUC on the validation set"
   ]
  },
  {
   "cell_type": "code",
   "execution_count": 103,
   "metadata": {},
   "outputs": [],
   "source": [
    "from sklearn.model_selection import train_test_split, StratifiedKFold\n",
    "from sklearn.impute import SimpleImputer\n",
    "from catboost import CatBoostClassifier"
   ]
  },
  {
   "cell_type": "code",
   "execution_count": 104,
   "metadata": {
    "scrolled": false
   },
   "outputs": [
    {
     "name": "stderr",
     "output_type": "stream",
     "text": [
      "C:\\Users\\mrnpe\\Anaconda3\\lib\\site-packages\\pandas\\core\\indexing.py:1738: SettingWithCopyWarning: \n",
      "A value is trying to be set on a copy of a slice from a DataFrame.\n",
      "Try using .loc[row_indexer,col_indexer] = value instead\n",
      "\n",
      "See the caveats in the documentation: https://pandas.pydata.org/pandas-docs/stable/user_guide/indexing.html#returning-a-view-versus-a-copy\n",
      "  self._setitem_single_column(loc, value[:, i].tolist(), pi)\n"
     ]
    },
    {
     "data": {
      "text/plain": [
       "<catboost.core.CatBoostClassifier at 0x2c04853d550>"
      ]
     },
     "execution_count": 104,
     "metadata": {},
     "output_type": "execute_result"
    }
   ],
   "source": [
    "X = mailout_train.drop(['RESPONSE', 'LNR'], axis=1)\n",
    "y = mailout_train['RESPONSE']\n",
    "\n",
    "X_train, X_test, y_train, y_test = train_test_split(\n",
    "    X, y, test_size=0.33, random_state=42)\n",
    "\n",
    "num_feat_loc = []\n",
    "for col in X.select_dtypes(float).columns:\n",
    "    num_feat_loc.append(X.columns.get_loc(col))\n",
    "\n",
    "cat_feat_loc = []\n",
    "for col in X.select_dtypes('object').columns:\n",
    "    cat_feat_loc.append(X.columns.get_loc(col))\n",
    "\n",
    "# Inpute missing numerical values for X_train with the median\n",
    "imputer_num = SimpleImputer(strategy='median')\n",
    "X_train_num = X_train.iloc[::, num_feat_loc]\n",
    "X_train_num = imputer_num.fit_transform(X_train_num)\n",
    "X_test_num = X_test.iloc[::, num_feat_loc]\n",
    "\n",
    "# Just use transform on the test set to avoid data leakage\n",
    "X_test_num = imputer_num.transform(X_test_num)\n",
    "\n",
    "X_train.iloc[::, num_feat_loc] = X_train_num\n",
    "X_test.iloc[::, num_feat_loc] = X_test_num\n",
    "\n",
    "# Use catboost\n",
    "cat_base = CatBoostClassifier(eval_metric='AUC', task_type='GPU',\n",
    "                              cat_features=cat_feat_loc, early_stopping_rounds=200)\n",
    "cat_base.fit(X_train, y_train, eval_set=(X_test, y_test),\n",
    "             use_best_model=True,logging_level='Silent')"
   ]
  },
  {
   "cell_type": "code",
   "execution_count": 105,
   "metadata": {
    "scrolled": true
   },
   "outputs": [
    {
     "data": {
      "text/plain": [
       "{'learn': {'Logloss': 0.056081770790358795, 'AUC': 0.8474918603897095},\n",
       " 'validation': {'Logloss': 0.061146856010136745, 'AUC': 0.7783129811286926}}"
      ]
     },
     "execution_count": 105,
     "metadata": {},
     "output_type": "execute_result"
    }
   ],
   "source": [
    "cat_base.best_score_"
   ]
  },
  {
   "cell_type": "code",
   "execution_count": 106,
   "metadata": {},
   "outputs": [],
   "source": [
    "# The AUC on validation set is 0.778 using catboost default parameters. The AUC on the learning set is 0.85\n",
    "# It is an indication of overfitting."
   ]
  },
  {
   "cell_type": "code",
   "execution_count": 107,
   "metadata": {},
   "outputs": [],
   "source": [
    "# Let's see on the mailout_test on Kaggle platform\n",
    "test = mailout_test.drop('LNR', axis=1)"
   ]
  },
  {
   "cell_type": "code",
   "execution_count": 108,
   "metadata": {},
   "outputs": [],
   "source": [
    "# Input missing data on test set\n",
    "\n",
    "test_num_feat_loc = []\n",
    "for col in X.select_dtypes(float).columns:\n",
    "    test_num_feat_loc.append(X.columns.get_loc(col))"
   ]
  },
  {
   "cell_type": "code",
   "execution_count": 109,
   "metadata": {},
   "outputs": [],
   "source": [
    "# Input missing numerical values using the inputter fit on the train set\n",
    "test_num = imputer_num.transform(test.iloc[::, test_num_feat_loc])"
   ]
  },
  {
   "cell_type": "code",
   "execution_count": 110,
   "metadata": {},
   "outputs": [],
   "source": [
    "test.iloc[::, test_num_feat_loc] = test_num"
   ]
  },
  {
   "cell_type": "code",
   "execution_count": 111,
   "metadata": {},
   "outputs": [],
   "source": [
    "cat_base_pred = cat_base.predict_proba(test)"
   ]
  },
  {
   "cell_type": "code",
   "execution_count": 112,
   "metadata": {},
   "outputs": [],
   "source": [
    "cat_base_pred = pd.DataFrame(\n",
    "    {'LNR': mailout_test['LNR'], 'RESPONSE': cat_base_pred[:, 1]})"
   ]
  },
  {
   "cell_type": "code",
   "execution_count": 113,
   "metadata": {},
   "outputs": [],
   "source": [
    "cat_base_pred.to_csv('cat_base_pred.csv', index=False)"
   ]
  },
  {
   "cell_type": "code",
   "execution_count": 114,
   "metadata": {},
   "outputs": [],
   "source": [
    "# Kaggle score is 0.79226"
   ]
  },
  {
   "cell_type": "code",
   "execution_count": 115,
   "metadata": {},
   "outputs": [],
   "source": [
    "# Let's analyze the important features\n",
    "\n",
    "from sklearn.metrics import roc_auc_score"
   ]
  },
  {
   "cell_type": "markdown",
   "metadata": {},
   "source": [
    "The below code runs features permutation analysis and save the results as a csv file.\n",
    "It takes quite some time to run on my computer\n",
    "The code is therefore marked as a comment to enable to run the whole notebook, without excessive time."
   ]
  },
  {
   "cell_type": "code",
   "execution_count": 116,
   "metadata": {
    "scrolled": true
   },
   "outputs": [],
   "source": [
    "# # Compute the base AUC\n",
    "# base_AUC = roc_auc_score(y_test, cat_base.predict_proba(X_test)[:, 1])\n",
    "\n",
    "\n",
    "# imp = {}\n",
    "\n",
    "# # We select each feature on the test set\n",
    "# for feat in X_test.columns:\n",
    "#     mean = []\n",
    "#     # For each feature we shuffle 5 times randomly the values. And we compute the average AUC obtained accross the 5 permutations\n",
    "#     for i in range(5):\n",
    "#         imp_test = X_test.copy()\n",
    "#         imp_test.reset_index(drop=True, inplace=True)\n",
    "#         imp_test.loc[:, feat] = imp_test[feat].sample(\n",
    "#             frac=1).reset_index(drop=True)\n",
    "#         mean.append(roc_auc_score(y_test, cat_base.predict_proba(imp_test)[:, 1]))\n",
    "\n",
    "#     # The feature importance is defined as the base AUC minus the average AUC after having shuffled 5 times the feature.\n",
    "#     # If the feature is important then, the random permutations should make the new AUC drop\n",
    "#     imp[feat] = base_AUC-np.array(mean).mean()\n",
    "\n",
    "# importance = pd.Series(imp)\n",
    "# importance.sort_values(ascending=False, inplace=True)\n",
    "\n",
    "# importance.to_csv('Feature_imp_baseline.csv')"
   ]
  },
  {
   "cell_type": "code",
   "execution_count": 117,
   "metadata": {},
   "outputs": [],
   "source": [
    "importance = pd.read_csv('Feature_imp_baseline.csv')"
   ]
  },
  {
   "cell_type": "code",
   "execution_count": 118,
   "metadata": {},
   "outputs": [
    {
     "data": {
      "text/html": [
       "<div>\n",
       "<style scoped>\n",
       "    .dataframe tbody tr th:only-of-type {\n",
       "        vertical-align: middle;\n",
       "    }\n",
       "\n",
       "    .dataframe tbody tr th {\n",
       "        vertical-align: top;\n",
       "    }\n",
       "\n",
       "    .dataframe thead th {\n",
       "        text-align: right;\n",
       "    }\n",
       "</style>\n",
       "<table border=\"1\" class=\"dataframe\">\n",
       "  <thead>\n",
       "    <tr style=\"text-align: right;\">\n",
       "      <th></th>\n",
       "      <th>Unnamed: 0</th>\n",
       "      <th>0</th>\n",
       "    </tr>\n",
       "  </thead>\n",
       "  <tbody>\n",
       "    <tr>\n",
       "      <th>0</th>\n",
       "      <td>D19_SOZIALES</td>\n",
       "      <td>0.242544</td>\n",
       "    </tr>\n",
       "    <tr>\n",
       "      <th>1</th>\n",
       "      <td>EINGEFUEGT_AM</td>\n",
       "      <td>0.041555</td>\n",
       "    </tr>\n",
       "    <tr>\n",
       "      <th>2</th>\n",
       "      <td>ANZ_STATISTISCHE_HAUSHALTE</td>\n",
       "      <td>0.031231</td>\n",
       "    </tr>\n",
       "    <tr>\n",
       "      <th>3</th>\n",
       "      <td>EXTSEL992</td>\n",
       "      <td>0.001917</td>\n",
       "    </tr>\n",
       "    <tr>\n",
       "      <th>4</th>\n",
       "      <td>CAMEO_DEU_2015</td>\n",
       "      <td>0.000857</td>\n",
       "    </tr>\n",
       "  </tbody>\n",
       "</table>\n",
       "</div>"
      ],
      "text/plain": [
       "                   Unnamed: 0         0\n",
       "0                D19_SOZIALES  0.242544\n",
       "1               EINGEFUEGT_AM  0.041555\n",
       "2  ANZ_STATISTISCHE_HAUSHALTE  0.031231\n",
       "3                   EXTSEL992  0.001917\n",
       "4              CAMEO_DEU_2015  0.000857"
      ]
     },
     "execution_count": 118,
     "metadata": {},
     "output_type": "execute_result"
    }
   ],
   "source": [
    "importance[importance['0']>0]"
   ]
  },
  {
   "cell_type": "code",
   "execution_count": 119,
   "metadata": {
    "scrolled": true
   },
   "outputs": [
    {
     "data": {
      "text/plain": [
       "array(['1.0', '5.0', '2.0', '3.0', '4.0', 'unknown', '0.0'], dtype=object)"
      ]
     },
     "execution_count": 119,
     "metadata": {},
     "output_type": "execute_result"
    }
   ],
   "source": [
    "X['D19_SOZIALES'].unique()"
   ]
  },
  {
   "cell_type": "code",
   "execution_count": 120,
   "metadata": {},
   "outputs": [
    {
     "data": {
      "text/plain": [
       "unknown    46660\n",
       "1.0         2892\n",
       "0.0          996\n",
       "5.0          234\n",
       "2.0          195\n",
       "4.0          159\n",
       "3.0          145\n",
       "Name: D19_SOZIALES, dtype: int64"
      ]
     },
     "execution_count": 120,
     "metadata": {},
     "output_type": "execute_result"
    }
   ],
   "source": [
    "customers[customers['Clusters'] == 4]['D19_SOZIALES'].value_counts()"
   ]
  },
  {
   "cell_type": "code",
   "execution_count": 121,
   "metadata": {},
   "outputs": [],
   "source": [
    "# No information on the meaning of D19_SOZIALES but looking at range of values and the definition of other 'D19' features\n",
    "# It is a categorical variable\n",
    "# It is likely related to transactional activity in the SOZIALES product group\n",
    "# It is mostly an unknown information for cluster 4 which was the one with an over-representation of customers"
   ]
  },
  {
   "cell_type": "code",
   "execution_count": 122,
   "metadata": {},
   "outputs": [
    {
     "data": {
      "text/plain": [
       "1600"
      ]
     },
     "execution_count": 122,
     "metadata": {},
     "output_type": "execute_result"
    }
   ],
   "source": [
    "X['EINGEFUEGT_AM'].nunique()"
   ]
  },
  {
   "cell_type": "code",
   "execution_count": 123,
   "metadata": {},
   "outputs": [],
   "source": [
    "# No information on the meaning. It looks like a time stamp as there are 1600 different values.\n",
    "# It might be worth to try to engineer this feature by extracting the year, month, day"
   ]
  },
  {
   "cell_type": "code",
   "execution_count": 124,
   "metadata": {},
   "outputs": [
    {
     "data": {
      "text/plain": [
       "00:00:00    35185\n",
       "unknown      7777\n",
       "Name: EINGEFUEGT_AM, dtype: int64"
      ]
     },
     "execution_count": 124,
     "metadata": {},
     "output_type": "execute_result"
    }
   ],
   "source": [
    "X['EINGEFUEGT_AM'].apply(lambda x: x[-8:]).value_counts()"
   ]
  },
  {
   "cell_type": "code",
   "execution_count": 125,
   "metadata": {},
   "outputs": [],
   "source": [
    "# So we never have the information on the hour, let's retrieve the year and the month"
   ]
  },
  {
   "cell_type": "code",
   "execution_count": 126,
   "metadata": {},
   "outputs": [],
   "source": [
    "X['EINGEFUEGT_AM_year'] = X['EINGEFUEGT_AM'].apply(\n",
    "    lambda x: x[:4] if x != 'unknown' else x)\n",
    "X['EINGEFUEGT_AM_month'] = X['EINGEFUEGT_AM'].apply(\n",
    "    lambda x: x[5:7] if x != 'unknown' else x)"
   ]
  },
  {
   "cell_type": "code",
   "execution_count": 127,
   "metadata": {
    "scrolled": true
   },
   "outputs": [
    {
     "data": {
      "text/plain": [
       "array(['13.0', '1.0', '4.0', '44.0', '11.0', 'unknown', '2.0', '8.0',\n",
       "       '7.0', '3.0', '5.0', '10.0', '6.0', '101.0', '74.0', '20.0',\n",
       "       '19.0', '47.0', '15.0', '14.0', '9.0', '30.0', '16.0', '109.0',\n",
       "       '18.0', '40.0', '17.0', '33.0', '32.0', '23.0', '12.0', '25.0',\n",
       "       '0.0', '28.0', '29.0', '22.0', '24.0', '53.0', '57.0', '36.0',\n",
       "       '174.0', '38.0', '152.0', '136.0', '72.0', '86.0', '51.0', '55.0',\n",
       "       '27.0', '21.0', '65.0', '31.0', '49.0', '39.0', '48.0', '34.0',\n",
       "       '46.0', '41.0', '64.0', '68.0', '78.0', '26.0', '62.0', '144.0',\n",
       "       '112.0', '45.0', '37.0', '52.0', '66.0', '233.0', '88.0', '35.0',\n",
       "       '60.0', '342.0', '214.0', '81.0', '61.0', '77.0', '75.0', '84.0',\n",
       "       '138.0', '54.0', '140.0', '95.0', '42.0', '83.0', '67.0', '56.0',\n",
       "       '91.0', '115.0', '89.0', '113.0', '117.0', '43.0', '59.0', '85.0',\n",
       "       '87.0', '125.0', '123.0', '127.0', '122.0', '121.0', '131.0',\n",
       "       '161.0', '98.0', '130.0', '274.0', '58.0', '322.0', '69.0', '63.0',\n",
       "       '71.0', '82.0', '50.0', '304.0', '94.0', '110.0', '76.0', '129.0',\n",
       "       '106.0', '139.0', '173.0', '108.0', '200.0', '142.0', '93.0',\n",
       "       '102.0', '79.0', '73.0', '160.0', '151.0', '146.0', '97.0',\n",
       "       '126.0', '299.0', '167.0', '99.0', '253.0', '171.0', '141.0',\n",
       "       '70.0', '242.0', '180.0', '193.0', '118.0', '163.0', '354.0',\n",
       "       '105.0', '268.0', '90.0', '104.0', '111.0', '92.0', '80.0',\n",
       "       '178.0', '120.0', '169.0', '369.0', '319.0', '297.0', '100.0',\n",
       "       '218.0', '156.0', '149.0', '134.0', '114.0', '166.0', '228.0',\n",
       "       '103.0', '96.0', '143.0', '339.0', '153.0', '213.0'], dtype=object)"
      ]
     },
     "execution_count": 127,
     "metadata": {},
     "output_type": "execute_result"
    }
   ],
   "source": [
    "X['ANZ_STATISTISCHE_HAUSHALTE'].unique()"
   ]
  },
  {
   "cell_type": "code",
   "execution_count": 128,
   "metadata": {},
   "outputs": [
    {
     "data": {
      "text/plain": [
       "174"
      ]
     },
     "execution_count": 128,
     "metadata": {},
     "output_type": "execute_result"
    }
   ],
   "source": [
    "X['ANZ_STATISTISCHE_HAUSHALTE'].nunique()"
   ]
  },
  {
   "cell_type": "code",
   "execution_count": 129,
   "metadata": {},
   "outputs": [],
   "source": [
    "# No information on the meaning. It actually rather look like a numerical variable with integers rather than a categorical\n",
    "# variable. We will relaunch the model treating it as numerical."
   ]
  },
  {
   "cell_type": "code",
   "execution_count": 130,
   "metadata": {},
   "outputs": [],
   "source": [
    "# Let's rerun previous model but this time we will replace EINGEFUEGT_AM by year and month"
   ]
  },
  {
   "cell_type": "code",
   "execution_count": 131,
   "metadata": {},
   "outputs": [
    {
     "name": "stderr",
     "output_type": "stream",
     "text": [
      "C:\\Users\\mrnpe\\Anaconda3\\lib\\site-packages\\pandas\\core\\indexing.py:1738: SettingWithCopyWarning: \n",
      "A value is trying to be set on a copy of a slice from a DataFrame.\n",
      "Try using .loc[row_indexer,col_indexer] = value instead\n",
      "\n",
      "See the caveats in the documentation: https://pandas.pydata.org/pandas-docs/stable/user_guide/indexing.html#returning-a-view-versus-a-copy\n",
      "  self._setitem_single_column(loc, value[:, i].tolist(), pi)\n"
     ]
    },
    {
     "data": {
      "text/plain": [
       "<catboost.core.CatBoostClassifier at 0x2c0486c5b50>"
      ]
     },
     "execution_count": 131,
     "metadata": {},
     "output_type": "execute_result"
    }
   ],
   "source": [
    "X = mailout_train.drop(['RESPONSE', 'LNR'], axis=1)\n",
    "y = mailout_train['RESPONSE']\n",
    "\n",
    "X['EINGEFUEGT_AM_year'] = X['EINGEFUEGT_AM'].apply(\n",
    "    lambda x: x[:4] if x != 'unknown' else x)\n",
    "X['EINGEFUEGT_AM_month'] = X['EINGEFUEGT_AM'].apply(\n",
    "    lambda x: x[5:7] if x != 'unknown' else x)\n",
    "X.drop('EINGEFUEGT_AM', axis=1, inplace=True)\n",
    "\n",
    "X_train, X_test, y_train, y_test = train_test_split(\n",
    "    X, y, test_size=0.33, random_state=42)\n",
    "\n",
    "num_feat_loc = []\n",
    "for col in X.select_dtypes(float).columns:\n",
    "    num_feat_loc.append(X.columns.get_loc(col))\n",
    "\n",
    "cat_feat_loc = []\n",
    "for col in X.select_dtypes('object').columns:\n",
    "    cat_feat_loc.append(X.columns.get_loc(col))\n",
    "\n",
    "# Inpute missing numerical values for X_train with the median\n",
    "imputer_num = SimpleImputer(strategy='median')\n",
    "X_train_num = X_train.iloc[::, num_feat_loc]\n",
    "X_train_num = imputer_num.fit_transform(X_train_num)\n",
    "X_test_num = X_test.iloc[::, num_feat_loc]\n",
    "\n",
    "# Just use transform on the test set to avoid data leakage\n",
    "X_test_num = imputer_num.transform(X_test_num)\n",
    "\n",
    "X_train.iloc[::, num_feat_loc] = X_train_num\n",
    "X_test.iloc[::, num_feat_loc] = X_test_num\n",
    "\n",
    "# Use catboost\n",
    "cat_2 = CatBoostClassifier(eval_metric='AUC', task_type='GPU',\n",
    "                           cat_features=cat_feat_loc, early_stopping_rounds=200)\n",
    "cat_2.fit(X_train, y_train, eval_set=(X_test, y_test),\n",
    "          use_best_model=True, logging_level='Silent')"
   ]
  },
  {
   "cell_type": "code",
   "execution_count": 132,
   "metadata": {
    "scrolled": true
   },
   "outputs": [
    {
     "data": {
      "text/plain": [
       "{'learn': {'Logloss': 0.05003017236816678, 'AUC': 0.8838298916816711},\n",
       " 'validation': {'Logloss': 0.06132105459933524, 'AUC': 0.7764750719070435}}"
      ]
     },
     "execution_count": 132,
     "metadata": {},
     "output_type": "execute_result"
    }
   ],
   "source": [
    "cat_2.best_score_"
   ]
  },
  {
   "cell_type": "code",
   "execution_count": 133,
   "metadata": {},
   "outputs": [],
   "source": [
    "# It slightly deteriorated the performance from 0.778 to 0.776\n",
    "# Let's now try the baseline but we declare ANZ_STATISTISCHE_HAUSHALTE as numerical"
   ]
  },
  {
   "cell_type": "code",
   "execution_count": 134,
   "metadata": {},
   "outputs": [
    {
     "name": "stderr",
     "output_type": "stream",
     "text": [
      "C:\\Users\\mrnpe\\Anaconda3\\lib\\site-packages\\pandas\\core\\indexing.py:1738: SettingWithCopyWarning: \n",
      "A value is trying to be set on a copy of a slice from a DataFrame.\n",
      "Try using .loc[row_indexer,col_indexer] = value instead\n",
      "\n",
      "See the caveats in the documentation: https://pandas.pydata.org/pandas-docs/stable/user_guide/indexing.html#returning-a-view-versus-a-copy\n",
      "  self._setitem_single_column(loc, value[:, i].tolist(), pi)\n"
     ]
    },
    {
     "data": {
      "text/plain": [
       "<catboost.core.CatBoostClassifier at 0x2c043f5b790>"
      ]
     },
     "execution_count": 134,
     "metadata": {},
     "output_type": "execute_result"
    }
   ],
   "source": [
    "X = mailout_train.drop(['RESPONSE', 'LNR'], axis=1)\n",
    "y = mailout_train['RESPONSE']\n",
    "\n",
    "# First replace unknown by nan\n",
    "X['ANZ_STATISTISCHE_HAUSHALTE'].replace(\n",
    "    to_replace='unknown', value=np.nan, inplace=True)\n",
    "X['ANZ_STATISTISCHE_HAUSHALTE'] = X['ANZ_STATISTISCHE_HAUSHALTE'].astype(float)\n",
    "\n",
    "X_train, X_test, y_train, y_test = train_test_split(\n",
    "    X, y, test_size=0.33, random_state=42)\n",
    "\n",
    "num_feat_loc = []\n",
    "for col in X.select_dtypes(float).columns:\n",
    "    num_feat_loc.append(X.columns.get_loc(col))\n",
    "\n",
    "cat_feat_loc = []\n",
    "for col in X.select_dtypes('object').columns:\n",
    "    cat_feat_loc.append(X.columns.get_loc(col))\n",
    "\n",
    "# Inpute missing numerical values for X_train with the median\n",
    "imputer_num = SimpleImputer(strategy='median')\n",
    "X_train_num = X_train.iloc[::, num_feat_loc]\n",
    "X_train_num = imputer_num.fit_transform(X_train_num)\n",
    "X_test_num = X_test.iloc[::, num_feat_loc]\n",
    "\n",
    "# Just use transform on the test set to avoid data leakage\n",
    "X_test_num = imputer_num.transform(X_test_num)\n",
    "\n",
    "X_train.iloc[::, num_feat_loc] = X_train_num\n",
    "X_test.iloc[::, num_feat_loc] = X_test_num\n",
    "\n",
    "# Use catboost\n",
    "cat_3 = CatBoostClassifier(eval_metric='AUC', task_type='GPU',\n",
    "                           cat_features=cat_feat_loc, early_stopping_rounds=200)\n",
    "cat_3.fit(X_train, y_train, eval_set=(X_test, y_test),\n",
    "          use_best_model=True, logging_level='Silent')"
   ]
  },
  {
   "cell_type": "code",
   "execution_count": 135,
   "metadata": {},
   "outputs": [
    {
     "data": {
      "text/plain": [
       "{'learn': {'Logloss': 0.055109411030759274, 'AUC': 0.8592174649238586},\n",
       " 'validation': {'Logloss': 0.06082880421306337, 'AUC': 0.7891595363616943}}"
      ]
     },
     "execution_count": 135,
     "metadata": {},
     "output_type": "execute_result"
    }
   ],
   "source": [
    "cat_3.best_score_"
   ]
  },
  {
   "cell_type": "code",
   "execution_count": 136,
   "metadata": {},
   "outputs": [],
   "source": [
    "# It improved the performance from 0.778 to 0.789. Let's now look at feature importance on this new model"
   ]
  },
  {
   "cell_type": "markdown",
   "metadata": {},
   "source": [
    "The below code runs features permutation analysis and save the results as a csv file.\n",
    "It takes quite some time to run on my computer\n",
    "The code is therefore marked as a comment to enable to run the whole notebook, without excessive time."
   ]
  },
  {
   "cell_type": "code",
   "execution_count": 137,
   "metadata": {},
   "outputs": [],
   "source": [
    "# base_AUC = roc_auc_score(y_test, cat_3.predict_proba(X_test)[:, 1])\n",
    "\n",
    "# imp = {}\n",
    "# for feat in X_test.columns:\n",
    "#     mean = []\n",
    "#     for i in range(5):\n",
    "#         imp_test = X_test.copy()\n",
    "#         imp_test.reset_index(drop=True, inplace=True)\n",
    "#         imp_test.loc[:, feat] = imp_test[feat].sample(\n",
    "#             frac=1).reset_index(drop=True)\n",
    "#         mean.append(roc_auc_score(y_test, cat_3.predict_proba(imp_test)[:, 1]))\n",
    "#     imp[feat] = base_AUC-np.array(mean).mean()\n",
    "    \n",
    "# importance_cat_3 = pd.Series(imp)\n",
    "# importance_cat_3.sort_values(ascending=False, inplace=True)\n",
    "\n",
    "# # We save the file as it took a long time to compute\n",
    "# importance_cat_3.to_csv('Feature_imp_cat_3.csv')"
   ]
  },
  {
   "cell_type": "code",
   "execution_count": 138,
   "metadata": {
    "scrolled": false
   },
   "outputs": [],
   "source": [
    "importance_cat_3=pd.read_csv('Feature_imp_cat_3.csv')"
   ]
  },
  {
   "cell_type": "code",
   "execution_count": 139,
   "metadata": {},
   "outputs": [
    {
     "data": {
      "text/html": [
       "<div>\n",
       "<style scoped>\n",
       "    .dataframe tbody tr th:only-of-type {\n",
       "        vertical-align: middle;\n",
       "    }\n",
       "\n",
       "    .dataframe tbody tr th {\n",
       "        vertical-align: top;\n",
       "    }\n",
       "\n",
       "    .dataframe thead th {\n",
       "        text-align: right;\n",
       "    }\n",
       "</style>\n",
       "<table border=\"1\" class=\"dataframe\">\n",
       "  <thead>\n",
       "    <tr style=\"text-align: right;\">\n",
       "      <th></th>\n",
       "      <th>Unnamed: 0</th>\n",
       "      <th>0</th>\n",
       "    </tr>\n",
       "  </thead>\n",
       "  <tbody>\n",
       "    <tr>\n",
       "      <th>0</th>\n",
       "      <td>D19_SOZIALES</td>\n",
       "      <td>0.269052</td>\n",
       "    </tr>\n",
       "    <tr>\n",
       "      <th>1</th>\n",
       "      <td>EINGEFUEGT_AM</td>\n",
       "      <td>0.054603</td>\n",
       "    </tr>\n",
       "    <tr>\n",
       "      <th>2</th>\n",
       "      <td>EXTSEL992</td>\n",
       "      <td>0.012945</td>\n",
       "    </tr>\n",
       "    <tr>\n",
       "      <th>3</th>\n",
       "      <td>VERDICHTUNGSRAUM</td>\n",
       "      <td>0.004648</td>\n",
       "    </tr>\n",
       "    <tr>\n",
       "      <th>4</th>\n",
       "      <td>CAMEO_INTL_2015</td>\n",
       "      <td>0.001438</td>\n",
       "    </tr>\n",
       "    <tr>\n",
       "      <th>5</th>\n",
       "      <td>CAMEO_DEU_2015</td>\n",
       "      <td>0.000387</td>\n",
       "    </tr>\n",
       "  </tbody>\n",
       "</table>\n",
       "</div>"
      ],
      "text/plain": [
       "         Unnamed: 0         0\n",
       "0      D19_SOZIALES  0.269052\n",
       "1     EINGEFUEGT_AM  0.054603\n",
       "2         EXTSEL992  0.012945\n",
       "3  VERDICHTUNGSRAUM  0.004648\n",
       "4   CAMEO_INTL_2015  0.001438\n",
       "5    CAMEO_DEU_2015  0.000387"
      ]
     },
     "execution_count": 139,
     "metadata": {},
     "output_type": "execute_result"
    }
   ],
   "source": [
    "importance_cat_3[importance_cat_3['0']>0]"
   ]
  },
  {
   "cell_type": "code",
   "execution_count": 140,
   "metadata": {},
   "outputs": [],
   "source": [
    "# Let's see if we achieve a performance close to cat_3 at 0.7891 if we reduce the features to the above"
   ]
  },
  {
   "cell_type": "code",
   "execution_count": 141,
   "metadata": {},
   "outputs": [
    {
     "data": {
      "text/plain": [
       "<catboost.core.CatBoostClassifier at 0x2c077cb2160>"
      ]
     },
     "execution_count": 141,
     "metadata": {},
     "output_type": "execute_result"
    }
   ],
   "source": [
    "X = mailout_train.drop(['RESPONSE', 'LNR'], axis=1)[['D19_SOZIALES', 'EINGEFUEGT_AM',\n",
    "                                                     'EXTSEL992', 'VERDICHTUNGSRAUM', 'CAMEO_INTL_2015', 'CAMEO_DEU_2015']]\n",
    "y = mailout_train['RESPONSE']\n",
    "\n",
    "X_train, X_test, y_train, y_test = train_test_split(\n",
    "    X, y, test_size=0.33, random_state=42)\n",
    "\n",
    "cat_feat_loc = []\n",
    "for col in X.select_dtypes('object').columns:\n",
    "    cat_feat_loc.append(X.columns.get_loc(col))\n",
    "\n",
    "# Use catboost\n",
    "cat_4 = CatBoostClassifier(eval_metric='AUC', task_type='GPU',\n",
    "                           cat_features=cat_feat_loc, early_stopping_rounds=200)\n",
    "cat_4.fit(X_train, y_train, eval_set=(X_test, y_test),\n",
    "          use_best_model=True, logging_level='Silent')"
   ]
  },
  {
   "cell_type": "code",
   "execution_count": 142,
   "metadata": {},
   "outputs": [
    {
     "data": {
      "text/plain": [
       "{'learn': {'Logloss': 0.057302647792610475, 'AUC': 0.8320354223251343},\n",
       " 'validation': {'Logloss': 0.06063575868395357, 'AUC': 0.792511522769928}}"
      ]
     },
     "execution_count": 142,
     "metadata": {},
     "output_type": "execute_result"
    }
   ],
   "source": [
    "cat_4.best_score_"
   ]
  },
  {
   "cell_type": "code",
   "execution_count": 143,
   "metadata": {},
   "outputs": [],
   "source": [
    "# The performance is slightly improved from 0.7891 to 0.7925"
   ]
  },
  {
   "cell_type": "code",
   "execution_count": 144,
   "metadata": {},
   "outputs": [],
   "source": [
    "cat4_pred = cat_4.predict_proba(\n",
    "    test[['D19_SOZIALES', 'EINGEFUEGT_AM', 'EXTSEL992', 'VERDICHTUNGSRAUM', 'CAMEO_INTL_2015', 'CAMEO_DEU_2015']])"
   ]
  },
  {
   "cell_type": "code",
   "execution_count": 145,
   "metadata": {
    "scrolled": false
   },
   "outputs": [],
   "source": [
    "df_cat4 = pd.DataFrame(\n",
    "    {'LNR': mailout_test['LNR'], 'RESPONSE': cat4_pred[:, 1]})"
   ]
  },
  {
   "cell_type": "code",
   "execution_count": 146,
   "metadata": {},
   "outputs": [],
   "source": [
    "df_cat4.to_csv('redfeat.csv', index=False)"
   ]
  },
  {
   "cell_type": "code",
   "execution_count": 147,
   "metadata": {},
   "outputs": [],
   "source": [
    "# Score of 0.79223 on Kaggle. It is a very small decrease compared to the baseline predicitions which scored 0.79226 on Kaggle."
   ]
  },
  {
   "cell_type": "code",
   "execution_count": 148,
   "metadata": {},
   "outputs": [],
   "source": [
    "# Let's now perform tuning with Hyperopt library\n",
    "\n",
    "from hyperopt import fmin, tpe, STATUS_OK, STATUS_FAIL, Trials, hp"
   ]
  },
  {
   "cell_type": "code",
   "execution_count": 149,
   "metadata": {},
   "outputs": [],
   "source": [
    "trials = Trials()"
   ]
  },
  {
   "cell_type": "code",
   "execution_count": 150,
   "metadata": {},
   "outputs": [],
   "source": [
    "# We need to define the parameters search space\n",
    "\n",
    "parameter_space = {'iterations': hp.choice('iterations', [500, 1000, 1500, 2000]), 'learning_rate': hp.loguniform('learning_rate', np.log(0.01), np.log(0.07)),\n",
    "                   'depth': hp.quniform('depth', 6, 10, 1), 'l2_leaf_reg': hp.quniform('l2_leaf_reg', 3, 10, 1), 'eval_metric': 'AUC', 'task_type': 'GPU', 'early_stopping_rounds': 300, 'class_weights': hp.choice('class_weights', [None, [1, 50], [1, 100], [1, 150], [1, 200], [1, 300]])}"
   ]
  },
  {
   "cell_type": "code",
   "execution_count": 151,
   "metadata": {},
   "outputs": [],
   "source": [
    "# We then define an objective function to minimize\n",
    "\n",
    "def objective(par):\n",
    "    # We will use a 3 fold stratified split\n",
    "    skf = StratifiedKFold(n_splits=3)\n",
    "    auc_opt = []\n",
    "    auc_std = []\n",
    "    y = mailout_train['RESPONSE']\n",
    "    X = mailout_train.drop(['RESPONSE', 'LNR'], axis=1)[\n",
    "        ['D19_SOZIALES', 'EINGEFUEGT_AM', 'EXTSEL992', 'VERDICHTUNGSRAUM', 'CAMEO_INTL_2015', 'CAMEO_DEU_2015']]\n",
    "    cat_opt = CatBoostClassifier(**par)\n",
    "\n",
    "    cat_feat_loc = []\n",
    "    for col in X.select_dtypes('object').columns:\n",
    "        cat_feat_loc.append(X.columns.get_loc(col))\n",
    "\n",
    "    for train_index, test_index in skf.split(X, y):\n",
    "        X_train, X_test = X.loc[train_index], X.loc[test_index]\n",
    "        y_train, y_test = y.loc[train_index], y.loc[test_index]\n",
    "\n",
    "        # Use catboost\n",
    "        cat_opt.fit(X_train, y_train, eval_set=(X_test, y_test),\n",
    "                    use_best_model=True, cat_features=cat_feat_loc, logging_level='Silent')\n",
    "\n",
    "        auc_opt.append(cat_opt.best_score_['validation']['AUC'])\n",
    "        auc_std.append(cat_opt.best_score_['validation']['AUC'])\n",
    "    \n",
    "    # Hyperopt need a function to minimize. We simply multiply by -1 the average AUC obtained accross the 3 folds.\n",
    "    \n",
    "    return {'loss': -1*np.array(auc_opt).mean(), 'status': STATUS_OK, 'parameters': par, 'std': np.array(auc_std).std(), 'fitted_model': cat_opt}"
   ]
  },
  {
   "cell_type": "markdown",
   "metadata": {},
   "source": [
    "The below takes a long time to run.\n",
    "The results of the optimization are saved as a pickle file.\n",
    "The code is therefore marked as a comment to enable to run the whole notebook, without excessive time."
   ]
  },
  {
   "cell_type": "code",
   "execution_count": 152,
   "metadata": {
    "scrolled": true
   },
   "outputs": [],
   "source": [
    "# opt = fmin(objective, space=parameter_space,\n",
    "#            algo=tpe.suggest, trials=trials, max_evals=100)\n",
    "# pickle.dump(trials, open(\"cat_4_tpe_100.p\", \"wb\"))"
   ]
  },
  {
   "cell_type": "code",
   "execution_count": 153,
   "metadata": {},
   "outputs": [],
   "source": [
    "# Kaggle score for cat_4_tpe_100\n",
    "\n",
    "trials = pickle.load(open(\"cat_4_tpe_100.p\", \"rb\"))"
   ]
  },
  {
   "cell_type": "code",
   "execution_count": 154,
   "metadata": {},
   "outputs": [
    {
     "data": {
      "text/plain": [
       "{'state': 2,\n",
       " 'tid': 28,\n",
       " 'spec': None,\n",
       " 'result': {'loss': -0.7766920228799185,\n",
       "  'status': 'ok',\n",
       "  'parameters': {'class_weights': None,\n",
       "   'depth': 8.0,\n",
       "   'early_stopping_rounds': 300,\n",
       "   'eval_metric': 'AUC',\n",
       "   'iterations': 500,\n",
       "   'l2_leaf_reg': 7.0,\n",
       "   'learning_rate': 0.05878812536974758,\n",
       "   'task_type': 'GPU'},\n",
       "  'std': 0.013470546010193062,\n",
       "  'fitted_model': <catboost.core.CatBoostClassifier at 0x2bf595b46a0>},\n",
       " 'misc': {'tid': 28,\n",
       "  'cmd': ('domain_attachment', 'FMinIter_Domain'),\n",
       "  'workdir': None,\n",
       "  'idxs': {'class_weights': [28],\n",
       "   'depth': [28],\n",
       "   'iterations': [28],\n",
       "   'l2_leaf_reg': [28],\n",
       "   'learning_rate': [28]},\n",
       "  'vals': {'class_weights': [0],\n",
       "   'depth': [8.0],\n",
       "   'iterations': [0],\n",
       "   'l2_leaf_reg': [7.0],\n",
       "   'learning_rate': [0.05878812536974758]}},\n",
       " 'exp_key': None,\n",
       " 'owner': None,\n",
       " 'version': 0,\n",
       " 'book_time': datetime.datetime(2021, 4, 20, 21, 44, 50, 838000),\n",
       " 'refresh_time': datetime.datetime(2021, 4, 20, 21, 46, 36, 816000)}"
      ]
     },
     "execution_count": 154,
     "metadata": {},
     "output_type": "execute_result"
    }
   ],
   "source": [
    "trials.best_trial"
   ]
  },
  {
   "cell_type": "code",
   "execution_count": 155,
   "metadata": {
    "scrolled": true
   },
   "outputs": [],
   "source": [
    "# retrieve the best fitted model\n",
    "cat_4_tpe_100 = trials.best_trial['result']['fitted_model']"
   ]
  },
  {
   "cell_type": "code",
   "execution_count": 156,
   "metadata": {},
   "outputs": [],
   "source": [
    "test = mailout_test[['D19_SOZIALES', 'EINGEFUEGT_AM', 'EXTSEL992',\n",
    "                     'VERDICHTUNGSRAUM', 'CAMEO_INTL_2015', 'CAMEO_DEU_2015']]"
   ]
  },
  {
   "cell_type": "code",
   "execution_count": 157,
   "metadata": {},
   "outputs": [],
   "source": [
    "pred_cat_4_tpe_100 = cat_4_tpe_100.predict_proba(test)"
   ]
  },
  {
   "cell_type": "code",
   "execution_count": 158,
   "metadata": {},
   "outputs": [],
   "source": [
    "df_cat4_tpe_100 = pd.DataFrame(\n",
    "    {'LNR': mailout_test['LNR'], 'RESPONSE': pred_cat_4_tpe_100[:, 1]})"
   ]
  },
  {
   "cell_type": "code",
   "execution_count": 159,
   "metadata": {},
   "outputs": [],
   "source": [
    "df_cat4_tpe_100.to_csv('redfeat_tpe_100.csv', index=False)"
   ]
  },
  {
   "cell_type": "code",
   "execution_count": 160,
   "metadata": {},
   "outputs": [],
   "source": [
    "# Kaggle score of 0.7843"
   ]
  },
  {
   "cell_type": "markdown",
   "metadata": {},
   "source": [
    "The below takes a long time to run.\n",
    "The results of the optimization are saved as a pickle file.\n",
    "The code is therefore marked as a comment to enable to run the whole notebook, without excessive time."
   ]
  },
  {
   "cell_type": "code",
   "execution_count": 161,
   "metadata": {},
   "outputs": [],
   "source": [
    "# trials=Trials()\n",
    "# opt = fmin(objective, space=parameter_space,\n",
    "#            algo=tpe.rand.suggest, trials=trials, max_evals=100)\n",
    "# pickle.dump(trials, open(\"cat_4_rnd_100.p\", \"wb\"))"
   ]
  },
  {
   "cell_type": "code",
   "execution_count": 162,
   "metadata": {},
   "outputs": [],
   "source": [
    "# Kaggle score for cat_4_rnd_100\n",
    "\n",
    "trials = pickle.load(open(\"cat_4_rnd_100.p\", \"rb\"))"
   ]
  },
  {
   "cell_type": "code",
   "execution_count": 163,
   "metadata": {},
   "outputs": [
    {
     "data": {
      "text/plain": [
       "{'state': 2,\n",
       " 'tid': 35,\n",
       " 'spec': None,\n",
       " 'result': {'loss': -0.7755987644195557,\n",
       "  'status': 'ok',\n",
       "  'parameters': {'class_weights': None,\n",
       "   'depth': 9.0,\n",
       "   'early_stopping_rounds': 300,\n",
       "   'eval_metric': 'AUC',\n",
       "   'iterations': 500,\n",
       "   'l2_leaf_reg': 5.0,\n",
       "   'learning_rate': 0.03677614050093655,\n",
       "   'task_type': 'GPU'},\n",
       "  'std': 0.01655049823619449,\n",
       "  'fitted_model': <catboost.core.CatBoostClassifier at 0x2c04842a4f0>},\n",
       " 'misc': {'tid': 35,\n",
       "  'cmd': ('domain_attachment', 'FMinIter_Domain'),\n",
       "  'workdir': None,\n",
       "  'idxs': {'class_weights': [35],\n",
       "   'depth': [35],\n",
       "   'iterations': [35],\n",
       "   'l2_leaf_reg': [35],\n",
       "   'learning_rate': [35]},\n",
       "  'vals': {'class_weights': [0],\n",
       "   'depth': [9.0],\n",
       "   'iterations': [0],\n",
       "   'l2_leaf_reg': [5.0],\n",
       "   'learning_rate': [0.03677614050093655]}},\n",
       " 'exp_key': None,\n",
       " 'owner': None,\n",
       " 'version': 0,\n",
       " 'book_time': datetime.datetime(2021, 4, 20, 18, 23, 19, 887000),\n",
       " 'refresh_time': datetime.datetime(2021, 4, 20, 18, 25, 18, 492000)}"
      ]
     },
     "execution_count": 163,
     "metadata": {},
     "output_type": "execute_result"
    }
   ],
   "source": [
    "trials.best_trial"
   ]
  },
  {
   "cell_type": "code",
   "execution_count": 164,
   "metadata": {},
   "outputs": [],
   "source": [
    "cat_4_rnd_100 = trials.best_trial['result']['fitted_model']"
   ]
  },
  {
   "cell_type": "code",
   "execution_count": 165,
   "metadata": {},
   "outputs": [],
   "source": [
    "pred_cat_4_rnd_100 = cat_4_rnd_100.predict_proba(test)"
   ]
  },
  {
   "cell_type": "code",
   "execution_count": 166,
   "metadata": {},
   "outputs": [],
   "source": [
    "df_cat4_rnd_100 = pd.DataFrame(\n",
    "    {'LNR': mailout_test['LNR'], 'RESPONSE': pred_cat_4_rnd_100[:, 1]})"
   ]
  },
  {
   "cell_type": "code",
   "execution_count": 167,
   "metadata": {},
   "outputs": [],
   "source": [
    "df_cat4_tpe_100.to_csv('redfeat_rnd_100.csv', index=False)"
   ]
  },
  {
   "cell_type": "code",
   "execution_count": 168,
   "metadata": {},
   "outputs": [],
   "source": [
    "# Kaggle score of 0.78435"
   ]
  },
  {
   "cell_type": "code",
   "execution_count": 169,
   "metadata": {},
   "outputs": [],
   "source": [
    "# let's try to tune our base model with weight\n",
    "\n",
    "parameter_space = {'iterations': hp.choice('iterations', [500, 1000, 1500, 2000]), 'learning_rate': hp.loguniform('learning_rate', np.log(0.01), np.log(0.07)),\n",
    "                   'depth': hp.quniform('depth', 6, 10, 1), 'l2_leaf_reg': hp.quniform('l2_leaf_reg', 3, 10, 1), 'eval_metric': 'AUC', 'task_type': 'CPU', 'early_stopping_rounds': 100, 'class_weights': hp.choice('class_weights', [None, [1, 50], [1, 100], [1, 150], [1, 200], [1, 300]])}"
   ]
  },
  {
   "cell_type": "code",
   "execution_count": 170,
   "metadata": {},
   "outputs": [],
   "source": [
    "trials = Trials()"
   ]
  },
  {
   "cell_type": "code",
   "execution_count": 171,
   "metadata": {},
   "outputs": [],
   "source": [
    "def objective_base(par):\n",
    "    skf = StratifiedKFold(n_splits=3)\n",
    "    auc_opt = []\n",
    "    auc_std = []\n",
    "    y = mailout_train['RESPONSE']\n",
    "    X = mailout_train.drop(['RESPONSE', 'LNR'], axis=1)\n",
    "    X['ANZ_STATISTISCHE_HAUSHALTE'].replace(\n",
    "        to_replace='unknown', value=np.nan, inplace=True)\n",
    "    X['ANZ_STATISTISCHE_HAUSHALTE'] = X['ANZ_STATISTISCHE_HAUSHALTE'].astype(\n",
    "        float)\n",
    "    cat_opt = CatBoostClassifier(**par)\n",
    "\n",
    "    cat_feat_loc = []\n",
    "    for col in X.select_dtypes('object').columns:\n",
    "        cat_feat_loc.append(X.columns.get_loc(col))\n",
    "\n",
    "    num_feat_loc = []\n",
    "    for col in X.select_dtypes(float).columns:\n",
    "        num_feat_loc.append(X.columns.get_loc(col))\n",
    "\n",
    "    for train_index, test_index in skf.split(X, y):\n",
    "        X_train, X_test = X.loc[train_index], X.loc[test_index]\n",
    "        y_train, y_test = y.loc[train_index], y.loc[test_index]\n",
    "\n",
    "        # Inpute missing numerical values for X_train with the median\n",
    "        imputer_num = SimpleImputer(strategy='median')\n",
    "        X_train_num = X_train.iloc[::, num_feat_loc]\n",
    "        X_train_num = imputer_num.fit_transform(X_train_num)\n",
    "        X_test_num = X_test.iloc[::, num_feat_loc]\n",
    "\n",
    "        # Just use transform on the test set to avoid data leakage\n",
    "        X_test_num = imputer_num.transform(X_test_num)\n",
    "\n",
    "        X_train.iloc[::, num_feat_loc] = X_train_num\n",
    "        X_test.iloc[::, num_feat_loc] = X_test_num\n",
    "\n",
    "        # Use catboost\n",
    "        cat_opt.fit(X_train, y_train, eval_set=(X_test, y_test),\n",
    "                    use_best_model=True, cat_features=cat_feat_loc, logging_level='Silent')\n",
    "\n",
    "        auc_opt.append(cat_opt.best_score_['validation']['AUC'])\n",
    "        auc_std.append(cat_opt.best_score_['validation']['AUC'])\n",
    "\n",
    "    return {'loss': -1*np.array(auc_opt).mean(), 'status': STATUS_OK, 'parameters': par, 'std': np.array(auc_std).std(), 'fitted_model': cat_opt}"
   ]
  },
  {
   "cell_type": "code",
   "execution_count": 172,
   "metadata": {},
   "outputs": [],
   "source": [
    "# opt = fmin(objective_base, space=parameter_space,\n",
    "#            algo=tpe.rand.suggest, trials=trials, max_evals=50)\n",
    "# pickle.dump(trials, open(\"cat_base_rnd50.p\", \"wb\"))"
   ]
  },
  {
   "cell_type": "code",
   "execution_count": 173,
   "metadata": {},
   "outputs": [],
   "source": [
    "trials = pickle.load(open(\"cat_base_rnd50.p\", \"rb\"))"
   ]
  },
  {
   "cell_type": "code",
   "execution_count": 174,
   "metadata": {},
   "outputs": [
    {
     "data": {
      "text/plain": [
       "{'state': 2,\n",
       " 'tid': 37,\n",
       " 'spec': None,\n",
       " 'result': {'loss': -0.7813838070685565,\n",
       "  'status': 'ok',\n",
       "  'parameters': {'class_weights': (1, 100),\n",
       "   'depth': 7.0,\n",
       "   'early_stopping_rounds': 100,\n",
       "   'eval_metric': 'AUC',\n",
       "   'iterations': 500,\n",
       "   'l2_leaf_reg': 5.0,\n",
       "   'learning_rate': 0.01291491309200495,\n",
       "   'task_type': 'CPU'},\n",
       "  'std': 0.019734415203351965,\n",
       "  'fitted_model': <catboost.core.CatBoostClassifier at 0x2bec3c7a220>},\n",
       " 'misc': {'tid': 37,\n",
       "  'cmd': ('domain_attachment', 'FMinIter_Domain'),\n",
       "  'workdir': None,\n",
       "  'idxs': {'class_weights': [37],\n",
       "   'depth': [37],\n",
       "   'iterations': [37],\n",
       "   'l2_leaf_reg': [37],\n",
       "   'learning_rate': [37]},\n",
       "  'vals': {'class_weights': [2],\n",
       "   'depth': [7.0],\n",
       "   'iterations': [0],\n",
       "   'l2_leaf_reg': [5.0],\n",
       "   'learning_rate': [0.01291491309200495]}},\n",
       " 'exp_key': None,\n",
       " 'owner': None,\n",
       " 'version': 0,\n",
       " 'book_time': datetime.datetime(2021, 4, 22, 18, 26, 43, 346000),\n",
       " 'refresh_time': datetime.datetime(2021, 4, 22, 18, 34, 48, 663000)}"
      ]
     },
     "execution_count": 174,
     "metadata": {},
     "output_type": "execute_result"
    }
   ],
   "source": [
    "trials.best_trial"
   ]
  },
  {
   "cell_type": "code",
   "execution_count": 175,
   "metadata": {},
   "outputs": [],
   "source": [
    "cat_base_rnd50=trials.best_trial['result']['fitted_model']"
   ]
  },
  {
   "cell_type": "code",
   "execution_count": 176,
   "metadata": {},
   "outputs": [],
   "source": [
    "test = mailout_test.drop('LNR', axis=1)\n",
    "test['ANZ_STATISTISCHE_HAUSHALTE'].replace(\n",
    "    to_replace='unknown', value=np.nan, inplace=True)\n",
    "test['ANZ_STATISTISCHE_HAUSHALTE'] = test['ANZ_STATISTISCHE_HAUSHALTE'].astype(\n",
    "    float)\n",
    "\n",
    "pred_cat_base_rnd50 = cat_base_rnd50.predict_proba(test)\n",
    "\n",
    "df_cat_base_rnd50 = pd.DataFrame(\n",
    "    {'LNR': mailout_test['LNR'], 'RESPONSE': pred_cat_base_rnd50[:, 1]})\n",
    "df_cat_base_rnd50.to_csv('cat_base_rnd50.csv', index=False)"
   ]
  },
  {
   "cell_type": "code",
   "execution_count": 177,
   "metadata": {},
   "outputs": [],
   "source": [
    "# Kaggle score 0.80612. This is the best submission and ranks 30 out of 361."
   ]
  },
  {
   "cell_type": "markdown",
   "metadata": {},
   "source": [
    "The below code runs features permutation analysis and save the results as a csv file.\n",
    "It takes quite some time to run on my computer\n",
    "The code is therefore marked as a comment to enable to run the whole notebook, without excessive time."
   ]
  },
  {
   "cell_type": "code",
   "execution_count": 178,
   "metadata": {},
   "outputs": [],
   "source": [
    "# base_AUC = roc_auc_score(y_test, cat_base_rnd50.predict_proba(X_test)[:, 1])\n",
    "\n",
    "# imp = {}\n",
    "\n",
    "# for feat in X_test.columns:\n",
    "#     mean = []\n",
    "#     for i in range(5):\n",
    "#         imp_test = X_test.copy()\n",
    "#         imp_test.reset_index(drop=True, inplace=True)\n",
    "#         imp_test.loc[:, feat] = imp_test[feat].sample(\n",
    "#             frac=1).reset_index(drop=True)\n",
    "#         mean.append(roc_auc_score(y_test, cat_base_rnd50.predict_proba(imp_test)[:, 1]))\n",
    "#     imp[feat] = base_AUC-np.array(mean).mean()\n",
    "   \n",
    "    \n",
    "# importance_cat_base_rnd50 = pd.Series(imp)\n",
    "# importance_cat_base_rnd50.sort_values(ascending=False, inplace=True)\n",
    "\n",
    "# # We save the file as it took a long time to compute\n",
    "# importance_cat_base_rnd50.to_csv('Feature_imp_cat_base_rnd50.csv')"
   ]
  },
  {
   "cell_type": "code",
   "execution_count": 179,
   "metadata": {},
   "outputs": [],
   "source": [
    "importance_cat_base_rnd50=pd.read_csv('Feature_imp_cat_base_rnd50.csv',header=0,names=['Feature','Importance'])"
   ]
  },
  {
   "cell_type": "code",
   "execution_count": 180,
   "metadata": {
    "scrolled": true
   },
   "outputs": [
    {
     "data": {
      "text/html": [
       "<div>\n",
       "<style scoped>\n",
       "    .dataframe tbody tr th:only-of-type {\n",
       "        vertical-align: middle;\n",
       "    }\n",
       "\n",
       "    .dataframe tbody tr th {\n",
       "        vertical-align: top;\n",
       "    }\n",
       "\n",
       "    .dataframe thead th {\n",
       "        text-align: right;\n",
       "    }\n",
       "</style>\n",
       "<table border=\"1\" class=\"dataframe\">\n",
       "  <thead>\n",
       "    <tr style=\"text-align: right;\">\n",
       "      <th></th>\n",
       "      <th>Feature</th>\n",
       "      <th>Importance</th>\n",
       "    </tr>\n",
       "  </thead>\n",
       "  <tbody>\n",
       "    <tr>\n",
       "      <th>0</th>\n",
       "      <td>D19_SOZIALES</td>\n",
       "      <td>0.198505</td>\n",
       "    </tr>\n",
       "    <tr>\n",
       "      <th>1</th>\n",
       "      <td>D19_KONSUMTYP_MAX</td>\n",
       "      <td>0.006600</td>\n",
       "    </tr>\n",
       "    <tr>\n",
       "      <th>2</th>\n",
       "      <td>KBA05_KRSHERST3</td>\n",
       "      <td>0.006152</td>\n",
       "    </tr>\n",
       "    <tr>\n",
       "      <th>3</th>\n",
       "      <td>KBA13_HERST_EUROPA</td>\n",
       "      <td>0.004832</td>\n",
       "    </tr>\n",
       "    <tr>\n",
       "      <th>4</th>\n",
       "      <td>RT_SCHNAEPPCHEN</td>\n",
       "      <td>0.004449</td>\n",
       "    </tr>\n",
       "    <tr>\n",
       "      <th>5</th>\n",
       "      <td>VHN</td>\n",
       "      <td>0.004215</td>\n",
       "    </tr>\n",
       "    <tr>\n",
       "      <th>6</th>\n",
       "      <td>WOHNLAGE</td>\n",
       "      <td>0.004198</td>\n",
       "    </tr>\n",
       "    <tr>\n",
       "      <th>7</th>\n",
       "      <td>SEMIO_RAT</td>\n",
       "      <td>0.003953</td>\n",
       "    </tr>\n",
       "    <tr>\n",
       "      <th>8</th>\n",
       "      <td>KBA13_KW_60</td>\n",
       "      <td>0.003922</td>\n",
       "    </tr>\n",
       "    <tr>\n",
       "      <th>9</th>\n",
       "      <td>KBA13_OPEL</td>\n",
       "      <td>0.003739</td>\n",
       "    </tr>\n",
       "    <tr>\n",
       "      <th>10</th>\n",
       "      <td>KBA13_BJ_2008</td>\n",
       "      <td>0.003605</td>\n",
       "    </tr>\n",
       "  </tbody>\n",
       "</table>\n",
       "</div>"
      ],
      "text/plain": [
       "               Feature  Importance\n",
       "0         D19_SOZIALES    0.198505\n",
       "1    D19_KONSUMTYP_MAX    0.006600\n",
       "2      KBA05_KRSHERST3    0.006152\n",
       "3   KBA13_HERST_EUROPA    0.004832\n",
       "4      RT_SCHNAEPPCHEN    0.004449\n",
       "5                  VHN    0.004215\n",
       "6             WOHNLAGE    0.004198\n",
       "7            SEMIO_RAT    0.003953\n",
       "8          KBA13_KW_60    0.003922\n",
       "9           KBA13_OPEL    0.003739\n",
       "10       KBA13_BJ_2008    0.003605"
      ]
     },
     "execution_count": 180,
     "metadata": {},
     "output_type": "execute_result"
    }
   ],
   "source": [
    "importance_cat_base_rnd50[importance_cat_base_rnd50['Importance']>0].iloc[:11]"
   ]
  },
  {
   "cell_type": "markdown",
   "metadata": {},
   "source": [
    "##### Part 3: Kaggle Competition\n",
    "\n",
    "Now that you've created a model to predict which individuals are most likely to respond to a mailout campaign, it's time to test that model in competition through Kaggle. If you click on the link [here](http://www.kaggle.com/t/21e6d45d4c574c7fa2d868f0e8c83140), you'll be taken to the competition page where, if you have a Kaggle account, you can enter. If you're one of the top performers, you may have the chance to be contacted by a hiring manager from Arvato or Bertelsmann for an interview!\n",
    "\n",
    "Your entry to the competition should be a CSV file with two columns. The first column should be a copy of \"LNR\", which acts as an ID number for each individual in the \"TEST\" partition. The second column, \"RESPONSE\", should be some measure of how likely each individual became a customer – this might not be a straightforward probability. As you should have found in Part 2, there is a large output class imbalance, where most individuals did not respond to the mailout. Thus, predicting individual classes and using accuracy does not seem to be an appropriate performance evaluation method. Instead, the competition will be using AUC to evaluate performance. The exact values of the \"RESPONSE\" column do not matter as much: only that the higher values try to capture as many of the actual customers as possible, early in the ROC curve sweep."
   ]
  }
 ],
 "metadata": {
  "kernelspec": {
   "display_name": "Python 3",
   "language": "python",
   "name": "python3"
  },
  "language_info": {
   "codemirror_mode": {
    "name": "ipython",
    "version": 3
   },
   "file_extension": ".py",
   "mimetype": "text/x-python",
   "name": "python",
   "nbconvert_exporter": "python",
   "pygments_lexer": "ipython3",
   "version": "3.8.8"
  },
  "varInspector": {
   "cols": {
    "lenName": 16,
    "lenType": 16,
    "lenVar": 40
   },
   "kernels_config": {
    "python": {
     "delete_cmd_postfix": "",
     "delete_cmd_prefix": "del ",
     "library": "var_list.py",
     "varRefreshCmd": "print(var_dic_list())"
    },
    "r": {
     "delete_cmd_postfix": ") ",
     "delete_cmd_prefix": "rm(",
     "library": "var_list.r",
     "varRefreshCmd": "cat(var_dic_list()) "
    }
   },
   "position": {
    "height": "305px",
    "left": "1563px",
    "right": "20px",
    "top": "120px",
    "width": "337px"
   },
   "types_to_exclude": [
    "module",
    "function",
    "builtin_function_or_method",
    "instance",
    "_Feature"
   ],
   "window_display": false
  }
 },
 "nbformat": 4,
 "nbformat_minor": 2
}
